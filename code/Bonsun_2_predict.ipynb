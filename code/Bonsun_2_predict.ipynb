{
 "cells": [
  {
   "cell_type": "code",
   "execution_count": 623,
   "metadata": {},
   "outputs": [],
   "source": [
    "from sklearn.ensemble import RandomForestClassifier\n",
    "from xgboost import XGBClassifier\n",
    "from sklearn.tree import DecisionTreeClassifier\n",
    "from sklearn.ensemble import ExtraTreesClassifier\n",
    "import lightgbm as lgb\n",
    "import catboost as cb\n",
    "\n",
    "from sklearn.model_selection import train_test_split\n",
    "from sklearn.metrics import classification_report\n",
    "\n",
    "from sklearn.preprocessing import LabelEncoder\n",
    "\n",
    "# default module\n",
    "import pandas as pd\n",
    "import numpy as np\n",
    "import matplotlib\n",
    "import seaborn as sns\n",
    "import copy\n",
    "\n",
    "import datetime\n",
    "import time \n",
    "\n",
    "from sklearn.model_selection import KFold"
   ]
  },
  {
   "cell_type": "code",
   "execution_count": 624,
   "metadata": {},
   "outputs": [],
   "source": [
    "import warnings\n",
    "warnings.filterwarnings('ignore')"
   ]
  },
  {
   "cell_type": "code",
   "execution_count": 625,
   "metadata": {},
   "outputs": [],
   "source": [
    "## utils\n",
    "\n",
    "def select_important_feautre(columns, feature_importance, num):\n",
    "    \n",
    "    #딕셔너리\n",
    "    dic = {}\n",
    "    for value in [list(v) for v in zip(columns, feature_importance)]:\n",
    "        dic[str(value[1])] = value[0] \n",
    "    \n",
    "    #피처 중요도\n",
    "    f_i = list(feature_importance)\n",
    "    f_i.sort(reverse=True)\n",
    "    \n",
    "    \n",
    "    #n개 뽑기\n",
    "    result = []\n",
    "    for i in range(0, num):\n",
    "        result.append(dic[str(f_i[i])])\n",
    "    \n",
    "    return result"
   ]
  },
  {
   "cell_type": "code",
   "execution_count": 626,
   "metadata": {},
   "outputs": [],
   "source": [
    "def cross_val_score_custom(model, x, y, cv, dev = 0):\n",
    "    \n",
    "    print('\\n\\n')\n",
    "    \n",
    "    result = []\n",
    "    \n",
    "    for train_idx, test_idx in cv.split(x):\n",
    "        \n",
    "        new_x_train = x.iloc[train_idx, :]\n",
    "        new_y_train = y.iloc[train_idx]\n",
    "        \n",
    "        new_x_test = x.iloc[test_idx, :]\n",
    "        new_y_test = y.iloc[test_idx]\n",
    "        \n",
    "        model.fit(new_x_train, new_y_train)\n",
    "        \n",
    "        temp = np.mean(f1_score(new_y_test, model.predict(new_x_test), average=None))\n",
    "        \n",
    "        if dev:\n",
    "            print('dev Mode # : {}'.format(temp))\n",
    "        \n",
    "        result.append(temp)\n",
    "    \n",
    "    print('\\n\\n')\n",
    "    \n",
    "    return np.mean(result)"
   ]
  },
  {
   "cell_type": "code",
   "execution_count": 627,
   "metadata": {},
   "outputs": [],
   "source": [
    "def get_oof(model, x_train, y_train, x_test, k):\n",
    "    \n",
    "    le = LabelEncoder()\n",
    "    le.fit(y_train)\n",
    "    y_train = pd.Series(le.transform(y_train))\n",
    "    \n",
    "    oof_train = np.zeros((x_train.shape[0],))\n",
    "    oof_test = np.zeros((x_test.shape[0],))\n",
    "    oof_test_skf = np.empty((k, x_test.shape[0]))\n",
    "    \n",
    "    for i, (train_idx, test_idx) in enumerate(KFold(n_splits=k).split(x_train)):\n",
    "        \n",
    "        print(i, sep=' ')\n",
    "        \n",
    "        x_tr = x_train.iloc[train_idx, :]\n",
    "        y_tr = y_train.iloc[train_idx]\n",
    "        x_te = x_train.iloc[test_idx, :]\n",
    "        \n",
    "        model.fit(x_tr, y_tr)\n",
    "\n",
    "        oof_train[test_idx] = model.predict(x_te)\n",
    "        oof_test_skf[i, :] = model.predict(x_test)\n",
    "    \n",
    "    # version 1\n",
    "    # oof_test[:] = np.round(oof_test_skf.mean(axis=0))\n",
    "    \n",
    "    # version 2\n",
    "    oof_test[:] = pd.DataFrame(oof_test_skf).apply(lambda v: v.value_counts().idxmax(), axis=0)\n",
    "    \n",
    "    oof_train = [int(v) for v in oof_train]\n",
    "    oof_train = le.inverse_transform(oof_train)\n",
    "    \n",
    "    oof_test = [int(v) for v in oof_test]\n",
    "    oof_test = le.inverse_transform(oof_test)\n",
    "    \n",
    "    return oof_train.reshape(-1,1), oof_test.reshape(-1,1)"
   ]
  },
  {
   "cell_type": "code",
   "execution_count": 628,
   "metadata": {},
   "outputs": [],
   "source": [
    "def remove_outlier(data, percent):\n",
    "    data = data.copy()\n",
    "    thres = data.quantile([percent])\n",
    "    \n",
    "    for col in data:\n",
    "        if data[col].dtype == float or data[col].dtype == int:\n",
    "            data.loc[data[col] > thres[col].values[0], col] = thres[col].values[0]\n",
    "    \n",
    "    return data"
   ]
  },
  {
   "cell_type": "code",
   "execution_count": 629,
   "metadata": {},
   "outputs": [],
   "source": [
    "def show_feature_plot(data, col_name, log = False):\n",
    "\n",
    "    if log:\n",
    "        sns.distplot(np.log(data[col_name][data.is_mal == 0] + 1), color='blue')\n",
    "        sns.distplot(np.log(data[col_name][data.is_mal == 1] + 1), color='red')\n",
    "    \n",
    "    else:\n",
    "        sns.distplot(data[col_name][data.is_mal == 0], color='blue')\n",
    "        sns.distplot(data[col_name][data.is_mal == 1], color='red')"
   ]
  },
  {
   "cell_type": "code",
   "execution_count": 631,
   "metadata": {},
   "outputs": [],
   "source": [
    "def feature_engineerings(dataset):\n",
    "    dataset = dataset.copy()\n",
    "    \n",
    "    dataset.AddressOfEntryPoint = np.log(dataset.AddressOfEntryPoint + 1)\n",
    "    dataset.AddressOfEntryPoint = dataset.AddressOfEntryPoint.map(temp)\n",
    "    \n",
    "#     dataset['year'] = dataset.TimeDateStamp.map(get_year)\n",
    "#     dataset['mon'] = dataset.TimeDateStamp.map(get_mon)\n",
    "#     dataset['year'] = dataset.TimeDateStamp.map(get_year)\n",
    "#     dataset['year'] = dataset.TimeDateStamp.map(get_year)\n",
    "    return dataset"
   ]
  },
  {
   "cell_type": "code",
   "execution_count": 632,
   "metadata": {},
   "outputs": [],
   "source": [
    "def temp(v):\n",
    "    if v <= 5:\n",
    "        return 0\n",
    "    elif v <=8.5:\n",
    "        return 1\n",
    "    elif v <= 12:\n",
    "        return 2\n",
    "    else:\n",
    "        return 3"
   ]
  },
  {
   "cell_type": "code",
   "execution_count": 633,
   "metadata": {},
   "outputs": [],
   "source": [
    "def get_year(v):\n",
    "    year = time.gmtime(v).tm_year\n",
    "    return year"
   ]
  },
  {
   "cell_type": "code",
   "execution_count": 634,
   "metadata": {},
   "outputs": [],
   "source": [
    "def get_mon(v):\n",
    "    mon = time.gmtime(v).tm_mon\n",
    "    return mon"
   ]
  },
  {
   "cell_type": "code",
   "execution_count": 635,
   "metadata": {},
   "outputs": [],
   "source": [
    "def get_day(v):\n",
    "    day = time.gmtime(v).tm_mday\n",
    "    return day"
   ]
  },
  {
   "cell_type": "code",
   "execution_count": 636,
   "metadata": {},
   "outputs": [],
   "source": [
    "def get_hour(v):\n",
    "    hour = time.gmtime(v).tm_hour\n",
    "    return hour"
   ]
  },
  {
   "cell_type": "code",
   "execution_count": 637,
   "metadata": {},
   "outputs": [],
   "source": [
    "## data load\n",
    "\n",
    "x_data_train_raw = pd.read_csv('./data_train.csv').drop(['hash'], axis=1)#.iloc[:,:-100]#.astype(int)\n",
    "x_data_yesun_raw = pd.read_csv('./data_yesun.csv').drop(['hash'], axis=1)#.iloc[:,:-100]#.astype(int)\n",
    "x_data_bonsun1_raw = pd.read_csv('./data_bonsun1.csv').drop(['hash'], axis=1)\n",
    "\n",
    "y_data_train = pd.read_excel('./result_train/label.xlsx').sort_values(by='hash')\n",
    "label_train = y_data_train['hash'].to_frame()\n",
    "is_mal_train = y_data_train['is_mal'].to_frame()\n",
    "\n",
    "y_data_yesun = pd.read_excel('./result_yesun/label.xlsx').sort_values(by='hash')\n",
    "label_yesun = y_data_yesun['hash'].to_frame()\n",
    "is_mal_yesun = y_data_yesun['is_mal'].to_frame()\n",
    "\n",
    "y_data_bonsun1 = pd.read_csv('./result_bonsun_1/label.csv').sort_values(by='hash')\n",
    "label_bonsun1 = y_data_bonsun1['hash'].to_frame()\n",
    "is_mal_bonsun1 = y_data_bonsun1['is_mal'].to_frame()"
   ]
  },
  {
   "cell_type": "code",
   "execution_count": 638,
   "metadata": {},
   "outputs": [],
   "source": [
    "x_data_train = copy.copy(x_data_train_raw)\n",
    "x_data_yesun = copy.copy(x_data_yesun_raw)\n",
    "x_data_bonsun1 = copy.copy(x_data_bonsun1_raw)"
   ]
  },
  {
   "cell_type": "code",
   "execution_count": 557,
   "metadata": {},
   "outputs": [],
   "source": [
    "# x_data_train = pd.concat([x_data_train, is_mal_train], axis = 1)\n",
    "# x_data_yesun = pd.concat([x_data_yesun, is_mal_yesun], axis = 1)"
   ]
  },
  {
   "cell_type": "code",
   "execution_count": 558,
   "metadata": {},
   "outputs": [],
   "source": [
    "x_data_train = feature_engineerings(x_data_train)\n",
    "x_data_yesun = feature_engineerings(x_data_yesun)\n",
    "x_data_bonsun1 = feature_engineerings(x_data_bonsun1)"
   ]
  },
  {
   "cell_type": "code",
   "execution_count": 559,
   "metadata": {},
   "outputs": [],
   "source": [
    "x_data_con = pd.concat([x_data_train, x_data_yesun])\n",
    "is_mal_con = pd.concat([is_mal_train, is_mal_yesun])"
   ]
  },
  {
   "cell_type": "code",
   "execution_count": 560,
   "metadata": {},
   "outputs": [],
   "source": [
    "# ae_con = pd.read_csv('./ae_con.csv')\n",
    "# ae_bonsun1 = pd.read_csv('./ae_bonsun1.csv')"
   ]
  },
  {
   "cell_type": "code",
   "execution_count": 561,
   "metadata": {},
   "outputs": [],
   "source": [
    "# x_data_con = pd.merge(x_data_con, ae_con, on='hash', how='left').drop(['hash'], axis = 1)\n",
    "# x_data_bonsun1 = pd.merge(x_data_bonsun1, ae_bonsun1, on='hash', how='left').drop(['hash'], axis = 1)"
   ]
  },
  {
   "cell_type": "code",
   "execution_count": 562,
   "metadata": {},
   "outputs": [],
   "source": [
    "# x_data_con = x_data_con.fillna(0)\n",
    "# x_data_bonsun1 = x_data_bonsun1.fillna(0)"
   ]
  },
  {
   "cell_type": "code",
   "execution_count": 563,
   "metadata": {},
   "outputs": [],
   "source": [
    "# x_data_train = remove_outlier(x_data_train, 0.9)\n",
    "# x_data_yesun = remove_outlier(x_data_yesun, 0.9)"
   ]
  },
  {
   "cell_type": "code",
   "execution_count": 564,
   "metadata": {},
   "outputs": [
    {
     "data": {
      "text/plain": [
       "RandomForestClassifier(bootstrap=True, class_weight=None, criterion='gini',\n",
       "            max_depth=28, max_features='auto', max_leaf_nodes=None,\n",
       "            min_impurity_decrease=0.0, min_impurity_split=None,\n",
       "            min_samples_leaf=1, min_samples_split=2,\n",
       "            min_weight_fraction_leaf=0.0, n_estimators=500, n_jobs=-1,\n",
       "            oob_score=False, random_state=42, verbose=0, warm_start=False)"
      ]
     },
     "execution_count": 564,
     "metadata": {},
     "output_type": "execute_result"
    }
   ],
   "source": [
    "rf = RandomForestClassifier(n_estimators=500, random_state=42, n_jobs=-1, max_depth=28, bootstrap=True)\n",
    "rf.fit(x_data_con, is_mal_con)"
   ]
  },
  {
   "cell_type": "code",
   "execution_count": 565,
   "metadata": {
    "scrolled": true
   },
   "outputs": [
    {
     "name": "stdout",
     "output_type": "stream",
     "text": [
      "0.99965\n",
      "0.9514584479911943\n"
     ]
    }
   ],
   "source": [
    "print(rf.score(x_data_con, is_mal_con))\n",
    "print(rf.score(x_data_bonsun1, is_mal_bonsun1))"
   ]
  },
  {
   "cell_type": "code",
   "execution_count": 566,
   "metadata": {},
   "outputs": [],
   "source": [
    "values = np.array([list(v) for v in sorted(zip(x_data_con.columns, rf.feature_importances_), key=lambda x: x[1] * -1)])\n",
    "imp = pd.DataFrame(values[:,1], index = values[:,0], columns=[\"feature_importance\"])\n",
    "imp.feature_importance = imp.feature_importance.astype(float)"
   ]
  },
  {
   "cell_type": "code",
   "execution_count": 567,
   "metadata": {},
   "outputs": [
    {
     "data": {
      "text/plain": [
       "<matplotlib.axes._subplots.AxesSubplot at 0x23e023dadd8>"
      ]
     },
     "execution_count": 567,
     "metadata": {},
     "output_type": "execute_result"
    },
    {
     "data": {
      "image/png": "[encoded data removed]",
      "text/plain": [
       "<Figure size 1008x576 with 1 Axes>"
      ]
     },
     "metadata": {
      "needs_background": "light"
     },
     "output_type": "display_data"
    },
    {
     "data": {
      "image/png": "[encoded data removed]",
      "text/plain": [
       "<Figure size 1008x576 with 1 Axes>"
      ]
     },
     "metadata": {
      "needs_background": "light"
     },
     "output_type": "display_data"
    }
   ],
   "source": [
    "num = 300\n",
    "imp.plot(figsize=(14,8), grid=True, xlim=(-1,num))\n",
    "imp.plot(figsize=(14,8), grid=True, xlim=(num,len(x_data_train.columns)))"
   ]
  },
  {
   "cell_type": "code",
   "execution_count": 568,
   "metadata": {},
   "outputs": [
    {
     "data": {
      "text/plain": [
       "RandomForestClassifier(bootstrap=True, class_weight=None, criterion='gini',\n",
       "            max_depth=28, max_features='auto', max_leaf_nodes=None,\n",
       "            min_impurity_decrease=0.0, min_impurity_split=None,\n",
       "            min_samples_leaf=1, min_samples_split=2,\n",
       "            min_weight_fraction_leaf=0.0, n_estimators=500, n_jobs=-1,\n",
       "            oob_score=False, random_state=42, verbose=0, warm_start=False)"
      ]
     },
     "execution_count": 568,
     "metadata": {},
     "output_type": "execute_result"
    }
   ],
   "source": [
    "x_data_t = x_data_con[imp.index[:num]]\n",
    "rf = RandomForestClassifier(n_estimators=500, random_state=42, n_jobs=-1, max_depth=28)\n",
    "rf.fit(x_data_t, is_mal_con)"
   ]
  },
  {
   "cell_type": "code",
   "execution_count": 569,
   "metadata": {},
   "outputs": [
    {
     "name": "stdout",
     "output_type": "stream",
     "text": [
      "0.9517886626307099\n"
     ]
    }
   ],
   "source": [
    "print(rf.score(x_data_bonsun1[imp.index[:num]], is_mal_bonsun1))"
   ]
  },
  {
   "cell_type": "code",
   "execution_count": 570,
   "metadata": {},
   "outputs": [],
   "source": [
    "x_data_con = x_data_con[imp.index[:num]]\n",
    "x_data_bonsun1 = x_data_bonsun1[imp.index[:num]]"
   ]
  },
  {
   "cell_type": "code",
   "execution_count": 652,
   "metadata": {},
   "outputs": [],
   "source": [
    "x_data_bonsun1 = x_data_bonsun1[imp.index[:num]]"
   ]
  },
  {
   "cell_type": "code",
   "execution_count": 435,
   "metadata": {},
   "outputs": [
    {
     "name": "stdout",
     "output_type": "stream",
     "text": [
      "Fitting 3 folds for each of 25 candidates, totalling 75 fits\n"
     ]
    },
    {
     "name": "stderr",
     "output_type": "stream",
     "text": [
      "[Parallel(n_jobs=-1)]: Using backend LokyBackend with 8 concurrent workers.\n",
      "[Parallel(n_jobs=-1)]: Done  25 tasks      | elapsed:  1.6min\n",
      "[Parallel(n_jobs=-1)]: Done  75 out of  75 | elapsed:  4.1min finished\n"
     ]
    },
    {
     "name": "stdout",
     "output_type": "stream",
     "text": [
      "{'max_depth': 100, 'max_features': 'sqrt', 'min_samples_leaf': 1, 'min_samples_split': 2, 'n_estimators': 300}\n"
     ]
    },
    {
     "data": {
      "text/plain": [
       "0.95825"
      ]
     },
     "execution_count": 435,
     "metadata": {},
     "output_type": "execute_result"
    }
   ],
   "source": [
    "# RANDOMFOREST\n",
    "import numpy as np\n",
    "from sklearn.ensemble import RandomForestClassifier\n",
    "\n",
    "from sklearn.model_selection import GridSearchCV\n",
    "\n",
    "# Number of trees in random forest\n",
    "n_estimators = [int(x) for x in np.linspace(start = 100, stop = 500, num = 5)]\n",
    "\n",
    "# Number of features to consider at every split\n",
    "max_features = ['sqrt']\n",
    "\n",
    "# Maximum number of levels in tree\n",
    "max_depth = [60,70,80,90,100] #40,50\n",
    "#int(x) for x in np.linspace(10, 30, num = 3)\n",
    "# Minimum number of samples required to split a node\n",
    "min_samples_split = [2] #10 \n",
    "\n",
    "# Minimum number of samples required at each leaf node\n",
    "min_samples_leaf = [1] #4\n",
    "\n",
    "\n",
    "# Create the random grid\n",
    "param_grid = {'n_estimators': n_estimators,\n",
    "               'max_features': max_features,\n",
    "               'max_depth': max_depth,\n",
    "               'min_samples_split': min_samples_split,\n",
    "               'min_samples_leaf': min_samples_leaf}\n",
    "\n",
    "# Create a based model\n",
    "clf = RandomForestClassifier()\n",
    "\n",
    "# Instantiate the grid search model\n",
    "grid_search2 = GridSearchCV(estimator = clf, param_grid = param_grid,scoring='accuracy',\n",
    "                          cv = 3, n_jobs = -1, verbose = 2)\n",
    "grid_search2.fit(x_data_con, is_mal_con)\n",
    "\n",
    "print(grid_search2.best_params_)\n",
    "best_grid = grid_search2.best_estimator_\n",
    "grid_search2.best_score_ #0.947"
   ]
  },
  {
   "cell_type": "code",
   "execution_count": 436,
   "metadata": {},
   "outputs": [
    {
     "data": {
      "text/plain": [
       "RandomForestClassifier(bootstrap=True, class_weight=None, criterion='gini',\n",
       "            max_depth=100, max_features='sqrt', max_leaf_nodes=None,\n",
       "            min_impurity_decrease=0.0, min_impurity_split=None,\n",
       "            min_samples_leaf=1, min_samples_split=2,\n",
       "            min_weight_fraction_leaf=0.0, n_estimators=300, n_jobs=None,\n",
       "            oob_score=False, random_state=None, verbose=0,\n",
       "            warm_start=False)"
      ]
     },
     "execution_count": 436,
     "metadata": {},
     "output_type": "execute_result"
    }
   ],
   "source": [
    "best_grid"
   ]
  },
  {
   "cell_type": "code",
   "execution_count": null,
   "metadata": {},
   "outputs": [],
   "source": []
  },
  {
   "cell_type": "code",
   "execution_count": null,
   "metadata": {},
   "outputs": [],
   "source": []
  },
  {
   "cell_type": "code",
   "execution_count": null,
   "metadata": {},
   "outputs": [],
   "source": []
  },
  {
   "cell_type": "code",
   "execution_count": null,
   "metadata": {},
   "outputs": [],
   "source": [
    "x_data_bonsun1 = x_data_"
   ]
  },
  {
   "cell_type": "code",
   "execution_count": 360,
   "metadata": {},
   "outputs": [],
   "source": [
    "xgb = XGBClassifier(base_score=0.5, booster='gbtree', colsample_bylevel=1,\n",
    "       colsample_bytree=1, colsample_bytreeb=0.8, gamma=0,\n",
    "       learning_rate=0.1, max_delta_step=0, max_depth=10,\n",
    "       min_child_weight=1, missing=None, n_estimators=600, n_jobs=-1,\n",
    "       nthread=4, objective='binary:logistic', random_state=0, reg_alpha=0,\n",
    "       reg_lambda=1, scale_pos_weight=1, seed=None, silent=True,\n",
    "       subsample=0.8)"
   ]
  },
  {
   "cell_type": "code",
   "execution_count": 582,
   "metadata": {},
   "outputs": [
    {
     "data": {
      "text/plain": [
       "XGBClassifier(base_score=0.5, booster='gbtree', colsample_bylevel=1,\n",
       "       colsample_bytree=1, colsample_bytreeb=0.8, gamma=0,\n",
       "       learning_rate=0.1, max_delta_step=0, max_depth=10,\n",
       "       min_child_weight=1, missing=None, n_estimators=600, n_jobs=1,\n",
       "       nthread=1, objective='binary:logistic', random_state=0, reg_alpha=0,\n",
       "       reg_lambda=1, scale_pos_weight=1, seed=None, silent=True,\n",
       "       subsample=0.8)"
      ]
     },
     "execution_count": 582,
     "metadata": {},
     "output_type": "execute_result"
    }
   ],
   "source": [
    "xgb.fit(x_data_con, y_data_con)"
   ]
  },
  {
   "cell_type": "code",
   "execution_count": 583,
   "metadata": {},
   "outputs": [],
   "source": [
    "light_gbm = lgb.LGBMClassifier(boosting_type='gbdt', class_weight=None, colsample_bytree=1.0,\n",
    "        importance_type='split', learning_rate=0.009, max_depth=-1,\n",
    "        min_child_samples=20, min_child_weight=0.001, min_data_in_leaf=30,\n",
    "        min_split_gain=0.0, n_estimators=1400, n_jobs=-1, num_leaves=90,\n",
    "        objective='binary', random_state=None, reg_alpha=0.0,\n",
    "        reg_lambda=0.0, silent=True, subsample=1.0,\n",
    "        subsample_for_bin=200000, subsample_freq=0)"
   ]
  },
  {
   "cell_type": "code",
   "execution_count": 585,
   "metadata": {},
   "outputs": [
    {
     "data": {
      "text/plain": [
       "LGBMClassifier(boosting_type='gbdt', class_weight=None, colsample_bytree=1.0,\n",
       "        importance_type='split', learning_rate=0.009, max_depth=-1,\n",
       "        min_child_samples=20, min_child_weight=0.001, min_data_in_leaf=30,\n",
       "        min_split_gain=0.0, n_estimators=1400, n_jobs=-1, num_leaves=90,\n",
       "        objective='binary', random_state=None, reg_alpha=0.0,\n",
       "        reg_lambda=0.0, silent=True, subsample=1.0,\n",
       "        subsample_for_bin=200000, subsample_freq=0)"
      ]
     },
     "execution_count": 585,
     "metadata": {},
     "output_type": "execute_result"
    }
   ],
   "source": [
    "light_gbm.fit(x_data_con, y_data_con)"
   ]
  },
  {
   "cell_type": "code",
   "execution_count": 586,
   "metadata": {},
   "outputs": [],
   "source": [
    "rf = RandomForestClassifier(bootstrap=True, class_weight=None, criterion='gini',\n",
    "            max_depth=28, max_features='auto', max_leaf_nodes=None,\n",
    "            min_impurity_decrease=0.0, min_impurity_split=None,\n",
    "            min_samples_leaf=1, min_samples_split=2,\n",
    "            min_weight_fraction_leaf=0.0, n_estimators=500, n_jobs=-1,\n",
    "            oob_score=False, random_state=42, verbose=0, warm_start=False)"
   ]
  },
  {
   "cell_type": "code",
   "execution_count": 587,
   "metadata": {},
   "outputs": [
    {
     "data": {
      "text/plain": [
       "RandomForestClassifier(bootstrap=True, class_weight=None, criterion='gini',\n",
       "            max_depth=28, max_features='auto', max_leaf_nodes=None,\n",
       "            min_impurity_decrease=0.0, min_impurity_split=None,\n",
       "            min_samples_leaf=1, min_samples_split=2,\n",
       "            min_weight_fraction_leaf=0.0, n_estimators=500, n_jobs=-1,\n",
       "            oob_score=False, random_state=42, verbose=0, warm_start=False)"
      ]
     },
     "execution_count": 587,
     "metadata": {},
     "output_type": "execute_result"
    }
   ],
   "source": [
    "rf.fit(x_data_con, y_data_con)"
   ]
  },
  {
   "cell_type": "code",
   "execution_count": null,
   "metadata": {},
   "outputs": [],
   "source": []
  },
  {
   "cell_type": "code",
   "execution_count": 653,
   "metadata": {},
   "outputs": [
    {
     "data": {
      "text/plain": [
       "0.9517886626307099"
      ]
     },
     "execution_count": 653,
     "metadata": {},
     "output_type": "execute_result"
    }
   ],
   "source": [
    "rf.score(x_data_bonsun1, is_mal_bonsun1)"
   ]
  },
  {
   "cell_type": "code",
   "execution_count": null,
   "metadata": {},
   "outputs": [],
   "source": [
    "rf.score(x_data_bonsun1, is_mal_bonsun1)"
   ]
  },
  {
   "cell_type": "code",
   "execution_count": 657,
   "metadata": {},
   "outputs": [
    {
     "name": "stdout",
     "output_type": "stream",
     "text": [
      "              precision    recall  f1-score   support\n",
      "\n",
      "         0.0       0.92      0.91      0.92      2666\n",
      "         1.0       0.96      0.97      0.97      6419\n",
      "\n",
      "   micro avg       0.95      0.95      0.95      9085\n",
      "   macro avg       0.94      0.94      0.94      9085\n",
      "weighted avg       0.95      0.95      0.95      9085\n",
      "\n"
     ]
    }
   ],
   "source": [
    "print(classification_report(y_true=is_mal_bonsun1, y_pred=rf.predict(x_data_bonsun1)))"
   ]
  },
  {
   "cell_type": "code",
   "execution_count": 441,
   "metadata": {},
   "outputs": [],
   "source": [
    "t = pd.DataFrame(oof_test_rf.reshape(-1,), columns=['pred'])"
   ]
  },
  {
   "cell_type": "code",
   "execution_count": 443,
   "metadata": {},
   "outputs": [],
   "source": [
    "t['real'] = is_mal_bonsun1"
   ]
  },
  {
   "cell_type": "code",
   "execution_count": null,
   "metadata": {},
   "outputs": [],
   "source": [
    "## model\n",
    "\n",
    "###### model 1\n",
    "\n",
    "rf = RandomForestClassifier(n_estimators=500, random_state=42, n_jobs=-1, max_depth=28, bootstrap=True)\n",
    "\n",
    "xgb = XGBClassifier(base_score=0.5, booster='gbtree', colsample_bylevel=1,\n",
    "       colsample_bytree=1, colsample_bytreeb=0.8, gamma=0,\n",
    "       learning_rate=0.1, max_delta_step=0, max_depth=10,\n",
    "       min_child_weight=1, missing=None, n_estimators=900, n_jobs = -1,\n",
    "       nthread=1, objective='binary:logistic', random_state=0, reg_alpha=0,\n",
    "       reg_lambda=1, scale_pos_weight=1, seed=None, silent=True,\n",
    "       subsample=0.8)\n",
    "\n",
    "extree =  ExtraTreesClassifier(bootstrap=False, class_weight=None, criterion='gini',\n",
    "           max_depth=40, max_features='auto', max_leaf_nodes=None,\n",
    "           min_impurity_decrease=0.0, min_impurity_split=None,\n",
    "           min_samples_leaf=1, min_samples_split=2,\n",
    "           min_weight_fraction_leaf=0.0, n_estimators=100, n_jobs=None,\n",
    "           oob_score=False, random_state=None, verbose=0, warm_start=False)\n",
    "\n",
    "lightgb = lgb.LGBMClassifier(boosting_type='gbdt', colsample_bytree=0.65, learning_rate=0.005,\n",
    "                        n_estimators=1400, num_leaves=90, objective='binary',\n",
    "                        rnadom_state=501, reg_alpha=1, reg_lambda=1, subsample=0.7)\n",
    "\n",
    "catboost = cb.CatBoostClassifier(depth=7, iterations=600, learning_rate=0.15, l2_leaf_reg=1)\n",
    "\n",
    "tree = DecisionTreeClassifier(criterion='entropy', max_depth=28, random_state=0)\n",
    "\n",
    "oof_train_xgb, oof_test_xgb = get_oof(xgb, x_data_train_yesun, is_mal_train_yesun, x_data_bonsun, 5)\n",
    "\n",
    "oof_train_rf, oof_test_rf = get_oof(rf, x_data_train_yesun, is_mal_train_yesun, x_data_bonsun, 5)\n",
    "\n",
    "oof_train_tree, oof_test_tree = get_oof(tree, x_data_train_yesun, is_mal_train_yesun, x_data_bonsun, 5)\n",
    "\n",
    "oof_train_extree, oof_test_extree = get_oof(extree, x_data_train_yesun, is_mal_train_yesun, x_data_bonsun, 5)\n",
    "\n",
    "oof_train_lgb, oof_test_lgb = get_oof(lightgb, x_data_train_yesun, is_mal_train_yesun, x_data_bonsun, 5)\n",
    "\n",
    "oof_train_cb, oof_test_cb = get_oof(catboost, x_data_train_yesun, is_mal_train_yesun, x_data_bonsun, 5)\n",
    "\n",
    "x_train = np.concatenate((oof_train_rf, oof_train_extree, oof_train_lgb, oof_train_cb), axis = 1)\n",
    "x_train = pd.DataFrame(x_train)\n",
    "\n",
    "x_test = np.concatenate((oof_test_rf, oof_test_extree, oof_test_lgb, oof_test_cb), axis = 1)\n",
    "x_test = pd.DataFrame(x_test)\n",
    "\n",
    "x_train = np.concatenate((oof_train_rf, oof_train_extree, oof_train_tree), axis = 1)\n",
    "x_train = pd.DataFrame(x_train)\n",
    "\n",
    "x_test = np.concatenate((oof_test_rf, oof_test_extree, oof_test_tree), axis = 1)\n",
    "x_test = pd.DataFrame(x_test)\n",
    "\n",
    "x_train.columns = ['rf', 'extree', 'lgb', 'cb']\n",
    "x_test.columns = ['rf', 'extree', 'lgb', 'cb']\n",
    "\n",
    "x_train.columns = ['rf', 'extree', 'tree']\n",
    "x_test.columns = ['rf', 'extree', 'tree']\n",
    "\n",
    "rf_l2 = RandomForestClassifier(n_estimators=300, random_state=None, max_depth=3, n_jobs=-1, max_features=2)\n",
    "\n",
    "rf_l2.fit(x_train, is_mal_train_yesun)\n",
    "\n",
    "print(\"훈련 세트 정확도: {:.3f}\".format(rf_l2.score(x_train, is_mal_train_yesun)))\n",
    "# print(\"테스트 세트 정확도: {:.3f}\".format(rf_l2.score(x_test, is_mal_yesun)))\n",
    "\n",
    "rf_l2.predict(x_test)\n",
    "\n",
    "extree_l2 =  ExtraTreesClassifier(bootstrap=False, class_weight=None, criterion='gini',\n",
    "           max_depth=3, max_features='auto', max_leaf_nodes=None,\n",
    "           min_impurity_decrease=0.0, min_impurity_split=None,\n",
    "           min_samples_leaf=1, min_samples_split=2,\n",
    "           min_weight_fraction_leaf=0.0, n_estimators=100, n_jobs=None,\n",
    "           oob_score=False, random_state=None, verbose=0, warm_start=False)\n",
    "\n",
    "extree_l2.fit(x_train, is_mal_train_yesun)\n",
    "\n",
    "print(\"훈련 세트 정확도: {:.3f}\".format(extree_l2.score(x_train, is_mal_train_yesun)))\n",
    "# print(\"테스트 세트 정확도: {:.3f}\".format(extree_l2.score(x_test, is_mal_yesun)))\n",
    "\n",
    "lightgb_l2 = lgb.LGBMClassifier(boosting_type='gbdt', colsample_bytree=0.65, learning_rate=0.005,\n",
    "                        n_estimators=300, num_leaves=90, objective='binary',\n",
    "                        rnadom_state=501, reg_alpha=1, reg_lambda=1, subsample=0.7)\n",
    "\n",
    "lightgb_l2.fit(x_train, is_mal_train_yesun)\n",
    "\n",
    "print(\"훈련 세트 정확도: {:.3f}\".format(lightgb_l2.score(x_train, is_mal_train_yesun)))\n",
    "# print(\"테스트 세트 정확도: {:.3f}\".format(lightgb_l2.score(x_test, is_mal_yesun)))\n",
    "\n",
    "t = pd.DataFrame()\n",
    "t['pred'] = list(oof_test_lgb.reshape(-1,))\n",
    "t['pred'] = rf_l2.predict(x_test)\n",
    "\n",
    "t['real'] = is_mal_yesun\n",
    "\n",
    "len(t[t.pred == t.real])\n",
    "\n",
    "# 테스트\n",
    "\n",
    "rf.fit(x_data_train, is_mal_train)\n",
    "\n",
    "rf.score(x_data_yesun, is_mal_yesun)\n",
    "\n",
    "x_data_yesun['is_mal'] = is_mal_yesun\n",
    "x_data_yesun['predict_mal'] = rf.predict(x_data_yesun.drop(['is_mal'], axis = 1))\n",
    "\n",
    "x_data_yesun[x_data_yesun.is_mal != x_data_yesun.predict_mal].to_csv('./test.csv')\n",
    "\n",
    "###### 본선용\n",
    "\n",
    "x_data_bonsun = pd.read_csv('./data_bonsun1.csv')\n",
    "\n",
    "label = x_data_bonsun['hash'].to_frame()\n",
    "x_data_bonsun = x_data_bonsun.drop(['hash'], axis = 1)\n",
    "\n",
    "label['predict_mal'] = rf_l2.predict(x_test)\n",
    "\n",
    "rf_l2.score(x_train, is_mal_train_yesun)\n",
    "\n",
    "label.to_csv('./submission.csv')\n",
    "\n",
    "\n",
    "a1 = pd.read_csv('./result_malware_student_songwonho_third.csv')#, encoding = \"ISO-8859-1\")\n",
    "a2 = pd.read_csv('./result_malware_student_songwonho_first.csv')#, encoding = \"ISO-8859-1\")\n",
    "a3 = pd.read_csv('./result_malware_student_songwonho_second.csv')#, encoding = \"ISO-8859-1\")\n",
    "a4 = pd.read_csv('./submission.csv')\n",
    "\n",
    "a4[\"first\"] = a2.iloc[:,1]\n",
    "\n",
    "a4[\"second\"] = a3.iloc[:,1]\n",
    "\n",
    "a4[\"third\"] = a1.iloc[:,1]\n",
    "\n",
    "a4.columns = ['hash', 'predict', 'first', 'second', '']\n",
    "\n",
    "a1[a1.second == a1.first]\n",
    "\n",
    "a4.to_csv('test.csv')\n",
    "\n"
   ]
  },
  {
   "cell_type": "code",
   "execution_count": 588,
   "metadata": {},
   "outputs": [],
   "source": [
    "###### 본선용\n",
    "\n",
    "x_data_bonsun2 = pd.read_csv('./data_bonsun2.csv')\n",
    "\n",
    "label = x_data_bonsun2['hash'].to_frame()\n",
    "x_data_bonsun2 = x_data_bonsun2.drop(['hash'], axis = 1)\n",
    "x_data_bonsun2 = x_data_bonsun2[imp.index[:num]]\n",
    "\n",
    "label['xgb'] = xgb.predict(x_data_bonsun2)\n",
    "label['lgb'] = light_gbm.predict(x_data_bonsun2)\n",
    "label['rf'] = light_gbm.predict(x_data_bonsun2)"
   ]
  },
  {
   "cell_type": "code",
   "execution_count": 618,
   "metadata": {},
   "outputs": [],
   "source": [
    "a = label.iloc[:,1:]"
   ]
  },
  {
   "cell_type": "code",
   "execution_count": 593,
   "metadata": {},
   "outputs": [],
   "source": [
    "from collections import Counter"
   ]
  },
  {
   "cell_type": "code",
   "execution_count": 640,
   "metadata": {},
   "outputs": [],
   "source": [
    "a.to_csv('./ashewoyo.csv')"
   ]
  },
  {
   "cell_type": "code",
   "execution_count": 646,
   "metadata": {},
   "outputs": [],
   "source": [
    "a['pred'] = a['xgb']"
   ]
  },
  {
   "cell_type": "code",
   "execution_count": 648,
   "metadata": {},
   "outputs": [
    {
     "data": {
      "text/html": [
       "<div>\n",
       "<style scoped>\n",
       "    .dataframe tbody tr th:only-of-type {\n",
       "        vertical-align: middle;\n",
       "    }\n",
       "\n",
       "    .dataframe tbody tr th {\n",
       "        vertical-align: top;\n",
       "    }\n",
       "\n",
       "    .dataframe thead th {\n",
       "        text-align: right;\n",
       "    }\n",
       "</style>\n",
       "<table border=\"1\" class=\"dataframe\">\n",
       "  <thead>\n",
       "    <tr style=\"text-align: right;\">\n",
       "      <th></th>\n",
       "      <th>pred</th>\n",
       "    </tr>\n",
       "  </thead>\n",
       "  <tbody>\n",
       "    <tr>\n",
       "      <th>0</th>\n",
       "      <td>1</td>\n",
       "    </tr>\n",
       "    <tr>\n",
       "      <th>1</th>\n",
       "      <td>1</td>\n",
       "    </tr>\n",
       "    <tr>\n",
       "      <th>2</th>\n",
       "      <td>0</td>\n",
       "    </tr>\n",
       "    <tr>\n",
       "      <th>3</th>\n",
       "      <td>1</td>\n",
       "    </tr>\n",
       "    <tr>\n",
       "      <th>4</th>\n",
       "      <td>0</td>\n",
       "    </tr>\n",
       "    <tr>\n",
       "      <th>5</th>\n",
       "      <td>1</td>\n",
       "    </tr>\n",
       "    <tr>\n",
       "      <th>6</th>\n",
       "      <td>1</td>\n",
       "    </tr>\n",
       "    <tr>\n",
       "      <th>7</th>\n",
       "      <td>0</td>\n",
       "    </tr>\n",
       "    <tr>\n",
       "      <th>8</th>\n",
       "      <td>1</td>\n",
       "    </tr>\n",
       "    <tr>\n",
       "      <th>9</th>\n",
       "      <td>0</td>\n",
       "    </tr>\n",
       "    <tr>\n",
       "      <th>10</th>\n",
       "      <td>1</td>\n",
       "    </tr>\n",
       "    <tr>\n",
       "      <th>11</th>\n",
       "      <td>1</td>\n",
       "    </tr>\n",
       "    <tr>\n",
       "      <th>12</th>\n",
       "      <td>0</td>\n",
       "    </tr>\n",
       "    <tr>\n",
       "      <th>13</th>\n",
       "      <td>1</td>\n",
       "    </tr>\n",
       "    <tr>\n",
       "      <th>14</th>\n",
       "      <td>1</td>\n",
       "    </tr>\n",
       "    <tr>\n",
       "      <th>15</th>\n",
       "      <td>0</td>\n",
       "    </tr>\n",
       "    <tr>\n",
       "      <th>16</th>\n",
       "      <td>0</td>\n",
       "    </tr>\n",
       "    <tr>\n",
       "      <th>17</th>\n",
       "      <td>1</td>\n",
       "    </tr>\n",
       "    <tr>\n",
       "      <th>18</th>\n",
       "      <td>1</td>\n",
       "    </tr>\n",
       "    <tr>\n",
       "      <th>19</th>\n",
       "      <td>1</td>\n",
       "    </tr>\n",
       "    <tr>\n",
       "      <th>20</th>\n",
       "      <td>1</td>\n",
       "    </tr>\n",
       "    <tr>\n",
       "      <th>21</th>\n",
       "      <td>1</td>\n",
       "    </tr>\n",
       "    <tr>\n",
       "      <th>22</th>\n",
       "      <td>1</td>\n",
       "    </tr>\n",
       "    <tr>\n",
       "      <th>23</th>\n",
       "      <td>0</td>\n",
       "    </tr>\n",
       "    <tr>\n",
       "      <th>24</th>\n",
       "      <td>1</td>\n",
       "    </tr>\n",
       "    <tr>\n",
       "      <th>25</th>\n",
       "      <td>1</td>\n",
       "    </tr>\n",
       "    <tr>\n",
       "      <th>26</th>\n",
       "      <td>1</td>\n",
       "    </tr>\n",
       "    <tr>\n",
       "      <th>27</th>\n",
       "      <td>1</td>\n",
       "    </tr>\n",
       "    <tr>\n",
       "      <th>28</th>\n",
       "      <td>1</td>\n",
       "    </tr>\n",
       "    <tr>\n",
       "      <th>29</th>\n",
       "      <td>1</td>\n",
       "    </tr>\n",
       "    <tr>\n",
       "      <th>...</th>\n",
       "      <td>...</td>\n",
       "    </tr>\n",
       "    <tr>\n",
       "      <th>9970</th>\n",
       "      <td>1</td>\n",
       "    </tr>\n",
       "    <tr>\n",
       "      <th>9971</th>\n",
       "      <td>1</td>\n",
       "    </tr>\n",
       "    <tr>\n",
       "      <th>9972</th>\n",
       "      <td>0</td>\n",
       "    </tr>\n",
       "    <tr>\n",
       "      <th>9973</th>\n",
       "      <td>1</td>\n",
       "    </tr>\n",
       "    <tr>\n",
       "      <th>9974</th>\n",
       "      <td>1</td>\n",
       "    </tr>\n",
       "    <tr>\n",
       "      <th>9975</th>\n",
       "      <td>1</td>\n",
       "    </tr>\n",
       "    <tr>\n",
       "      <th>9976</th>\n",
       "      <td>1</td>\n",
       "    </tr>\n",
       "    <tr>\n",
       "      <th>9977</th>\n",
       "      <td>1</td>\n",
       "    </tr>\n",
       "    <tr>\n",
       "      <th>9978</th>\n",
       "      <td>1</td>\n",
       "    </tr>\n",
       "    <tr>\n",
       "      <th>9979</th>\n",
       "      <td>1</td>\n",
       "    </tr>\n",
       "    <tr>\n",
       "      <th>9980</th>\n",
       "      <td>1</td>\n",
       "    </tr>\n",
       "    <tr>\n",
       "      <th>9981</th>\n",
       "      <td>1</td>\n",
       "    </tr>\n",
       "    <tr>\n",
       "      <th>9982</th>\n",
       "      <td>1</td>\n",
       "    </tr>\n",
       "    <tr>\n",
       "      <th>9983</th>\n",
       "      <td>1</td>\n",
       "    </tr>\n",
       "    <tr>\n",
       "      <th>9984</th>\n",
       "      <td>1</td>\n",
       "    </tr>\n",
       "    <tr>\n",
       "      <th>9985</th>\n",
       "      <td>0</td>\n",
       "    </tr>\n",
       "    <tr>\n",
       "      <th>9986</th>\n",
       "      <td>1</td>\n",
       "    </tr>\n",
       "    <tr>\n",
       "      <th>9987</th>\n",
       "      <td>1</td>\n",
       "    </tr>\n",
       "    <tr>\n",
       "      <th>9988</th>\n",
       "      <td>1</td>\n",
       "    </tr>\n",
       "    <tr>\n",
       "      <th>9989</th>\n",
       "      <td>1</td>\n",
       "    </tr>\n",
       "    <tr>\n",
       "      <th>9990</th>\n",
       "      <td>1</td>\n",
       "    </tr>\n",
       "    <tr>\n",
       "      <th>9991</th>\n",
       "      <td>0</td>\n",
       "    </tr>\n",
       "    <tr>\n",
       "      <th>9992</th>\n",
       "      <td>1</td>\n",
       "    </tr>\n",
       "    <tr>\n",
       "      <th>9993</th>\n",
       "      <td>1</td>\n",
       "    </tr>\n",
       "    <tr>\n",
       "      <th>9994</th>\n",
       "      <td>1</td>\n",
       "    </tr>\n",
       "    <tr>\n",
       "      <th>9995</th>\n",
       "      <td>0</td>\n",
       "    </tr>\n",
       "    <tr>\n",
       "      <th>9996</th>\n",
       "      <td>1</td>\n",
       "    </tr>\n",
       "    <tr>\n",
       "      <th>9997</th>\n",
       "      <td>1</td>\n",
       "    </tr>\n",
       "    <tr>\n",
       "      <th>9998</th>\n",
       "      <td>1</td>\n",
       "    </tr>\n",
       "    <tr>\n",
       "      <th>9999</th>\n",
       "      <td>0</td>\n",
       "    </tr>\n",
       "  </tbody>\n",
       "</table>\n",
       "<p>10000 rows × 1 columns</p>\n",
       "</div>"
      ],
      "text/plain": [
       "      pred\n",
       "0        1\n",
       "1        1\n",
       "2        0\n",
       "3        1\n",
       "4        0\n",
       "5        1\n",
       "6        1\n",
       "7        0\n",
       "8        1\n",
       "9        0\n",
       "10       1\n",
       "11       1\n",
       "12       0\n",
       "13       1\n",
       "14       1\n",
       "15       0\n",
       "16       0\n",
       "17       1\n",
       "18       1\n",
       "19       1\n",
       "20       1\n",
       "21       1\n",
       "22       1\n",
       "23       0\n",
       "24       1\n",
       "25       1\n",
       "26       1\n",
       "27       1\n",
       "28       1\n",
       "29       1\n",
       "...    ...\n",
       "9970     1\n",
       "9971     1\n",
       "9972     0\n",
       "9973     1\n",
       "9974     1\n",
       "9975     1\n",
       "9976     1\n",
       "9977     1\n",
       "9978     1\n",
       "9979     1\n",
       "9980     1\n",
       "9981     1\n",
       "9982     1\n",
       "9983     1\n",
       "9984     1\n",
       "9985     0\n",
       "9986     1\n",
       "9987     1\n",
       "9988     1\n",
       "9989     1\n",
       "9990     1\n",
       "9991     0\n",
       "9992     1\n",
       "9993     1\n",
       "9994     1\n",
       "9995     0\n",
       "9996     1\n",
       "9997     1\n",
       "9998     1\n",
       "9999     0\n",
       "\n",
       "[10000 rows x 1 columns]"
      ]
     },
     "execution_count": 648,
     "metadata": {},
     "output_type": "execute_result"
    }
   ],
   "source": [
    "a.pred.to_frame()"
   ]
  },
  {
   "cell_type": "code",
   "execution_count": null,
   "metadata": {},
   "outputs": [],
   "source": []
  },
  {
   "cell_type": "code",
   "execution_count": null,
   "metadata": {},
   "outputs": [],
   "source": [
    "rf_l2 = RandomForestClassifier(n_estimators=300, random_state=None, max_depth=3, n_jobs=-1, max_features=2)\n",
    "\n",
    "rf_l2.fit(label.drop['hash'], is_mal_train_yesun)"
   ]
  },
  {
   "cell_type": "code",
   "execution_count": 371,
   "metadata": {
    "scrolled": true
   },
   "outputs": [
    {
     "data": {
      "text/plain": [
       "0.960044028618602"
      ]
     },
     "execution_count": 371,
     "metadata": {},
     "output_type": "execute_result"
    }
   ],
   "source": [
    "xgb.score(x_data_bonsun1, is_mal_bonsun1)"
   ]
  },
  {
   "cell_type": "code",
   "execution_count": 372,
   "metadata": {},
   "outputs": [],
   "source": [
    "label = label.set_index('hash')"
   ]
  },
  {
   "cell_type": "code",
   "execution_count": 373,
   "metadata": {},
   "outputs": [],
   "source": [
    "label.to_csv('./submission.csv')"
   ]
  },
  {
   "cell_type": "code",
   "execution_count": null,
   "metadata": {},
   "outputs": [],
   "source": [
    "\n",
    "\n",
    "a1 = pd.read_csv('./result_malware_student_songwonho_third.csv')#, encoding = \"ISO-8859-1\")\n",
    "a2 = pd.read_csv('./result_malware_student_songwonho_first.csv')#, encoding = \"ISO-8859-1\")\n",
    "a3 = pd.read_csv('./result_malware_student_songwonho_second.csv')#, encoding = \"ISO-8859-1\")\n",
    "a4 = pd.read_csv('./submission.csv')\n",
    "\n",
    "a4[\"first\"] = a2.iloc[:,1]\n",
    "\n",
    "a4[\"second\"] = a3.iloc[:,1]\n",
    "\n",
    "a4[\"third\"] = a1.iloc[:,1]\n",
    "\n",
    "a4.columns = ['hash', 'predict', 'first', 'second', '']\n",
    "\n",
    "a1[a1.second == a1.first]\n",
    "\n",
    "a4.to_csv('test.csv')"
   ]
  },
  {
   "cell_type": "code",
   "execution_count": null,
   "metadata": {},
   "outputs": [],
   "source": []
  },
  {
   "cell_type": "code",
   "execution_count": 90,
   "metadata": {},
   "outputs": [],
   "source": [
    "mal = pd.read_csv('../DataChallenge/bonsun1_malware.csv')\n",
    "be = pd.read_csv('../DataChallenge/bonsun1_benign.csv')"
   ]
  },
  {
   "cell_type": "code",
   "execution_count": 91,
   "metadata": {},
   "outputs": [],
   "source": [
    "bonsun_1 = pd.read_csv('../DataChallenge_/data_bonsun1.csv')"
   ]
  },
  {
   "cell_type": "code",
   "execution_count": 92,
   "metadata": {},
   "outputs": [],
   "source": [
    "mal = pd.merge(mal, bonsun_1, on='hash', how='left')\n",
    "be = pd.merge(be, bonsun_1, on='hash', how='left')\n"
   ]
  },
  {
   "cell_type": "code",
   "execution_count": 95,
   "metadata": {},
   "outputs": [],
   "source": [
    "bonsun_1 = pd.concat([mal, be]).sort_values('hash')"
   ]
  },
  {
   "cell_type": "code",
   "execution_count": 97,
   "metadata": {},
   "outputs": [],
   "source": [
    "bonsun_1 = bonsun_1.set_index('hash')"
   ]
  },
  {
   "cell_type": "code",
   "execution_count": 102,
   "metadata": {},
   "outputs": [],
   "source": [
    "bonsun_1.is_mal.to_frame().to_csv('./result_bonsun_1/label.csv')"
   ]
  },
  {
   "cell_type": "code",
   "execution_count": 105,
   "metadata": {},
   "outputs": [],
   "source": [
    "bonsun_1.iloc[:,1:].to_csv('./data_bonsun1.csv')"
   ]
  }
 ],
 "metadata": {
  "kernelspec": {
   "display_name": "Python 3",
   "language": "python",
   "name": "python3"
  },
  "language_info": {
   "codemirror_mode": {
    "name": "ipython",
    "version": 3
   },
   "file_extension": ".py",
   "mimetype": "text/x-python",
   "name": "python",
   "nbconvert_exporter": "python",
   "pygments_lexer": "ipython3",
   "version": "3.6.7"
  }
 },
 "nbformat": 4,
 "nbformat_minor": 2
}
