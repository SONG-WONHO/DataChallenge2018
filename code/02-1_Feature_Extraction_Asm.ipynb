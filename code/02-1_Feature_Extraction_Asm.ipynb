{
 "cells": [
  {
   "cell_type": "markdown",
   "metadata": {},
   "source": [
    "# 레지스터 빈도 확인"
   ]
  },
  {
   "cell_type": "code",
   "execution_count": 1,
   "metadata": {},
   "outputs": [],
   "source": [
    "import pandas as pd"
   ]
  },
  {
   "cell_type": "code",
   "execution_count": 4,
   "metadata": {},
   "outputs": [],
   "source": [
    "temp = []\n",
    "with open('C:/Users/sogna/Desktop/result/000aadad7b6e9316638e920f863855e7/register.txt', 'r') as f:\n",
    "    temp += f.read().split(',')\n",
    "    \n",
    "    \n",
    "with open('C:/Users/sogna/Desktop/result/000abf288763309c61b418a26accde16/register.txt', 'r') as f:\n",
    "    temp += f.read().split(',')\n",
    "    \n",
    "    \n",
    "with open('C:/Users/sogna/Desktop/result/000c843a3b33ece069ab68332166fcbf/register.txt', 'r') as f:\n",
    "    temp += f.read().split(',')\n",
    "    \n",
    "    \n",
    "with open('C:/Users/sogna/Desktop/result/00a4875b7f275e8800799f63fba1839f/register.txt', 'r') as f:\n",
    "    temp += f.read().split(',')\n",
    "    \n",
    "    \n",
    "with open('C:/Users/sogna/Desktop/result/00a73a56e4b3a2a20a89da0ca4e579ff/register.txt', 'r') as f:\n",
    "    temp += f.read().split(',')\n",
    "    \n",
    "    \n",
    "with open('C:/Users/sogna/Desktop/result/00a96abb9a93efbcab692f63ce68a7d3/register.txt', 'r') as f:\n",
    "    temp += f.read().split(',')"
   ]
  },
  {
   "cell_type": "code",
   "execution_count": 9,
   "metadata": {},
   "outputs": [],
   "source": [
    "a = list(set(temp))"
   ]
  },
  {
   "cell_type": "code",
   "execution_count": 10,
   "metadata": {},
   "outputs": [],
   "source": [
    "a.sort()"
   ]
  },
  {
   "cell_type": "code",
   "execution_count": 11,
   "metadata": {
    "scrolled": true
   },
   "outputs": [
    {
     "name": "stdout",
     "output_type": "stream",
     "text": [
      "['0', '0Ah', '0Bh', '0Ch', '0Dh', '0Eh', '0Fh', '1', '10', '10h', '11h', '12', '12h', '13h', '14h', '15h', '16', '16h', '17h', '18h', '19h', '1Ah', '1Bh', '1Ch', '1Dh', '1Eh', '1Fh', '2', '20', '20h', '21h', '22h', '23h', '24', '24h', '25h', '26h', '27h', '28h', '29h', '2Ah', '2Bh', '2Ch', '2Dh', '2Eh', '2Fh', '3', '30h', '31h', '32', '32h', '33h', '34h', '35h', '36h', '37h', '38h', '39h', '3Ah', '3Bh', '3Ch', '3Dh', '3Eh', '3Fh', '4', '40h', '41h', '42h', '43h', '44h', '45h', '46h', '47h', '48h', '49h', '4Ah', '4Bh', '4Ch', '4Dh', '4Eh', '4Fh', '5', '50h', '51h', '52h', '53h', '54h', '55h', '56h', '57h', '58h', '59h', '5Ah', '5Bh', '5Ch', '5Dh', '5Eh', '5Fh', '6', '62h', '63h', '64h', '65h', '66h', '67h', '69h', '6Bh', '6Ch', '6Dh', '6Eh', '6Fh', '7', '8', '83h', '84h', '86h', '87h', '88h', '89h', '8Bh', '8Dh', '9', '98h', '99h', '9Fh', 'ah', 'al', 'ax', 'bh', 'bl', 'bp', 'bx', 'ch', 'cl', 'cs', 'cx', 'dh', 'di', 'dl', 'ds', 'dx', 'eax', 'ebp', 'ebx', 'ecx', 'edi', 'edx', 'es', 'esi', 'esp', 'fs', 'gs', 'si', 'ss']\n"
     ]
    }
   ],
   "source": [
    "print(a)"
   ]
  },
  {
   "cell_type": "code",
   "execution_count": 23,
   "metadata": {},
   "outputs": [],
   "source": [
    "colnames = ['eax', 'ebx', 'ecx', 'edx', 'ebp', 'esp', 'esi',\n",
    "                'es', 'fs', 'ds', 'ss', 'gs', 'cs', 'ah', 'al',\n",
    "                'ax', 'bh', 'bl', 'bx', 'ch', 'cl', 'cx', 'dh', 'dl', 'dx',\n",
    "                'edi', 'bp', 'di', 'si']"
   ]
  },
  {
   "cell_type": "code",
   "execution_count": 25,
   "metadata": {},
   "outputs": [
    {
     "data": {
      "text/plain": [
       "29"
      ]
     },
     "execution_count": 25,
     "metadata": {},
     "output_type": "execute_result"
    }
   ],
   "source": [
    "len(set(colnames))"
   ]
  },
  {
   "cell_type": "code",
   "execution_count": 26,
   "metadata": {},
   "outputs": [],
   "source": [
    "colnames.sort()"
   ]
  },
  {
   "cell_type": "code",
   "execution_count": 28,
   "metadata": {},
   "outputs": [
    {
     "name": "stdout",
     "output_type": "stream",
     "text": [
      "['ah', 'al', 'ax', 'bh', 'bl', 'bp', 'bx', 'ch', 'cl', 'cs', 'cx', 'dh', 'di', 'dl', 'ds', 'dx', 'eax', 'ebp', 'ebx', 'ecx', 'edi', 'edx', 'es', 'esi', 'esp', 'fs', 'gs', 'si', 'ss']\n"
     ]
    }
   ],
   "source": [
    "print(colnames)"
   ]
  },
  {
   "cell_type": "markdown",
   "metadata": {},
   "source": [
    "# 데이터 디파인"
   ]
  },
  {
   "cell_type": "code",
   "execution_count": 29,
   "metadata": {},
   "outputs": [],
   "source": [
    "temp = []\n",
    "with open('C:/Users/sogna/Desktop/result/000aadad7b6e9316638e920f863855e7/data_define.txt', 'r') as f:\n",
    "    temp += f.read().split(',')\n",
    "    \n",
    "    \n",
    "with open('C:/Users/sogna/Desktop/result/000abf288763309c61b418a26accde16/data_define.txt', 'r') as f:\n",
    "    temp += f.read().split(',')\n",
    "    \n",
    "    \n",
    "with open('C:/Users/sogna/Desktop/result/000c843a3b33ece069ab68332166fcbf/data_define.txt', 'r') as f:\n",
    "    temp += f.read().split(',')\n",
    "    \n",
    "    \n",
    "with open('C:/Users/sogna/Desktop/result/00a4875b7f275e8800799f63fba1839f/data_define.txt', 'r') as f:\n",
    "    temp += f.read().split(',')\n",
    "    \n",
    "    \n",
    "with open('C:/Users/sogna/Desktop/result/00a73a56e4b3a2a20a89da0ca4e579ff/data_define.txt', 'r') as f:\n",
    "    temp += f.read().split(',')\n",
    "    \n",
    "    \n",
    "with open('C:/Users/sogna/Desktop/result/00a96abb9a93efbcab692f63ce68a7d3/data_define.txt', 'r') as f:\n",
    "    temp += f.read().split(',')"
   ]
  },
  {
   "cell_type": "code",
   "execution_count": 31,
   "metadata": {},
   "outputs": [
    {
     "data": {
      "text/plain": [
       "['dd', 'db', 'dw']"
      ]
     },
     "execution_count": 31,
     "metadata": {},
     "output_type": "execute_result"
    }
   ],
   "source": [
    "list(set(temp))"
   ]
  }
 ],
 "metadata": {
  "kernelspec": {
   "display_name": "Python 3",
   "language": "python",
   "name": "python3"
  },
  "language_info": {
   "codemirror_mode": {
    "name": "ipython",
    "version": 3
   },
   "file_extension": ".py",
   "mimetype": "text/x-python",
   "name": "python",
   "nbconvert_exporter": "python",
   "pygments_lexer": "ipython3",
   "version": "3.6.7"
  }
 },
 "nbformat": 4,
 "nbformat_minor": 2
}
