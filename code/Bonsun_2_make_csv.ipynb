{
 "cells": [
  {
   "cell_type": "code",
   "execution_count": 1,
   "metadata": {},
   "outputs": [],
   "source": [
    "# default module\n",
    "import pandas as pd\n",
    "import numpy as np\n",
    "import seaborn as sns\n",
    "import matplotlib.pyplot as plt\n",
    "import warnings\n",
    "\n",
    "# pre processing\n",
    "from sklearn.preprocessing import LabelEncoder\n",
    "\n",
    "# selection\n",
    "from sklearn.model_selection import train_test_split\n",
    "from sklearn.model_selection import KFold\n",
    "\n",
    "# model\n",
    "from sklearn.ensemble import RandomForestClassifier\n",
    "from xgboost import XGBClassifier"
   ]
  },
  {
   "cell_type": "markdown",
   "metadata": {},
   "source": [
    "## x data load"
   ]
  },
  {
   "cell_type": "code",
   "execution_count": null,
   "metadata": {},
   "outputs": [],
   "source": [
    "root_path = './result_train/'\n",
    "bytes_ngram_1gram = pd.read_csv(root_path + 'feature_bytes_ngram_1gram.csv')[['hash','245', '173', '32', '134', '204', '231', '255', '113', '155', '48', '154', '222', '174', '175', '16', '117', '139', '167', '130', '59', '253', '116', '237', '64', '239', '149', '3', '106', '251', '6', '0', '15', '254', '153', '105', '157', '36', '162', '146', '166', '12', '133', '158', '131', '137', '77', '143', '233', '227', '4', '170', '5', '193', '250', '151', '86', '195', '1', '49', '196', '199', '171', '81', '89', '194', '85', '115', '123', '75', '110', '218', '20', '21', '198', '192', '93', '63', '226', '67', '159']]\n",
    "bytes_ngram_2gram = pd.read_csv(root_path + 'feature_bytes_ngram_2gram.csv')[['hash','134.247', '134.72', '85.4', '42.134', '3.85', '66.115', '48.130', '72.134', '33.11', '6.3', '85.29', '73.99', '48.13', '11.48', '46.68', '58.47', '121.65', '46.99', '247.13', '9.42', '112.58', '97.69', '13.1', '48.9', '195.195', '128.14', '86.77', '43.6', '48.129', '13.6', '130.1', '251.160', '6.1', '113.181', '1.11', '192.192', '27.64', '255.252', '22.114', '255.40', '6.9', '186.186', '32.64', '36.48', '3.40', '91.91', '2.33', '1.5', '31.64', '10.13', '49.11', '35.64', '104.65', '215.215', '255.173', '1.29', '89.100', '113.108', '31.41', '32.83', '19.2', '255.74', '253.64', '8.111', '23.13', '51.50', '147.64', '97.72', '210.210', '146.64', '255.175', '7.128', '243.84', '99.65', '38.64', '109.47', '106.69', '77.121', '251.252', '17.183', '105.103', '99.36', '130.55', '9.6', '105.110', '139.226', '255.248', '189.189', '3.130', '110.116', '158.158', '69.98', '80.65', '100.108', '245.245', '255.243', '3.29', '255.111', '97.66', '11.7', '3.2', '55.2', '252.252', '17.64', '102.207', '0.128', '108.103', '75.73', '32.67', '49.48', '64.0', '75.95', '13.10', '10.111', '86.66', '70.107', '219.172', '46.114', '22.4', '18.64', '101.115', '89.66', '103.75', '113.65', '116.112', '90.84', '15.28', '255.234', '181.67', '10.115', '255.188', '101.116', '122.124', '176.64', '229.229', '24.48', '65.12', '255.166', '43.64', '32.32', '111.92', '255.253', '209.90', '77.99', '100.101', '137.22', '80.114', '17.213', '95.105', '47.99']]\n",
    "bytes_str_len = pd.read_csv(root_path + 'feature_bytes_str_len.csv')[['hash','stringLenCounts_3', 'stringLenCounts_6', 'stringLenCounts_4', 'stringLenCounts_2', 'stringLenCounts_0_10', 'stringLenCounts_34', 'stringLenCounts_12', 'stringTotalLen', 'stringLenCounts_1', 'stringLenCounts_62', 'stringLenCounts_5', 'stringLenCounts_30_60', 'stringLenCounts_25', 'stringLenCounts_10_30', 'stringLenCounts_9', 'stringLenCounts_8', 'stringLenCounts_10', 'stringLenCounts_7', 'stringLenCounts_32', 'stringLenCounts_14', 'stringLenCounts_21', 'stringLenCounts_50', 'stringLenCounts_11', 'stringLenCounts_26', 'stringLenCounts_13', 'stringLenCounts_16', 'stringLenCounts_49', 'stringLenCounts_18', 'stringLenCounts_40', 'stringLenCounts_36', 'stringLenCounts_19', 'stringLenCounts_23', 'stringLenCounts_17', 'stringLenCounts_55', 'stringLenCounts_27', 'stringLenCounts_15', 'stringLenCounts_24', 'stringLenCounts_28', 'stringLenCounts_22', 'stringLenCounts_48', 'stringLenCounts_60_90', 'stringLenCounts_29', 'stringLenCounts_39', 'stringLenCounts_20', 'stringLenCounts_41', 'stringLenCounts_38', 'stringLenCounts_42', 'stringLenCounts_46', 'stringLenCounts_31', 'stringLenCounts_30', 'stringLenCounts_90_inf', 'stringLenCountsMore100', 'stringLenCounts_33', 'stringLenCounts_35', 'stringLenCounts_53', 'stringLenCounts_52', 'stringLenCounts_66', 'stringLenCounts_43', 'stringLenCounts_54', 'stringLenCounts_45', 'stringLenCounts_61', 'stringLenCounts_73', 'stringLenCounts_71', 'stringLenCounts_64', 'stringLenCounts_74', 'stringLenCounts_37', 'stringLenCounts_47', 'stringLenCounts_44', 'stringLenCounts_63', 'stringLenCounts_70', 'stringLenCounts_51', 'stringLenCounts_67', 'stringLenCounts_76', 'stringLenCounts_68', 'stringLenCounts_60', 'stringLenCounts_69', 'stringLenCounts_58', 'stringLenCounts_59', 'stringLenCounts_95', 'stringLenCounts_57', 'stringLenCounts_77', 'stringLenCounts_90', 'stringLenCounts_56', 'stringLenCounts_65', 'stringLenCounts_72', 'stringLenCounts_84', 'stringLenCounts_94', 'stringLenCounts_75', 'stringLenCounts_79', 'stringLenCounts_81']]\n",
    "bytes_str_misc = pd.read_csv(root_path + 'feature_bytes_str_misc.csv')[['hash','jz', 'malloc', 'kernel', 'DLL', 'dd', 'dw', 'free', 'lea', 'dll', 'public', 'alloc', '.exe', 'security', 'user', 'db', 'init', '.dll', 'microsoft', 'windows', '__dllonexit', 'Virtual', 'code', 'exe', 'loc_', 'global', 'Software', 'rep', 'xml', 'handler', 'strlen', 'gdi', 'memcpy', 'proc', 'move', 'format', 'error', 'reg', 'load', 'arg', 'cmp', 'heap', 'file', 'add', 'fmode', 'esi', 'CurrentVersion', 'int', 'failed', 'loc', 'tls', 'config', 'inc', 'word', 'std', 'unk', 'environment', 'switch', 'resource', 'icm', 'DATA', 'Offset', 'src', 'sub', 'esp', 'call', 'var', 'close', 'calloc', 'dec', 'struct', 'thread', 'virtual', 'rva', 'BOOL', 'create', 'off', 'char', 'system', 'ptr', 'byte']]\n",
    "bytes_str_sym = pd.read_csv(root_path + 'feature_bytes_str_sym.csv')\n",
    "bytes_img_haralick = pd.read_csv(root_path + 'feature_bytes_img_haralick.csv')[['hash','imgHaralick_12', 'imgHaralick_11', 'imgHaralick_8', 'imgHaralick_45', 'imgHaralick_32', 'imgHaralick_19', 'imgHaralick_31', 'imgHaralick_5', 'imgHaralick_38', 'imgHaralick_44', 'imgHaralick_18', 'imgHaralick_15', 'imgHaralick_6', 'imgHaralick_2', 'imgHaralick_10', 'imgHaralick_51', 'imgHaralick_41', 'imgHaralick_21', 'imgHaralick_25', 'imgHaralick_47', 'imgHaralick_28', 'imgHaralick_7', 'imgHaralick_1', 'imgHaralick_29', 'imgHaralick_4', 'imgHaralick_37', 'imgHaralick_3', 'imgHaralick_42', 'imgHaralick_34', 'imgHaralick_27', 'imgHaralick_33', 'imgHaralick_40', 'imgHaralick_14', 'imgHaralick_16', 'imgHaralick_50', 'imgHaralick_24', 'imgHaralick_36', 'imgHaralick_46', 'imgHaralick_20', 'imgHaralick_49', 'imgHaralick_23', 'imgHaralick_30', 'imgHaralick_43', 'imgHaralick_0']]\n",
    "asm_pe_info = pd.read_csv(root_path + 'feature_asm_pe_info.csv').drop(['Sections'], axis=1)\n",
    "asm_section_name_freq = pd.read_csv(root_path + 'feature_asm_section_name_freq.csv')\n",
    "asm_exec_section_name_freq = pd.read_csv(root_path + 'feature_asm_exec_section_name_freq.csv')\n",
    "asm_section_info = pd.read_csv(root_path + 'feature_asm_section_info.csv')\n",
    "asm_section_entropy = pd.read_csv(root_path + 'feature_asm_section_entropy.csv')\n",
    "asm_dll_freq = pd.read_csv(root_path + 'feature_asm_dll_freq.csv')\n",
    "asm_api_freq = pd.read_csv(root_path + 'feature_asm_api_freq.csv')[['hash','isdebuggerpresent', 'getcurrentthreadid', 'unhandledexceptionfilter', 'exitprocess', 'terminateprocess', 'sleep', 'regclosekey', 'openprocess', 'getcurrentprocess', 'loadlibrarya', 'freelibrary', 'virtualalloc', 'translatemessage', 'fwrite', 'initializecriticalsection', 'virtualprotect', 'gettickcount', 'waitforsingleobject', 'setendoffile', 'findclose', 'widechartomultibyte', 'getlasterror', 'lockresource', 'mapviewoffile', 'writefile', 'multibytetowidechar', 'rtlunwind', 'virtualquery', 'getsysteminfo', 'getprocaddress', 'readfile', 'closehandle', 'heapdestroy', 'createthread', 'getstdhandle', 'virtualfree', 'fopen', 'getwindowthreadprocessid', 'deletecriticalsection', 'getcpinfo', 'getlocaltime', 'setfilepointer', 'interlockedincrement', 'getfilesize', 'tlsgetvalue', 'leavecriticalsection', 'getfiletype', 'heapfree', 'interlockeddecrement', 'releasemutex', 'getoemcp', 'heapcreate', 'createmutexa', 'entercriticalsection', 'getenvironmentstrings', 'tlssetvalue', 'flushfilebuffers', 'createmutexw', 'setstdhandle', 'getfilesizeex', 'internetclosehandle', 'exitthread', 'winexec', 'deviceiocontrol', 'isbadreadptr', 'terminatethread', 'sethandlecount', 'socket', 'createtoolhelp32snapshot', 'internetreadfile', 'getthreadcontext', 'recv', 'wsacleanup', 'isbadwriteptr', 'connect', 'wsastartup', 'send', 'closesocket', 'virtualallocex', 'openmutexa', 'writeprocessmemory', 'openfile', 'createremotethread', 'sendto', 'process32next', 'getupdaterect', 'accept', 'gethostname', 'readprocessmemory', 'setkeyboardstate', 'connectnamedpipe', 'gethostbyaddr', 'process32first', 'bind', 'listen', 'cryptencrypt', 'disconnectnamedpipe', 'enumprocesses', 'internetwritefile', 'getupdatergn', 'setfileapistoansi', 'internetquerydataavailable', 'internetgetconnectedstate', 'setfileapistooem', 'icmpsendecho', 'wsasend', 'certdeletecertificatefromstore', 'checkremotedebuggerpresent', 'setfilevaliddata', 'getbinarytype', 'openfilebyid']]\n",
    "asm_opcode_freq = pd.read_csv(root_path + 'feature_asm_opcode_freq.csv')[['hash','pop', 'call', 'add', 'test', 'xor', 'and', 'mov', 'sub', 'push', 'retn', 'jnz', 'jz', 'jmp', 'movzx', 'leave', 'jle', 'dec', 'not', 'rol', 'inc', 'xchg', 'lea', 'imul', 'neg', 'pushf', 'nop', 'div', 'std', 'sbb', 'movsb', 'bt', 'fild', 'clc', 'setnl', 'cmpsb', 'setb', 'int', 'shld', 'jo', 'fdivp', 'fstcw', 'cmpsd', 'setle', 'outsd', 'bsr', 'scasw', 'aas', 'rdtsc', 'aad', 'loope']]\n",
    "asm_func_cnt = pd.read_csv(root_path + 'feature_asm_func_cnt.csv')\n",
    "asm_register_freq = pd.read_csv(root_path + 'feature_asm_register_freq.csv')\n",
    "asm_dd_freq = pd.read_csv(root_path + 'feature_asm_dd_freq.csv')\n",
    "asm_etc_info = pd.read_csv(root_path + 'feature_asm_etc_info.csv')\n",
    "asm_opcode_1g = pd.read_csv(root_path + 'feature_asm_opcode_1g.csv')[['hash','call', 'pop', 'add', 'mov', 'xor', 'retn', 'or', 'test', 'push', 'jmp', 'cmp', 'jz', 'sub', 'jnz', 'jb', 'and', 'dec', 'shr', 'inc', 'jle', 'lea', 'movzx', 'leave', 'js', 'rol', 'ja', 'not', 'xchg', 'imul', 'jl', 'jnb', 'shl', 'setz', 'jns', 'neg', 'jge', 'movsx', 'pushf', 'jbe', 'nop', 'stosd', 'adc', 'jg', 'sar', 'pusha', 'sbb', 'wait', 'setnz', 'sahf', 'movsb', 'movsd', 'cdq', 'div', 'scasb', 'fnclex', 'idiv', 'clc', 'bt', 'mul', 'setnle', 'fild', 'fld', 'cmc', 'faddp', 'popa', 'fstp', 'fnstsw', 'fldcw', 'fmul', 'cmpsb', 'xadd', 'int', 'fsubp', 'fcomp', 'ror', 'shrd', 'fmulp', 'jo', 'fadd', 'fldz', 'setl', 'callvirt', 'ldarg.1', 'fdiv', 'fsub', 'stloc.0', 'cvtps2pd', 'in', 'bts', 'fsubr', 'shld', 'endfinally', 'ldloc.1', 'fst', 'movdqa', 'bswap', 'stloc.1', 'jp', 'cmovnz', 'ldarg.0']]\n",
    "asm_opcode_2g = pd.read_csv(root_path + 'feature_asm_opcode_2g.csv')[['hash','.', 'retn.', 'mov.mov', 'push.call', 'call.pop', 'jmp.', 'push.retn', '.mov', 'mov.push', 'call.call', 'jz.push', 'push.push', 'inc.push', 'add.mov', 'mov.test', 'mov.jmp', 'xor.call', 'jz.test', 'push.mov', 'mov.or', 'mov.call', 'xor.pop', 'jmp.mov', 'test.jz', 'push.sub', 'pop.pop', 'or.jz', 'pop.retn', 'mov.jnz', 'call.mov', '.jmp', 'add.retn', 'mov.pushf', 'add.jmp', 'mov.retn', 'jz.mov', 'add.test', 'mov.add', 'lea.cmp', 'call.add', 'jmp.jmp', 'mov.jz', 'leave.retn', 'xor.cmp', 'pop.mov', 'sub.mov', 'jz.pop', 'cmp.jb', 'pop.push', 'dec.jnz', 'mov.pop', 'test.jnz', 'pop.leave', 'jnz.push', 'lea.test', 'mov.xor', 'jnz.cmp', 'pop.inc', 'retn.mov', 'call.xor', 'mov.jg', 'inc.dec', 'sub.sub', '.pop', 'jz.jmp', 'inc.mov', 'movzx.inc', 'pop.jz', 'cmp.jz', 'mov.sub', 'retn.pop', 'jz.cmp', 'pop.test', 'mov.lea', 'xor.mov', 'retn.push', 'call.', 'lea.mov', 'lea.jmp', 'lea.push', 'jnz.mov', '.push', 'cmp.jnz', 'add.sub', 'call.push', 'pop.sub', 'xor.retn', 'xor.jmp', 'mov.inc', 'jmp.push', 'test.mov', 'test.js', 'retn.jmp', 'movzx.shl', 'cmp.pop', 'or.mov', 'js.mov', 'sub.push', 'xor.inc', 'add.cmp']]\n",
    "asm_opcode_3g = pd.read_csv(root_path + 'feature_asm_opcode_3g.csv')\n",
    "asm_opcode_4g = pd.read_csv(root_path + 'feature_asm_opcode_4g.csv')\n",
    "asm_reg_2g = pd.read_csv(root_path + 'feature_asm_register_2g.csv')\n",
    "asm_reg_3g = pd.read_csv(root_path + 'feature_asm_register_3g.csv')\n",
    "asm_reg_4g = pd.read_csv(root_path + 'feature_asm_register_4g.csv')\n",
    "asm_inst_1g = pd.read_csv(root_path + 'feature_asm_inst_1g.csv')\n",
    "asm_inst_2g = pd.read_csv(root_path + 'feature_asm_inst_2g.csv')\n",
    "asm_inst_3g = pd.read_csv(root_path + 'feature_asm_inst_3g.csv')\n",
    "asm_inst_4g = pd.read_csv(root_path + 'feature_asm_inst_4g.csv')\n",
    "asm_img = pd.read_csv(root_path + './feature_asm_img.csv')[['hash'] + ['asm_img_' + str(v+1) for v in range(100)]]"
   ]
  },
  {
   "cell_type": "markdown",
   "metadata": {},
   "source": [
    "###### (본선 에서만 실행할 것)"
   ]
  },
  {
   "cell_type": "code",
   "execution_count": 86,
   "metadata": {},
   "outputs": [],
   "source": [
    "root_path = './result_bonsun_1/'\n",
    "bytes_ngram_1gram = pd.read_csv(root_path + 'feature_bytes_ngram_1gram.csv')#[['hash','245', '173', '32', '134', '204', '231', '255', '113', '155', '48', '154', '222', '174', '175', '16', '117', '139', '167', '130', '59', '253', '116', '237', '64', '239', '149', '3', '106', '251', '6', '0', '15', '254', '153', '105', '157', '36', '162', '146', '166', '12', '133', '158', '131', '137', '77', '143', '233', '227', '4', '170', '5', '193', '250', '151', '86', '195', '1', '49', '196', '199', '171', '81', '89', '194', '85', '115', '123', '75', '110', '218', '20', '21', '198', '192', '93', '63', '226', '67', '159']]\n",
    "bytes_ngram_2gram = pd.read_csv(root_path + 'feature_bytes_ngram_2gram.csv')#[['hash','134.247', '134.72', '85.4', '42.134', '3.85', '66.115', '48.130', '72.134', '33.11', '6.3', '85.29', '73.99', '48.13', '11.48', '46.68', '58.47', '121.65', '46.99', '247.13', '9.42', '112.58', '97.69', '13.1', '48.9', '195.195', '128.14', '86.77', '43.6', '48.129', '13.6', '130.1', '251.160', '6.1', '113.181', '1.11', '192.192', '27.64', '255.252', '22.114', '255.40', '6.9', '186.186', '32.64', '36.48', '3.40', '91.91', '2.33', '1.5', '31.64', '10.13', '49.11', '35.64', '104.65', '215.215', '255.173', '1.29', '89.100', '113.108', '31.41', '32.83', '19.2', '255.74', '253.64', '8.111', '23.13', '51.50', '147.64', '97.72', '210.210', '146.64', '255.175', '7.128', '243.84', '99.65', '38.64', '109.47', '106.69', '77.121', '251.252', '17.183', '105.103', '99.36', '130.55', '9.6', '105.110', '139.226', '255.248', '189.189', '3.130', '110.116', '158.158', '69.98', '80.65', '100.108', '245.245', '255.243', '3.29', '255.111', '97.66', '11.7', '3.2', '55.2', '252.252', '17.64', '102.207', '0.128', '108.103', '75.73', '32.67', '49.48', '64.0', '75.95', '13.10', '10.111', '86.66', '70.107', '219.172', '46.114', '22.4', '18.64', '101.115', '89.66', '103.75', '113.65', '116.112', '90.84', '15.28', '255.234', '181.67', '10.115', '255.188', '101.116', '122.124', '176.64', '229.229', '24.48', '65.12', '255.166', '43.64', '32.32', '111.92', '255.253', '209.90', '77.99', '100.101', '137.22', '80.114', '17.213', '95.105', '47.99']]\n",
    "bytes_str_len = pd.read_csv(root_path + 'feature_bytes_str_len.csv')#[['hash','stringLenCounts_3', 'stringLenCounts_6', 'stringLenCounts_4', 'stringLenCounts_2', 'stringLenCounts_0_10', 'stringLenCounts_34', 'stringLenCounts_12', 'stringTotalLen', 'stringLenCounts_1', 'stringLenCounts_62', 'stringLenCounts_5', 'stringLenCounts_30_60', 'stringLenCounts_25', 'stringLenCounts_10_30', 'stringLenCounts_9', 'stringLenCounts_8', 'stringLenCounts_10', 'stringLenCounts_7', 'stringLenCounts_32', 'stringLenCounts_14', 'stringLenCounts_21', 'stringLenCounts_50', 'stringLenCounts_11', 'stringLenCounts_26', 'stringLenCounts_13', 'stringLenCounts_16', 'stringLenCounts_49', 'stringLenCounts_18', 'stringLenCounts_40', 'stringLenCounts_36', 'stringLenCounts_19', 'stringLenCounts_23', 'stringLenCounts_17', 'stringLenCounts_55', 'stringLenCounts_27', 'stringLenCounts_15', 'stringLenCounts_24', 'stringLenCounts_28', 'stringLenCounts_22', 'stringLenCounts_48', 'stringLenCounts_60_90', 'stringLenCounts_29', 'stringLenCounts_39', 'stringLenCounts_20', 'stringLenCounts_41', 'stringLenCounts_38', 'stringLenCounts_42', 'stringLenCounts_46', 'stringLenCounts_31', 'stringLenCounts_30', 'stringLenCounts_90_inf', 'stringLenCountsMore100', 'stringLenCounts_33', 'stringLenCounts_35', 'stringLenCounts_53', 'stringLenCounts_52', 'stringLenCounts_66', 'stringLenCounts_43', 'stringLenCounts_54', 'stringLenCounts_45', 'stringLenCounts_61', 'stringLenCounts_73', 'stringLenCounts_71', 'stringLenCounts_64', 'stringLenCounts_74', 'stringLenCounts_37', 'stringLenCounts_47', 'stringLenCounts_44', 'stringLenCounts_63', 'stringLenCounts_70', 'stringLenCounts_51', 'stringLenCounts_67', 'stringLenCounts_76', 'stringLenCounts_68', 'stringLenCounts_60', 'stringLenCounts_69', 'stringLenCounts_58', 'stringLenCounts_59', 'stringLenCounts_95', 'stringLenCounts_57', 'stringLenCounts_77', 'stringLenCounts_90', 'stringLenCounts_56', 'stringLenCounts_65', 'stringLenCounts_72', 'stringLenCounts_84', 'stringLenCounts_94', 'stringLenCounts_75', 'stringLenCounts_79', 'stringLenCounts_81']]\n",
    "bytes_str_misc = pd.read_csv(root_path + 'feature_bytes_str_misc.csv')[['hash','jz', 'malloc', 'kernel', 'DLL', 'dd', 'dw', 'free', 'lea', 'dll', 'public', 'alloc', '.exe', 'security', 'user', 'db', 'init', '.dll', 'microsoft', 'windows', '__dllonexit', 'Virtual', 'code', 'exe', 'loc_', 'global', 'Software', 'rep', 'xml', 'handler', 'strlen', 'gdi', 'memcpy', 'proc', 'move', 'format', 'error', 'reg', 'load', 'arg', 'cmp', 'heap', 'file', 'add', 'fmode', 'esi', 'CurrentVersion', 'int', 'failed', 'loc', 'tls', 'config', 'inc', 'word', 'std', 'unk', 'environment', 'switch', 'resource', 'icm', 'DATA', 'Offset', 'src', 'sub', 'esp', 'call', 'var', 'close', 'calloc', 'dec', 'struct', 'thread', 'virtual', 'rva', 'BOOL', 'create', 'off', 'char', 'system', 'ptr', 'byte']]\n",
    "bytes_str_sym = pd.read_csv(root_path + 'feature_bytes_str_sym.csv')\n",
    "bytes_img_haralick = pd.read_csv(root_path + 'feature_bytes_img_haralick.csv')#[['hash','imgHaralick_12', 'imgHaralick_11', 'imgHaralick_8', 'imgHaralick_45', 'imgHaralick_32', 'imgHaralick_19', 'imgHaralick_31', 'imgHaralick_5', 'imgHaralick_38', 'imgHaralick_44', 'imgHaralick_18', 'imgHaralick_15', 'imgHaralick_6', 'imgHaralick_2', 'imgHaralick_10', 'imgHaralick_51', 'imgHaralick_41', 'imgHaralick_21', 'imgHaralick_25', 'imgHaralick_47', 'imgHaralick_28', 'imgHaralick_7', 'imgHaralick_1', 'imgHaralick_29', 'imgHaralick_4', 'imgHaralick_37', 'imgHaralick_3', 'imgHaralick_42', 'imgHaralick_34', 'imgHaralick_27', 'imgHaralick_33', 'imgHaralick_40', 'imgHaralick_14', 'imgHaralick_16', 'imgHaralick_50', 'imgHaralick_24', 'imgHaralick_36', 'imgHaralick_46', 'imgHaralick_20', 'imgHaralick_49', 'imgHaralick_23', 'imgHaralick_30', 'imgHaralick_43', 'imgHaralick_0']]\n",
    "asm_pe_info = pd.read_csv(root_path + 'feature_asm_pe_info.csv').drop(['Sections'], axis=1)\n",
    "asm_section_name_freq = pd.read_csv(root_path + 'feature_asm_section_name_freq.csv')\n",
    "asm_exec_section_name_freq = pd.read_csv(root_path + 'feature_asm_exec_section_name_freq.csv')\n",
    "asm_section_info = pd.read_csv(root_path + 'feature_asm_section_info.csv')\n",
    "asm_section_entropy = pd.read_csv(root_path + 'feature_asm_section_entropy.csv')\n",
    "asm_dll_freq = pd.read_csv(root_path + 'feature_asm_dll_freq.csv')\n",
    "asm_api_freq = pd.read_csv(root_path + 'feature_asm_api_freq.csv')[['hash','isdebuggerpresent', 'getcurrentthreadid', 'unhandledexceptionfilter', 'exitprocess', 'terminateprocess', 'sleep', 'regclosekey', 'openprocess', 'getcurrentprocess', 'loadlibrarya', 'freelibrary', 'virtualalloc', 'translatemessage', 'fwrite', 'initializecriticalsection', 'virtualprotect', 'gettickcount', 'waitforsingleobject', 'setendoffile', 'findclose', 'widechartomultibyte', 'getlasterror', 'lockresource', 'mapviewoffile', 'writefile', 'multibytetowidechar', 'rtlunwind', 'virtualquery', 'getsysteminfo', 'getprocaddress', 'readfile', 'closehandle', 'heapdestroy', 'createthread', 'getstdhandle', 'virtualfree', 'fopen', 'getwindowthreadprocessid', 'deletecriticalsection', 'getcpinfo', 'getlocaltime', 'setfilepointer', 'interlockedincrement', 'getfilesize', 'tlsgetvalue', 'leavecriticalsection', 'getfiletype', 'heapfree', 'interlockeddecrement', 'releasemutex', 'getoemcp', 'heapcreate', 'createmutexa', 'entercriticalsection', 'getenvironmentstrings', 'tlssetvalue', 'flushfilebuffers', 'createmutexw', 'setstdhandle', 'getfilesizeex', 'internetclosehandle', 'exitthread', 'winexec', 'deviceiocontrol', 'isbadreadptr', 'terminatethread', 'sethandlecount', 'socket', 'createtoolhelp32snapshot', 'internetreadfile', 'getthreadcontext', 'recv', 'wsacleanup', 'isbadwriteptr', 'connect', 'wsastartup', 'send', 'closesocket', 'virtualallocex', 'openmutexa', 'writeprocessmemory', 'openfile', 'createremotethread', 'sendto', 'process32next', 'getupdaterect', 'accept', 'gethostname', 'readprocessmemory', 'setkeyboardstate', 'connectnamedpipe', 'gethostbyaddr', 'process32first', 'bind', 'listen', 'cryptencrypt', 'disconnectnamedpipe', 'enumprocesses', 'internetwritefile', 'getupdatergn', 'setfileapistoansi', 'internetquerydataavailable', 'internetgetconnectedstate', 'setfileapistooem', 'icmpsendecho', 'wsasend', 'certdeletecertificatefromstore', 'checkremotedebuggerpresent', 'setfilevaliddata', 'getbinarytype', 'openfilebyid']]\n",
    "asm_opcode_freq = pd.read_csv(root_path + 'feature_asm_opcode_freq.csv')[['hash','pop', 'call', 'add', 'test', 'xor', 'and', 'mov', 'sub', 'push', 'retn', 'jnz', 'jz', 'jmp', 'movzx', 'leave', 'jle', 'dec', 'not', 'rol', 'inc', 'xchg', 'lea', 'imul', 'neg', 'pushf', 'nop', 'div', 'std', 'sbb', 'movsb', 'bt', 'fild', 'clc', 'setnl', 'cmpsb', 'setb', 'int', 'shld', 'jo', 'fdivp', 'fstcw', 'cmpsd', 'setle', 'outsd', 'bsr', 'scasw', 'aas', 'rdtsc', 'aad', 'loope']]\n",
    "asm_func_cnt = pd.read_csv(root_path + 'feature_asm_func_cnt.csv')\n",
    "asm_register_freq = pd.read_csv(root_path + 'feature_asm_register_freq.csv')\n",
    "asm_dd_freq = pd.read_csv(root_path + 'feature_asm_dd_freq.csv')\n",
    "asm_etc_info = pd.read_csv(root_path + 'feature_asm_etc_info.csv')\n",
    "asm_opcode_1g = pd.read_csv(root_path + 'feature_asm_opcode_1g.csv')[['hash','call', 'pop', 'add', 'mov', 'xor', 'retn', 'or', 'test', 'push', 'jmp', 'cmp', 'jz', 'sub', 'jnz', 'jb', 'and', 'dec', 'shr', 'inc', 'jle', 'lea', 'movzx', 'leave', 'js', 'rol', 'ja', 'not', 'xchg', 'imul', 'jl', 'jnb', 'shl', 'setz', 'jns', 'neg', 'jge', 'movsx', 'pushf', 'jbe', 'nop', 'stosd', 'adc', 'jg', 'sar', 'pusha', 'sbb', 'wait', 'setnz', 'sahf', 'movsb', 'movsd', 'cdq', 'div', 'scasb', 'fnclex', 'idiv', 'clc', 'bt', 'mul', 'setnle', 'fild', 'fld', 'cmc', 'faddp', 'popa', 'fstp', 'fnstsw', 'fldcw', 'fmul', 'cmpsb', 'xadd', 'int', 'fsubp', 'fcomp', 'ror', 'shrd', 'fmulp', 'jo', 'fadd', 'fldz', 'setl', 'callvirt', 'ldarg.1', 'fdiv', 'fsub', 'stloc.0', 'cvtps2pd', 'in', 'bts', 'fsubr', 'shld', 'endfinally', 'ldloc.1', 'fst', 'movdqa', 'bswap', 'stloc.1', 'jp', 'cmovnz', 'ldarg.0']]\n",
    "asm_opcode_2g = pd.read_csv(root_path + 'feature_asm_opcode_2g.csv')[['hash','.', 'retn.', 'mov.mov', 'push.call', 'call.pop', 'jmp.', 'push.retn', '.mov', 'mov.push', 'call.call', 'jz.push', 'push.push', 'inc.push', 'add.mov', 'mov.test', 'mov.jmp', 'xor.call', 'jz.test', 'push.mov', 'mov.or', 'mov.call', 'xor.pop', 'jmp.mov', 'test.jz', 'push.sub', 'pop.pop', 'or.jz', 'pop.retn', 'mov.jnz', 'call.mov', '.jmp', 'add.retn', 'mov.pushf', 'add.jmp', 'mov.retn', 'jz.mov', 'add.test', 'mov.add', 'lea.cmp', 'call.add', 'jmp.jmp', 'mov.jz', 'leave.retn', 'xor.cmp', 'pop.mov', 'sub.mov', 'jz.pop', 'cmp.jb', 'pop.push', 'dec.jnz', 'mov.pop', 'test.jnz', 'pop.leave', 'jnz.push', 'lea.test', 'mov.xor', 'jnz.cmp', 'pop.inc', 'retn.mov', 'call.xor', 'mov.jg', 'inc.dec', 'sub.sub', '.pop', 'jz.jmp', 'inc.mov', 'movzx.inc', 'pop.jz', 'cmp.jz', 'mov.sub', 'retn.pop', 'jz.cmp', 'pop.test', 'mov.lea', 'xor.mov', 'retn.push', 'call.', 'lea.mov', 'lea.jmp', 'lea.push', 'jnz.mov', '.push', 'cmp.jnz', 'add.sub', 'call.push', 'pop.sub', 'xor.retn', 'xor.jmp', 'mov.inc', 'jmp.push', 'test.mov', 'test.js', 'retn.jmp', 'movzx.shl', 'cmp.pop', 'or.mov', 'js.mov', 'sub.push', 'xor.inc', 'add.cmp']]\n",
    "asm_opcode_3g = pd.read_csv(root_path + 'feature_asm_opcode_3g.csv')\n",
    "asm_opcode_4g = pd.read_csv(root_path + 'feature_asm_opcode_4g.csv')\n",
    "asm_reg_2g = pd.read_csv(root_path + 'feature_asm_register_2g.csv')\n",
    "asm_reg_3g = pd.read_csv(root_path + 'feature_asm_register_3g.csv')\n",
    "asm_reg_4g = pd.read_csv(root_path + 'feature_asm_register_4g.csv')\n",
    "asm_inst_1g = pd.read_csv(root_path + 'feature_asm_inst_1g.csv')\n",
    "asm_inst_2g = pd.read_csv(root_path + 'feature_asm_inst_2g.csv')\n",
    "asm_inst_3g = pd.read_csv(root_path + 'feature_asm_inst_3g.csv')\n",
    "asm_inst_4g = pd.read_csv(root_path + 'feature_asm_inst_4g.csv')\n",
    "asm_img = pd.read_csv(root_path + './feature_asm_img.csv')[['hash'] + ['asm_img_' + str(v+1) for v in range(100)]]"
   ]
  },
  {
   "cell_type": "code",
   "execution_count": 2,
   "metadata": {
    "collapsed": true
   },
   "outputs": [
    {
     "ename": "NameError",
     "evalue": "name 'asm_etc_info' is not defined",
     "output_type": "error",
     "traceback": [
      "\u001b[1;31m---------------------------------------------------------------------------\u001b[0m",
      "\u001b[1;31mNameError\u001b[0m                                 Traceback (most recent call last)",
      "\u001b[1;32m<ipython-input-2-1582f96265f6>\u001b[0m in \u001b[0;36m<module>\u001b[1;34m\u001b[0m\n\u001b[0;32m      1\u001b[0m \u001b[0mle\u001b[0m \u001b[1;33m=\u001b[0m \u001b[0mLabelEncoder\u001b[0m\u001b[1;33m(\u001b[0m\u001b[1;33m)\u001b[0m\u001b[1;33m\u001b[0m\u001b[1;33m\u001b[0m\u001b[0m\n\u001b[1;32m----> 2\u001b[1;33m \u001b[0mle\u001b[0m\u001b[1;33m.\u001b[0m\u001b[0mfit\u001b[0m\u001b[1;33m(\u001b[0m\u001b[0mlist\u001b[0m\u001b[1;33m(\u001b[0m\u001b[0masm_etc_info\u001b[0m\u001b[1;33m[\u001b[0m\u001b[1;34m'first_addr'\u001b[0m\u001b[1;33m]\u001b[0m\u001b[1;33m.\u001b[0m\u001b[0mvalues\u001b[0m\u001b[1;33m)\u001b[0m\u001b[1;33m)\u001b[0m\u001b[1;33m\u001b[0m\u001b[1;33m\u001b[0m\u001b[0m\n\u001b[0m\u001b[0;32m      3\u001b[0m \u001b[0masm_etc_info\u001b[0m\u001b[1;33m[\u001b[0m\u001b[1;34m'first_addr'\u001b[0m\u001b[1;33m]\u001b[0m \u001b[1;33m=\u001b[0m \u001b[0mle\u001b[0m\u001b[1;33m.\u001b[0m\u001b[0mtransform\u001b[0m\u001b[1;33m(\u001b[0m\u001b[0mlist\u001b[0m\u001b[1;33m(\u001b[0m\u001b[0masm_etc_info\u001b[0m\u001b[1;33m[\u001b[0m\u001b[1;34m'first_addr'\u001b[0m\u001b[1;33m]\u001b[0m\u001b[1;33m.\u001b[0m\u001b[0mvalues\u001b[0m\u001b[1;33m)\u001b[0m\u001b[1;33m)\u001b[0m\u001b[1;33m\u001b[0m\u001b[1;33m\u001b[0m\u001b[0m\n",
      "\u001b[1;31mNameError\u001b[0m: name 'asm_etc_info' is not defined"
     ]
    }
   ],
   "source": [
    "le = LabelEncoder()\n",
    "le.fit(list(asm_etc_info['first_addr'].values))\n",
    "asm_etc_info['first_addr'] = le.transform(list(asm_etc_info['first_addr'].values))"
   ]
  },
  {
   "cell_type": "code",
   "execution_count": 28,
   "metadata": {},
   "outputs": [],
   "source": [
    "feature_set = [bytes_ngram_1gram, bytes_ngram_2gram, \n",
    "               bytes_str_len, bytes_str_misc, bytes_str_sym, \n",
    "               bytes_img_haralick, \n",
    "               asm_pe_info, \n",
    "               asm_section_name_freq, asm_exec_section_name_freq, asm_section_info, asm_section_entropy, \n",
    "               asm_dll_freq, asm_api_freq, \n",
    "               asm_func_cnt, \n",
    "               asm_dd_freq, \n",
    "               asm_etc_info,\n",
    "               asm_opcode_freq, asm_opcode_1g, asm_opcode_2g, asm_opcode_3g, asm_opcode_4g,\n",
    "               asm_register_freq, asm_reg_2g, asm_reg_3g, asm_reg_4g,\n",
    "               asm_inst_1g, asm_inst_2g, asm_inst_3g, asm_inst_4g,\n",
    "               asm_img]"
   ]
  },
  {
   "cell_type": "code",
   "execution_count": null,
   "metadata": {},
   "outputs": [],
   "source": [
    "feature_set_name = ['1gram', '2gram', \n",
    "                    'len', 'misc', 'sym', \n",
    "                    'haralick', \n",
    "                    'pe', \n",
    "                    'section_name_freq', 'exec_section_name_freq', 'section_info', 'section_entropy', \n",
    "                    'dll_freq', 'api_freq', \n",
    "                    'func', \n",
    "                    'dd', \n",
    "                    'etc', \n",
    "                    'opcode', 'op1g', 'op2g', 'op3g', 'op4g', \n",
    "                    'register', 'reg2', 'reg3', 'reg4', \n",
    "                    'inst1', 'inst2', 'inst3', 'inst4',\n",
    "                    'asm_img']"
   ]
  },
  {
   "cell_type": "markdown",
   "metadata": {},
   "source": [
    "## y data load"
   ]
  },
  {
   "cell_type": "code",
   "execution_count": 30,
   "metadata": {},
   "outputs": [],
   "source": [
    "y_data = pd.read_excel(root_path + 'label.xlsx').sort_values(by='hash')\n",
    "label = y_data['hash'].to_frame()\n",
    "is_mal = y_data['is_mal'].to_frame()"
   ]
  },
  {
   "cell_type": "markdown",
   "metadata": {},
   "source": [
    "###### (본선에서만 실행할 것)"
   ]
  },
  {
   "cell_type": "code",
   "execution_count": 9,
   "metadata": {},
   "outputs": [],
   "source": [
    "label = bytes_ngram_1gram['hash'].to_frame()"
   ]
  },
  {
   "cell_type": "markdown",
   "metadata": {},
   "source": [
    "## util function"
   ]
  },
  {
   "cell_type": "code",
   "execution_count": 3,
   "metadata": {},
   "outputs": [],
   "source": [
    "def pre_processing(feature_set, label):\n",
    "    result = []\n",
    "    \n",
    "    # 각 피처들에 대해 접근\n",
    "    for features in feature_set:\n",
    "        # 오름차순 정렬 by hash\n",
    "        features = features.sort_values(by='hash')\n",
    "        \n",
    "        # 레이블에 맞추기\n",
    "        features = pd.merge(label, features, how='left', on='hash')\n",
    "        \n",
    "        # 널데이터 처리\n",
    "        features = features.fillna(0)\n",
    "        \n",
    "        result.append(features)\n",
    "    \n",
    "    return result"
   ]
  },
  {
   "cell_type": "code",
   "execution_count": 32,
   "metadata": {},
   "outputs": [],
   "source": [
    "def feature_concat(*argv):\n",
    "    temp = argv[0]\n",
    "    for i, features in enumerate(argv):\n",
    "        if i == 0:\n",
    "            continue\n",
    "        temp = pd.merge(temp, features, on='hash', how='left')\n",
    "    \n",
    "    return temp"
   ]
  },
  {
   "cell_type": "code",
   "execution_count": null,
   "metadata": {},
   "outputs": [],
   "source": [
    "def get_cv_score(x_data, y_data, model, k):\n",
    "    \n",
    "    cv = KFold(k, shuffle=True, random_state=0)\n",
    "    \n",
    "    train_score = []\n",
    "    cv_score = []\n",
    "    \n",
    "    for idx_train, idx_test in cv.split(X=x_data, y=y_data):\n",
    "        \n",
    "        x_train = x_data.iloc[idx_train]\n",
    "        x_test = x_data.iloc[idx_test]\n",
    "        y_train = is_mal.iloc[idx_train]\n",
    "        y_test = is_mal.iloc[idx_test]\n",
    "\n",
    "        model.fit(x_train, y_train)\n",
    "        \n",
    "        train_score.append(model.score(x_train, y_train))\n",
    "        cv_score.append(model.score(x_test, y_test))\n",
    "    \n",
    "    return train_score, cv_score"
   ]
  },
  {
   "cell_type": "code",
   "execution_count": 34,
   "metadata": {},
   "outputs": [],
   "source": [
    "def select_important_feautre(columns, feature_importance, num):\n",
    "    \n",
    "    #딕셔너리\n",
    "    dic = {}\n",
    "    for value in [list(v) for v in zip(columns, feature_importance)]:\n",
    "        dic[str(value[1])] = value[0] \n",
    "    \n",
    "    #피처 중요도\n",
    "    f_i = list(feature_importance)\n",
    "    f_i.sort(reverse=True)\n",
    "    \n",
    "    \n",
    "    #n개 뽑기\n",
    "    result = []\n",
    "    for i in range(0, num):\n",
    "        result.append(dic[str(f_i[i])])\n",
    "    \n",
    "    return result"
   ]
  },
  {
   "cell_type": "code",
   "execution_count": 35,
   "metadata": {},
   "outputs": [],
   "source": [
    "def devide_size(feature):\n",
    "    feature = copy.copy(feature)\n",
    "    for col in feature.columns:\n",
    "        if col == 'hash':\n",
    "            continue\n",
    "            \n",
    "        feature[col] = feature[col] / (feature_set[17]['number_of_lines'] + 1)\n",
    "    \n",
    "    return feature"
   ]
  },
  {
   "cell_type": "code",
   "execution_count": 36,
   "metadata": {},
   "outputs": [],
   "source": [
    "def std_data(feature):\n",
    "    feature = copy.copy(feature)\n",
    "    for col in feature.columns:\n",
    "        if col == 'hash':\n",
    "            continue\n",
    "        \n",
    "        feature[col] = (feature[col] - feature[col].mean()) / feature[col].std()\n",
    "    \n",
    "    return feature"
   ]
  },
  {
   "cell_type": "markdown",
   "metadata": {},
   "source": [
    "## pre processing"
   ]
  },
  {
   "cell_type": "code",
   "execution_count": 37,
   "metadata": {},
   "outputs": [],
   "source": [
    "feature_set = pre_processing(feature_set, label)"
   ]
  },
  {
   "cell_type": "markdown",
   "metadata": {},
   "source": [
    "## FOR DEEP LEARNING"
   ]
  },
  {
   "cell_type": "code",
   "execution_count": 33,
   "metadata": {},
   "outputs": [],
   "source": [
    "x_data = feature_concat(feature_set[17], feature_set[18], feature_set[19], feature_set[20], feature_set[21], feature_set[22], feature_set[23], feature_set[24], feature_set[25], feature_set[26], feature_set[27], feature_set[28]).drop(['hash'], axis = 1)"
   ]
  },
  {
   "cell_type": "markdown",
   "metadata": {},
   "source": [
    "## to csv"
   ]
  },
  {
   "cell_type": "code",
   "execution_count": 38,
   "metadata": {
    "scrolled": true
   },
   "outputs": [
    {
     "name": "stdout",
     "output_type": "stream",
     "text": [
      "0 1gram\n",
      "1 2gram\n",
      "2 len\n",
      "3 misc\n",
      "4 sym\n",
      "5 haralick\n",
      "6 pe\n",
      "7 section_name_freq\n",
      "8 exec_section_name_freq\n",
      "9 section_info\n",
      "10 section_entropy\n",
      "11 dll_freq\n",
      "12 api_freq\n",
      "13 func\n",
      "14 dd\n",
      "15 etc\n",
      "16 opcode\n",
      "17 op1g\n",
      "18 op2g\n",
      "19 op3g\n",
      "20 op4g\n",
      "21 register\n",
      "22 reg2\n",
      "23 reg3\n",
      "24 reg4\n",
      "25 inst1\n",
      "26 inst2\n",
      "27 inst3\n",
      "28 inst4\n",
      "29 asm_img\n"
     ]
    }
   ],
   "source": [
    "for i, name in enumerate(feature_set_name):\n",
    "    print(i, name)"
   ]
  },
  {
   "cell_type": "code",
   "execution_count": 39,
   "metadata": {},
   "outputs": [],
   "source": [
    "x_data = feature_concat(feature_set[6], feature_set[10], feature_set[21], feature_set[9], feature_set[13], feature_set[16], feature_set[7], feature_set[12], feature_set[3], feature_set[8], feature_set[11], feature_set[14], feature_set[29]).drop(['hash'], axis = 1)"
   ]
  },
  {
   "cell_type": "code",
   "execution_count": 43,
   "metadata": {},
   "outputs": [],
   "source": [
    "x_data.index = label.hash"
   ]
  },
  {
   "cell_type": "code",
   "execution_count": 44,
   "metadata": {},
   "outputs": [],
   "source": [
    "x_data.to_csv('./data_train.csv')"
   ]
  }
 ],
 "metadata": {
  "kernelspec": {
   "display_name": "Python 3",
   "language": "python",
   "name": "python3"
  },
  "language_info": {
   "codemirror_mode": {
    "name": "ipython",
    "version": 3
   },
   "file_extension": ".py",
   "mimetype": "text/x-python",
   "name": "python",
   "nbconvert_exporter": "python",
   "pygments_lexer": "ipython3",
   "version": "3.6.7"
  }
 },
 "nbformat": 4,
 "nbformat_minor": 2
}
