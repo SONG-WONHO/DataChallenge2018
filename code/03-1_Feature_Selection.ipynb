{
 "cells": [
  {
   "cell_type": "markdown",
   "metadata": {},
   "source": [
    "# Feature Selection\n",
    "\n",
    "- Bytes\n",
    ">   - ngram_1gram => 80개\n",
    "    - ngram_2gram => 150개\n",
    "    - str_len => 90개\n",
    "    - str_misc => 80개\n",
    "    - str_sym => 21개 (그대로)\n",
    "    - haralick => 44개\n",
    "\n",
    "- Asm\n",
    ">   - pe_info => 38개 (그대로)\n",
    "    - section_name_freq => 38개 (그대로)\n",
    "    - exec_section_name_freq => 18개 (그대로)\n",
    "    - section_info => 10개 (그대로)\n",
    "    - section_entropy => 4개 (그대로)\n",
    "    - dll_freq => 16개 (그대로)\n",
    "    - api_freq => 111개\n",
    "    - opcode_freq => 50개\n",
    "    - func_cnt => 6개 (그대로)\n",
    "    - resgister_freq => 29개 (그대로)\n",
    "    - dd_freq => 3개 (그대로)\n",
    "    - etc_info => 3개 (그대로)"
   ]
  },
  {
   "cell_type": "markdown",
   "metadata": {},
   "source": [
    "# 모듈 로드"
   ]
  },
  {
   "cell_type": "code",
   "execution_count": 48,
   "metadata": {},
   "outputs": [],
   "source": [
    "import pandas as pd\n",
    "import numpy as np\n",
    "import seaborn as sns\n",
    "import matplotlib.pyplot as plt\n",
    "import warnings\n",
    "from sklearn.ensemble import RandomForestClassifier\n",
    "from sklearn.model_selection import train_test_split\n",
    "from sklearn.model_selection import KFold\n",
    "from sklearn.preprocessing import LabelEncoder\n",
    "from xgboost import XGBClassifier"
   ]
  },
  {
   "cell_type": "code",
   "execution_count": 1,
   "metadata": {},
   "outputs": [],
   "source": [
    "import warnings\n",
    "warnings.filterwarnings('ignore')"
   ]
  },
  {
   "cell_type": "markdown",
   "metadata": {},
   "source": [
    "# x 데이터 로드"
   ]
  },
  {
   "cell_type": "code",
   "execution_count": 297,
   "metadata": {},
   "outputs": [],
   "source": [
    "root_path = './data/result/'\n",
    "bytes_ngram_1gram = pd.read_csv(root_path + 'feature_bytes_ngram_1gram.csv')[['hash','245', '173', '32', '134', '204', '231', '255', '113', '155', '48', '154', '222', '174', '175', '16', '117', '139', '167', '130', '59', '253', '116', '237', '64', '239', '149', '3', '106', '251', '6', '0', '15', '254', '153', '105', '157', '36', '162', '146', '166', '12', '133', '158', '131', '137', '77', '143', '233', '227', '4', '170', '5', '193', '250', '151', '86', '195', '1', '49', '196', '199', '171', '81', '89', '194', '85', '115', '123', '75', '110', '218', '20', '21', '198', '192', '93', '63', '226', '67', '159']]\n",
    "bytes_ngram_2gram = pd.read_csv(root_path + 'feature_bytes_ngram_2gram.csv')[['hash','134.247', '134.72', '85.4', '42.134', '3.85', '66.115', '48.130', '72.134', '33.11', '6.3', '85.29', '73.99', '48.13', '11.48', '46.68', '58.47', '121.65', '46.99', '247.13', '9.42', '112.58', '97.69', '13.1', '48.9', '195.195', '128.14', '86.77', '43.6', '48.129', '13.6', '130.1', '251.160', '6.1', '113.181', '1.11', '192.192', '27.64', '255.252', '22.114', '255.40', '6.9', '186.186', '32.64', '36.48', '3.40', '91.91', '2.33', '1.5', '31.64', '10.13', '49.11', '35.64', '104.65', '215.215', '255.173', '1.29', '89.100', '113.108', '31.41', '32.83', '19.2', '255.74', '253.64', '8.111', '23.13', '51.50', '147.64', '97.72', '210.210', '146.64', '255.175', '7.128', '243.84', '99.65', '38.64', '109.47', '106.69', '77.121', '251.252', '17.183', '105.103', '99.36', '130.55', '9.6', '105.110', '139.226', '255.248', '189.189', '3.130', '110.116', '158.158', '69.98', '80.65', '100.108', '245.245', '255.243', '3.29', '255.111', '97.66', '11.7', '3.2', '55.2', '252.252', '17.64', '102.207', '0.128', '108.103', '75.73', '32.67', '49.48', '64.0', '75.95', '13.10', '10.111', '86.66', '70.107', '219.172', '46.114', '22.4', '18.64', '101.115', '89.66', '103.75', '113.65', '116.112', '90.84', '15.28', '255.234', '181.67', '10.115', '255.188', '101.116', '122.124', '176.64', '229.229', '24.48', '65.12', '255.166', '43.64', '32.32', '111.92', '255.253', '209.90', '77.99', '100.101', '137.22', '80.114', '17.213', '95.105', '47.99']]\n",
    "bytes_str_len = pd.read_csv(root_path + 'feature_bytes_str_len.csv')[['hash','stringLenCounts_3', 'stringLenCounts_6', 'stringLenCounts_4', 'stringLenCounts_2', 'stringLenCounts_0_10', 'stringLenCounts_34', 'stringLenCounts_12', 'stringTotalLen', 'stringLenCounts_1', 'stringLenCounts_62', 'stringLenCounts_5', 'stringLenCounts_30_60', 'stringLenCounts_25', 'stringLenCounts_10_30', 'stringLenCounts_9', 'stringLenCounts_8', 'stringLenCounts_10', 'stringLenCounts_7', 'stringLenCounts_32', 'stringLenCounts_14', 'stringLenCounts_21', 'stringLenCounts_50', 'stringLenCounts_11', 'stringLenCounts_26', 'stringLenCounts_13', 'stringLenCounts_16', 'stringLenCounts_49', 'stringLenCounts_18', 'stringLenCounts_40', 'stringLenCounts_36', 'stringLenCounts_19', 'stringLenCounts_23', 'stringLenCounts_17', 'stringLenCounts_55', 'stringLenCounts_27', 'stringLenCounts_15', 'stringLenCounts_24', 'stringLenCounts_28', 'stringLenCounts_22', 'stringLenCounts_48', 'stringLenCounts_60_90', 'stringLenCounts_29', 'stringLenCounts_39', 'stringLenCounts_20', 'stringLenCounts_41', 'stringLenCounts_38', 'stringLenCounts_42', 'stringLenCounts_46', 'stringLenCounts_31', 'stringLenCounts_30', 'stringLenCounts_90_inf', 'stringLenCountsMore100', 'stringLenCounts_33', 'stringLenCounts_35', 'stringLenCounts_53', 'stringLenCounts_52', 'stringLenCounts_66', 'stringLenCounts_43', 'stringLenCounts_54', 'stringLenCounts_45', 'stringLenCounts_61', 'stringLenCounts_73', 'stringLenCounts_71', 'stringLenCounts_64', 'stringLenCounts_74', 'stringLenCounts_37', 'stringLenCounts_47', 'stringLenCounts_44', 'stringLenCounts_63', 'stringLenCounts_70', 'stringLenCounts_51', 'stringLenCounts_67', 'stringLenCounts_76', 'stringLenCounts_68', 'stringLenCounts_60', 'stringLenCounts_69', 'stringLenCounts_58', 'stringLenCounts_59', 'stringLenCounts_95', 'stringLenCounts_57', 'stringLenCounts_77', 'stringLenCounts_90', 'stringLenCounts_56', 'stringLenCounts_65', 'stringLenCounts_72', 'stringLenCounts_84', 'stringLenCounts_94', 'stringLenCounts_75', 'stringLenCounts_79', 'stringLenCounts_81']]\n",
    "bytes_str_misc = pd.read_csv(root_path + 'feature_bytes_str_misc.csv')[['hash','jz', 'malloc', 'kernel', 'DLL', 'dd', 'dw', 'free', 'lea', 'dll', 'public', 'alloc', '.exe', 'security', 'user', 'db', 'init', '.dll', 'microsoft', 'windows', '__dllonexit', 'Virtual', 'code', 'exe', 'loc_', 'global', 'Software', 'rep', 'xml', 'handler', 'strlen', 'gdi', 'memcpy', 'proc', 'move', 'format', 'error', 'reg', 'load', 'arg', 'cmp', 'heap', 'file', 'add', 'fmode', 'esi', 'CurrentVersion', 'int', 'failed', 'loc', 'tls', 'config', 'inc', 'word', 'std', 'unk', 'environment', 'switch', 'resource', 'icm', 'DATA', 'Offset', 'src', 'sub', 'esp', 'call', 'var', 'close', 'calloc', 'dec', 'struct', 'thread', 'virtual', 'rva', 'BOOL', 'create', 'off', 'char', 'system', 'ptr', 'byte']]\n",
    "bytes_str_sym = pd.read_csv(root_path + 'feature_bytes_str_sym.csv')\n",
    "bytes_img_haralick = pd.read_csv(root_path + 'feature_bytes_img_haralick.csv')[['hash','imgHaralick_12', 'imgHaralick_11', 'imgHaralick_8', 'imgHaralick_45', 'imgHaralick_32', 'imgHaralick_19', 'imgHaralick_31', 'imgHaralick_5', 'imgHaralick_38', 'imgHaralick_44', 'imgHaralick_18', 'imgHaralick_15', 'imgHaralick_6', 'imgHaralick_2', 'imgHaralick_10', 'imgHaralick_51', 'imgHaralick_41', 'imgHaralick_21', 'imgHaralick_25', 'imgHaralick_47', 'imgHaralick_28', 'imgHaralick_7', 'imgHaralick_1', 'imgHaralick_29', 'imgHaralick_4', 'imgHaralick_37', 'imgHaralick_3', 'imgHaralick_42', 'imgHaralick_34', 'imgHaralick_27', 'imgHaralick_33', 'imgHaralick_40', 'imgHaralick_14', 'imgHaralick_16', 'imgHaralick_50', 'imgHaralick_24', 'imgHaralick_36', 'imgHaralick_46', 'imgHaralick_20', 'imgHaralick_49', 'imgHaralick_23', 'imgHaralick_30', 'imgHaralick_43', 'imgHaralick_0']]\n",
    "asm_pe_info = pd.read_csv(root_path + 'feature_asm_pe_info.csv').drop(['Sections'], axis=1)\n",
    "asm_section_name_freq = pd.read_csv(root_path + 'feature_asm_section_name_freq.csv')\n",
    "asm_exec_section_name_freq = pd.read_csv(root_path + 'feature_asm_exec_section_name_freq.csv')\n",
    "asm_section_info = pd.read_csv(root_path + 'feature_asm_section_info.csv')\n",
    "asm_section_entropy = pd.read_csv(root_path + 'feature_asm_section_entropy.csv')\n",
    "asm_dll_freq = pd.read_csv(root_path + 'feature_asm_dll_freq.csv')\n",
    "asm_api_freq = pd.read_csv(root_path + 'feature_asm_api_freq.csv')[['hash','isdebuggerpresent', 'getcurrentthreadid', 'unhandledexceptionfilter', 'exitprocess', 'terminateprocess', 'sleep', 'regclosekey', 'openprocess', 'getcurrentprocess', 'loadlibrarya', 'freelibrary', 'virtualalloc', 'translatemessage', 'fwrite', 'initializecriticalsection', 'virtualprotect', 'gettickcount', 'waitforsingleobject', 'setendoffile', 'findclose', 'widechartomultibyte', 'getlasterror', 'lockresource', 'mapviewoffile', 'writefile', 'multibytetowidechar', 'rtlunwind', 'virtualquery', 'getsysteminfo', 'getprocaddress', 'readfile', 'closehandle', 'heapdestroy', 'createthread', 'getstdhandle', 'virtualfree', 'fopen', 'getwindowthreadprocessid', 'deletecriticalsection', 'getcpinfo', 'getlocaltime', 'setfilepointer', 'interlockedincrement', 'getfilesize', 'tlsgetvalue', 'leavecriticalsection', 'getfiletype', 'heapfree', 'interlockeddecrement', 'releasemutex', 'getoemcp', 'heapcreate', 'createmutexa', 'entercriticalsection', 'getenvironmentstrings', 'tlssetvalue', 'flushfilebuffers', 'createmutexw', 'setstdhandle', 'getfilesizeex', 'internetclosehandle', 'exitthread', 'winexec', 'deviceiocontrol', 'isbadreadptr', 'terminatethread', 'sethandlecount', 'socket', 'createtoolhelp32snapshot', 'internetreadfile', 'getthreadcontext', 'recv', 'wsacleanup', 'isbadwriteptr', 'connect', 'wsastartup', 'send', 'closesocket', 'virtualallocex', 'openmutexa', 'writeprocessmemory', 'openfile', 'createremotethread', 'sendto', 'process32next', 'getupdaterect', 'accept', 'gethostname', 'readprocessmemory', 'setkeyboardstate', 'connectnamedpipe', 'gethostbyaddr', 'process32first', 'bind', 'listen', 'cryptencrypt', 'disconnectnamedpipe', 'enumprocesses', 'internetwritefile', 'getupdatergn', 'setfileapistoansi', 'internetquerydataavailable', 'internetgetconnectedstate', 'setfileapistooem', 'icmpsendecho', 'wsasend', 'certdeletecertificatefromstore', 'checkremotedebuggerpresent', 'setfilevaliddata', 'getbinarytype', 'openfilebyid']]\n",
    "asm_opcode_freq = pd.read_csv(root_path + 'feature_asm_opcode_freq.csv')[['hash','pop', 'call', 'add', 'test', 'xor', 'and', 'mov', 'sub', 'push', 'retn', 'jnz', 'jz', 'jmp', 'movzx', 'leave', 'jle', 'dec', 'not', 'rol', 'inc', 'xchg', 'lea', 'imul', 'neg', 'pushf', 'nop', 'div', 'std', 'sbb', 'movsb', 'bt', 'fild', 'clc', 'setnl', 'cmpsb', 'setb', 'int', 'shld', 'jo', 'fdivp', 'fstcw', 'cmpsd', 'setle', 'outsd', 'bsr', 'scasw', 'aas', 'rdtsc', 'aad', 'loope']]\n",
    "asm_func_cnt = pd.read_csv(root_path + 'feature_asm_func_cnt.csv')\n",
    "asm_register_freq = pd.read_csv(root_path + 'feature_asm_register_freq.csv')\n",
    "asm_dd_freq = pd.read_csv(root_path + 'feature_asm_dd_freq.csv')\n",
    "asm_etc_info = pd.read_csv(root_path + 'feature_asm_etc_info.csv')\n",
    "asm_img_bytes = pd.read_csv('./asm_img_train.csv')\n",
    "asm_opcode_1g = pd.read_csv(root_path + 'feature_asm_opcode_1g.csv')[['hash','call', 'pop', 'add', 'mov', 'xor', 'retn', 'or', 'test', 'push', 'jmp', 'cmp', 'jz', 'sub', 'jnz', 'jb', 'and', 'dec', 'shr', 'inc', 'jle', 'lea', 'movzx', 'leave', 'js', 'rol', 'ja', 'not', 'xchg', 'imul', 'jl', 'jnb', 'shl', 'setz', 'jns', 'neg', 'jge', 'movsx', 'pushf', 'jbe', 'nop', 'stosd', 'adc', 'jg', 'sar', 'pusha', 'sbb', 'wait', 'setnz', 'sahf', 'movsb', 'movsd', 'cdq', 'div', 'scasb', 'fnclex', 'idiv', 'clc', 'bt', 'mul', 'setnle', 'fild', 'fld', 'cmc', 'faddp', 'popa', 'fstp', 'fnstsw', 'fldcw', 'fmul', 'cmpsb', 'xadd', 'int', 'fsubp', 'fcomp', 'ror', 'shrd', 'fmulp', 'jo', 'fadd', 'fldz', 'setl', 'callvirt', 'ldarg.1', 'fdiv', 'fsub', 'stloc.0', 'cvtps2pd', 'in', 'bts', 'fsubr', 'shld', 'endfinally', 'ldloc.1', 'fst', 'movdqa', 'bswap', 'stloc.1', 'jp', 'cmovnz', 'ldarg.0']]\n",
    "asm_opcode_2g = pd.read_csv(root_path + 'feature_asm_opcode_2g.csv')[['hash','.', 'retn.', 'mov.mov', 'push.call', 'call.pop', 'jmp.', 'push.retn', '.mov', 'mov.push', 'call.call', 'jz.push', 'push.push', 'inc.push', 'add.mov', 'mov.test', 'mov.jmp', 'xor.call', 'jz.test', 'push.mov', 'mov.or', 'mov.call', 'xor.pop', 'jmp.mov', 'test.jz', 'push.sub', 'pop.pop', 'or.jz', 'pop.retn', 'mov.jnz', 'call.mov', '.jmp', 'add.retn', 'mov.pushf', 'add.jmp', 'mov.retn', 'jz.mov', 'add.test', 'mov.add', 'lea.cmp', 'call.add', 'jmp.jmp', 'mov.jz', 'leave.retn', 'xor.cmp', 'pop.mov', 'sub.mov', 'jz.pop', 'cmp.jb', 'pop.push', 'dec.jnz', 'mov.pop', 'test.jnz', 'pop.leave', 'jnz.push', 'lea.test', 'mov.xor', 'jnz.cmp', 'pop.inc', 'retn.mov', 'call.xor', 'mov.jg', 'inc.dec', 'sub.sub', '.pop', 'jz.jmp', 'inc.mov', 'movzx.inc', 'pop.jz', 'cmp.jz', 'mov.sub', 'retn.pop', 'jz.cmp', 'pop.test', 'mov.lea', 'xor.mov', 'retn.push', 'call.', 'lea.mov', 'lea.jmp', 'lea.push', 'jnz.mov', '.push', 'cmp.jnz', 'add.sub', 'call.push', 'pop.sub', 'xor.retn', 'xor.jmp', 'mov.inc', 'jmp.push', 'test.mov', 'test.js', 'retn.jmp', 'movzx.shl', 'cmp.pop', 'or.mov', 'js.mov', 'sub.push', 'xor.inc', 'add.cmp']]\n",
    "asm_opcode_3g = pd.read_csv(root_path + 'feature_asm_opcode_3g.csv')\n",
    "asm_opcode_4g = pd.read_csv(root_path + 'feature_asm_opcode_4g.csv')\n",
    "asm_reg_2g = pd.read_csv(root_path + 'feature_asm_register_2g.csv')\n",
    "asm_reg_3g = pd.read_csv(root_path + 'feature_asm_register_3g.csv')\n",
    "asm_reg_4g = pd.read_csv(root_path + 'feature_asm_register_4g.csv')"
   ]
  },
  {
   "cell_type": "code",
   "execution_count": 474,
   "metadata": {},
   "outputs": [],
   "source": [
    "asm_inst_1g = pd.read_csv(root_path + 'feature_asm_inst_1g.csv')\n",
    "asm_inst_2g = pd.read_csv(root_path + 'feature_asm_inst_2g.csv')\n",
    "asm_inst_3g = pd.read_csv(root_path + 'feature_asm_inst_3g.csv')\n",
    "asm_inst_4g = pd.read_csv(root_path + 'feature_asm_inst_4g.csv')"
   ]
  },
  {
   "cell_type": "code",
   "execution_count": 475,
   "metadata": {
    "scrolled": true
   },
   "outputs": [],
   "source": [
    "le = LabelEncoder()\n",
    "le.fit(list(asm_etc_info['first_addr'].values))\n",
    "asm_etc_info['first_addr'] = le.transform(list(asm_etc_info['first_addr'].values))"
   ]
  },
  {
   "cell_type": "code",
   "execution_count": 476,
   "metadata": {},
   "outputs": [],
   "source": [
    "feature_set = [bytes_ngram_1gram, bytes_ngram_2gram, bytes_str_len, bytes_str_misc, \n",
    "               bytes_str_sym, bytes_img_haralick, asm_pe_info, asm_section_name_freq, \n",
    "               asm_exec_section_name_freq, asm_section_info, asm_section_entropy, asm_dll_freq, \n",
    "               asm_api_freq, asm_opcode_freq, asm_func_cnt, asm_register_freq, asm_dd_freq, asm_etc_info, asm_img_bytes,\n",
    "               asm_opcode_1g, asm_opcode_2g, asm_opcode_3g, asm_opcode_4g,\n",
    "               asm_reg_2g, asm_reg_3g, asm_reg_4g,\n",
    "               asm_inst_1g, asm_inst_2g, asm_inst_3g, asm_inst_4g]"
   ]
  },
  {
   "cell_type": "code",
   "execution_count": 477,
   "metadata": {},
   "outputs": [],
   "source": [
    "feature_set_name = ['1gram', '2gram', 'len', 'misc', 'sym', 'haralick', 'pe', 'section_name_freq', 'exec_section_name_freq', 'section_info', 'section_entropy', 'dll_freq', 'api_freq', 'opcode', 'func', 'register', 'dd', 'etc', 'asm_img_bytes', 'op1g', 'op2g', 'op3g', 'op4g', 'reg2', 'reg3', 'reg4', 'inst1', 'inst2', 'inst3', 'inst4']"
   ]
  },
  {
   "cell_type": "markdown",
   "metadata": {},
   "source": [
    "# y 데이터 로드"
   ]
  },
  {
   "cell_type": "code",
   "execution_count": 478,
   "metadata": {},
   "outputs": [],
   "source": [
    "y_data = pd.read_excel('./data/label.xlsx').sort_values(by='hash')\n",
    "label = y_data['hash'].to_frame()\n",
    "is_mal = y_data['is_mal'].to_frame()"
   ]
  },
  {
   "cell_type": "markdown",
   "metadata": {},
   "source": [
    "# 여러가지 util function 들"
   ]
  },
  {
   "cell_type": "code",
   "execution_count": 479,
   "metadata": {},
   "outputs": [],
   "source": [
    "def pre_processing(feature_set, label):\n",
    "    result = []\n",
    "    \n",
    "    # 각 피처들에 대해 접근\n",
    "    for features in feature_set:\n",
    "        # 오름차순 정렬 by hash\n",
    "        features = features.sort_values(by='hash')\n",
    "        \n",
    "        # 레이블에 맞추기\n",
    "        features = pd.merge(label, features, how='left', on='hash')\n",
    "        \n",
    "        # 널데이터 처리\n",
    "        features = features.fillna(0)\n",
    "        \n",
    "        result.append(features)\n",
    "    \n",
    "    return result"
   ]
  },
  {
   "cell_type": "code",
   "execution_count": 480,
   "metadata": {},
   "outputs": [],
   "source": [
    "def feature_concat(*argv):\n",
    "    temp = argv[0]\n",
    "    for i, features in enumerate(argv):\n",
    "        if i == 0:\n",
    "            continue\n",
    "        temp = pd.merge(temp, features, on='hash', how='left')\n",
    "    \n",
    "    return temp"
   ]
  },
  {
   "cell_type": "code",
   "execution_count": 481,
   "metadata": {},
   "outputs": [],
   "source": [
    "def get_cv_score(x_data, y_data, model, k):\n",
    "    \n",
    "    cv = KFold(k, shuffle=True, random_state=0)\n",
    "    \n",
    "    train_score = []\n",
    "    cv_score = []\n",
    "    \n",
    "    for idx_train, idx_test in cv.split(X=x_data, y=y_data):\n",
    "        \n",
    "        x_train = x_data.iloc[idx_train]\n",
    "        x_test = x_data.iloc[idx_test]\n",
    "        y_train = is_mal.iloc[idx_train]\n",
    "        y_test = is_mal.iloc[idx_test]\n",
    "\n",
    "        model.fit(x_train, y_train)\n",
    "        \n",
    "        train_score.append(model.score(x_train, y_train))\n",
    "        cv_score.append(model.score(x_test, y_test))\n",
    "    \n",
    "    return train_score, cv_score"
   ]
  },
  {
   "cell_type": "code",
   "execution_count": 482,
   "metadata": {},
   "outputs": [],
   "source": [
    "def select_important_feautre(columns, feature_importance, num):\n",
    "    \n",
    "    #딕셔너리\n",
    "    dic = {}\n",
    "    for value in [list(v) for v in zip(columns, feature_importance)]:\n",
    "        dic[str(value[1])] = value[0] \n",
    "    \n",
    "    #피처 중요도\n",
    "    f_i = list(feature_importance)\n",
    "    f_i.sort(reverse=True)\n",
    "    \n",
    "    \n",
    "    #n개 뽑기\n",
    "    result = []\n",
    "    for i in range(0, num):\n",
    "        result.append(dic[str(f_i[i])])\n",
    "    \n",
    "    return result"
   ]
  },
  {
   "cell_type": "code",
   "execution_count": 483,
   "metadata": {},
   "outputs": [],
   "source": [
    "def devide_size(feature):\n",
    "    feature = copy.copy(feature)\n",
    "    for col in feature.columns:\n",
    "        if col == 'hash':\n",
    "            continue\n",
    "            \n",
    "        feature[col] = feature[col] / (feature_set[17]['number_of_lines'] + 1)\n",
    "    \n",
    "    return feature"
   ]
  },
  {
   "cell_type": "code",
   "execution_count": 484,
   "metadata": {},
   "outputs": [],
   "source": [
    "def std_data(feature):\n",
    "    feature = copy.copy(feature)\n",
    "    for col in feature.columns:\n",
    "        if col == 'hash':\n",
    "            continue\n",
    "        \n",
    "        feature[col] = (feature[col] - feature[col].mean()) / feature[col].std()\n",
    "    \n",
    "    return feature"
   ]
  },
  {
   "cell_type": "markdown",
   "metadata": {},
   "source": [
    "# 선처리"
   ]
  },
  {
   "cell_type": "code",
   "execution_count": 485,
   "metadata": {},
   "outputs": [],
   "source": [
    "feature_set = pre_processing(feature_set, label)"
   ]
  },
  {
   "cell_type": "markdown",
   "metadata": {},
   "source": [
    "# 피처 엔지니어링"
   ]
  },
  {
   "cell_type": "code",
   "execution_count": 152,
   "metadata": {},
   "outputs": [],
   "source": [
    "x_data = feature_concat(feature_set[6], feature_set[10], feature_set[15], feature_set[9], feature_set[14], feature_set[13], feature_set[7], feature_set[12], feature_set[3], feature_set[8], feature_set[11], feature_set[16], y_data).drop(['hash'], axis = 1)"
   ]
  },
  {
   "cell_type": "markdown",
   "metadata": {},
   "source": [
    "###### Address of Entrypoint"
   ]
  },
  {
   "cell_type": "code",
   "execution_count": 129,
   "metadata": {},
   "outputs": [
    {
     "data": {
      "text/plain": [
       "<matplotlib.axes._subplots.AxesSubplot at 0x1e8dfa39198>"
      ]
     },
     "execution_count": 129,
     "metadata": {},
     "output_type": "execute_result"
    },
    {
     "data": {
      "image/png": "[encoded data removed]",
      "text/plain": [
       "<Figure size 432x288 with 1 Axes>"
      ]
     },
     "metadata": {
      "needs_background": "light"
     },
     "output_type": "display_data"
    }
   ],
   "source": [
    "sns.distplot(np.log(x_data.AddressOfEntryPoint[x_data.is_mal == 1] + 1))\n",
    "sns.distplot(np.log(x_data.AddressOfEntryPoint[x_data.is_mal == 0] + 1))"
   ]
  },
  {
   "cell_type": "code",
   "execution_count": 92,
   "metadata": {
    "collapsed": true
   },
   "outputs": [
    {
     "data": {
      "text/html": [
       "<div>\n",
       "<style scoped>\n",
       "    .dataframe tbody tr th:only-of-type {\n",
       "        vertical-align: middle;\n",
       "    }\n",
       "\n",
       "    .dataframe tbody tr th {\n",
       "        vertical-align: top;\n",
       "    }\n",
       "\n",
       "    .dataframe thead th {\n",
       "        text-align: right;\n",
       "    }\n",
       "</style>\n",
       "<table border=\"1\" class=\"dataframe\">\n",
       "  <thead>\n",
       "    <tr style=\"text-align: right;\">\n",
       "      <th>col_0</th>\n",
       "      <th>cnt</th>\n",
       "    </tr>\n",
       "    <tr>\n",
       "      <th>AddressOfEntryPoint</th>\n",
       "      <th></th>\n",
       "    </tr>\n",
       "  </thead>\n",
       "  <tbody>\n",
       "    <tr>\n",
       "      <th>0.000000</th>\n",
       "      <td>492</td>\n",
       "    </tr>\n",
       "    <tr>\n",
       "      <th>8.318010</th>\n",
       "      <td>390</td>\n",
       "    </tr>\n",
       "    <tr>\n",
       "      <th>13.284334</th>\n",
       "      <td>228</td>\n",
       "    </tr>\n",
       "    <tr>\n",
       "      <th>9.461955</th>\n",
       "      <td>215</td>\n",
       "    </tr>\n",
       "    <tr>\n",
       "      <th>9.436599</th>\n",
       "      <td>186</td>\n",
       "    </tr>\n",
       "    <tr>\n",
       "      <th>8.523772</th>\n",
       "      <td>128</td>\n",
       "    </tr>\n",
       "    <tr>\n",
       "      <th>11.912084</th>\n",
       "      <td>109</td>\n",
       "    </tr>\n",
       "    <tr>\n",
       "      <th>9.157467</th>\n",
       "      <td>103</td>\n",
       "    </tr>\n",
       "    <tr>\n",
       "      <th>9.603733</th>\n",
       "      <td>77</td>\n",
       "    </tr>\n",
       "    <tr>\n",
       "      <th>10.596660</th>\n",
       "      <td>76</td>\n",
       "    </tr>\n",
       "    <tr>\n",
       "      <th>9.432844</th>\n",
       "      <td>74</td>\n",
       "    </tr>\n",
       "    <tr>\n",
       "      <th>9.431161</th>\n",
       "      <td>72</td>\n",
       "    </tr>\n",
       "    <tr>\n",
       "      <th>10.679895</th>\n",
       "      <td>70</td>\n",
       "    </tr>\n",
       "    <tr>\n",
       "      <th>8.449557</th>\n",
       "      <td>58</td>\n",
       "    </tr>\n",
       "    <tr>\n",
       "      <th>9.160415</th>\n",
       "      <td>48</td>\n",
       "    </tr>\n",
       "    <tr>\n",
       "      <th>8.786762</th>\n",
       "      <td>46</td>\n",
       "    </tr>\n",
       "    <tr>\n",
       "      <th>9.519221</th>\n",
       "      <td>46</td>\n",
       "    </tr>\n",
       "    <tr>\n",
       "      <th>9.469700</th>\n",
       "      <td>40</td>\n",
       "    </tr>\n",
       "    <tr>\n",
       "      <th>12.770161</th>\n",
       "      <td>37</td>\n",
       "    </tr>\n",
       "    <tr>\n",
       "      <th>8.975251</th>\n",
       "      <td>37</td>\n",
       "    </tr>\n",
       "    <tr>\n",
       "      <th>8.495561</th>\n",
       "      <td>36</td>\n",
       "    </tr>\n",
       "    <tr>\n",
       "      <th>10.657000</th>\n",
       "      <td>36</td>\n",
       "    </tr>\n",
       "    <tr>\n",
       "      <th>9.811098</th>\n",
       "      <td>34</td>\n",
       "    </tr>\n",
       "    <tr>\n",
       "      <th>10.922425</th>\n",
       "      <td>34</td>\n",
       "    </tr>\n",
       "    <tr>\n",
       "      <th>9.460476</th>\n",
       "      <td>33</td>\n",
       "    </tr>\n",
       "    <tr>\n",
       "      <th>8.319230</th>\n",
       "      <td>32</td>\n",
       "    </tr>\n",
       "    <tr>\n",
       "      <th>9.475163</th>\n",
       "      <td>31</td>\n",
       "    </tr>\n",
       "    <tr>\n",
       "      <th>14.145712</th>\n",
       "      <td>31</td>\n",
       "    </tr>\n",
       "    <tr>\n",
       "      <th>11.196487</th>\n",
       "      <td>30</td>\n",
       "    </tr>\n",
       "    <tr>\n",
       "      <th>11.549518</th>\n",
       "      <td>28</td>\n",
       "    </tr>\n",
       "    <tr>\n",
       "      <th>...</th>\n",
       "      <td>...</td>\n",
       "    </tr>\n",
       "    <tr>\n",
       "      <th>10.397726</th>\n",
       "      <td>1</td>\n",
       "    </tr>\n",
       "    <tr>\n",
       "      <th>10.367222</th>\n",
       "      <td>1</td>\n",
       "    </tr>\n",
       "    <tr>\n",
       "      <th>10.362462</th>\n",
       "      <td>1</td>\n",
       "    </tr>\n",
       "    <tr>\n",
       "      <th>10.360817</th>\n",
       "      <td>1</td>\n",
       "    </tr>\n",
       "    <tr>\n",
       "      <th>10.329180</th>\n",
       "      <td>1</td>\n",
       "    </tr>\n",
       "    <tr>\n",
       "      <th>10.319629</th>\n",
       "      <td>1</td>\n",
       "    </tr>\n",
       "    <tr>\n",
       "      <th>10.320288</th>\n",
       "      <td>1</td>\n",
       "    </tr>\n",
       "    <tr>\n",
       "      <th>10.320585</th>\n",
       "      <td>1</td>\n",
       "    </tr>\n",
       "    <tr>\n",
       "      <th>10.321046</th>\n",
       "      <td>1</td>\n",
       "    </tr>\n",
       "    <tr>\n",
       "      <th>10.321704</th>\n",
       "      <td>1</td>\n",
       "    </tr>\n",
       "    <tr>\n",
       "      <th>10.322231</th>\n",
       "      <td>1</td>\n",
       "    </tr>\n",
       "    <tr>\n",
       "      <th>10.323743</th>\n",
       "      <td>1</td>\n",
       "    </tr>\n",
       "    <tr>\n",
       "      <th>10.326563</th>\n",
       "      <td>1</td>\n",
       "    </tr>\n",
       "    <tr>\n",
       "      <th>10.326694</th>\n",
       "      <td>1</td>\n",
       "    </tr>\n",
       "    <tr>\n",
       "      <th>10.326760</th>\n",
       "      <td>1</td>\n",
       "    </tr>\n",
       "    <tr>\n",
       "      <th>10.326891</th>\n",
       "      <td>1</td>\n",
       "    </tr>\n",
       "    <tr>\n",
       "      <th>10.331399</th>\n",
       "      <td>1</td>\n",
       "    </tr>\n",
       "    <tr>\n",
       "      <th>10.358124</th>\n",
       "      <td>1</td>\n",
       "    </tr>\n",
       "    <tr>\n",
       "      <th>10.337896</th>\n",
       "      <td>1</td>\n",
       "    </tr>\n",
       "    <tr>\n",
       "      <th>10.341000</th>\n",
       "      <td>1</td>\n",
       "    </tr>\n",
       "    <tr>\n",
       "      <th>10.342678</th>\n",
       "      <td>1</td>\n",
       "    </tr>\n",
       "    <tr>\n",
       "      <th>10.343901</th>\n",
       "      <td>1</td>\n",
       "    </tr>\n",
       "    <tr>\n",
       "      <th>10.345252</th>\n",
       "      <td>1</td>\n",
       "    </tr>\n",
       "    <tr>\n",
       "      <th>10.345638</th>\n",
       "      <td>1</td>\n",
       "    </tr>\n",
       "    <tr>\n",
       "      <th>10.348718</th>\n",
       "      <td>1</td>\n",
       "    </tr>\n",
       "    <tr>\n",
       "      <th>10.352523</th>\n",
       "      <td>1</td>\n",
       "    </tr>\n",
       "    <tr>\n",
       "      <th>10.352619</th>\n",
       "      <td>1</td>\n",
       "    </tr>\n",
       "    <tr>\n",
       "      <th>10.353830</th>\n",
       "      <td>1</td>\n",
       "    </tr>\n",
       "    <tr>\n",
       "      <th>10.357870</th>\n",
       "      <td>1</td>\n",
       "    </tr>\n",
       "    <tr>\n",
       "      <th>22.175800</th>\n",
       "      <td>1</td>\n",
       "    </tr>\n",
       "  </tbody>\n",
       "</table>\n",
       "<p>4358 rows × 1 columns</p>\n",
       "</div>"
      ],
      "text/plain": [
       "col_0                cnt\n",
       "AddressOfEntryPoint     \n",
       "0.000000             492\n",
       "8.318010             390\n",
       "13.284334            228\n",
       "9.461955             215\n",
       "9.436599             186\n",
       "8.523772             128\n",
       "11.912084            109\n",
       "9.157467             103\n",
       "9.603733              77\n",
       "10.596660             76\n",
       "9.432844              74\n",
       "9.431161              72\n",
       "10.679895             70\n",
       "8.449557              58\n",
       "9.160415              48\n",
       "8.786762              46\n",
       "9.519221              46\n",
       "9.469700              40\n",
       "12.770161             37\n",
       "8.975251              37\n",
       "8.495561              36\n",
       "10.657000             36\n",
       "9.811098              34\n",
       "10.922425             34\n",
       "9.460476              33\n",
       "8.319230              32\n",
       "9.475163              31\n",
       "14.145712             31\n",
       "11.196487             30\n",
       "11.549518             28\n",
       "...                  ...\n",
       "10.397726              1\n",
       "10.367222              1\n",
       "10.362462              1\n",
       "10.360817              1\n",
       "10.329180              1\n",
       "10.319629              1\n",
       "10.320288              1\n",
       "10.320585              1\n",
       "10.321046              1\n",
       "10.321704              1\n",
       "10.322231              1\n",
       "10.323743              1\n",
       "10.326563              1\n",
       "10.326694              1\n",
       "10.326760              1\n",
       "10.326891              1\n",
       "10.331399              1\n",
       "10.358124              1\n",
       "10.337896              1\n",
       "10.341000              1\n",
       "10.342678              1\n",
       "10.343901              1\n",
       "10.345252              1\n",
       "10.345638              1\n",
       "10.348718              1\n",
       "10.352523              1\n",
       "10.352619              1\n",
       "10.353830              1\n",
       "10.357870              1\n",
       "22.175800              1\n",
       "\n",
       "[4358 rows x 1 columns]"
      ]
     },
     "execution_count": 92,
     "metadata": {},
     "output_type": "execute_result"
    }
   ],
   "source": [
    "pd.crosstab(x_data.AddressOfEntryPoint, columns='cnt').sort_values(by='cnt', ascending=False)"
   ]
  },
  {
   "cell_type": "code",
   "execution_count": 132,
   "metadata": {},
   "outputs": [],
   "source": [
    "x_data.AddressOfEntryPoint = np.log(x_data.AddressOfEntryPoint + 1)"
   ]
  },
  {
   "cell_type": "code",
   "execution_count": 133,
   "metadata": {},
   "outputs": [],
   "source": [
    "def temp(v):\n",
    "    if v <= 5:\n",
    "        return 0\n",
    "    elif v <= 9.5:\n",
    "        return 1\n",
    "    elif v <= 13:\n",
    "        return 2\n",
    "    else:\n",
    "        return 3"
   ]
  },
  {
   "cell_type": "code",
   "execution_count": 134,
   "metadata": {},
   "outputs": [],
   "source": [
    "x_data['AddressOfEntryPoint'] = x_data['AddressOfEntryPoint'].map(temp)"
   ]
  },
  {
   "cell_type": "markdown",
   "metadata": {},
   "source": [
    "##### 테스트"
   ]
  },
  {
   "cell_type": "code",
   "execution_count": 135,
   "metadata": {},
   "outputs": [
    {
     "data": {
      "text/html": [
       "<div>\n",
       "<style scoped>\n",
       "    .dataframe tbody tr th:only-of-type {\n",
       "        vertical-align: middle;\n",
       "    }\n",
       "\n",
       "    .dataframe tbody tr th {\n",
       "        vertical-align: top;\n",
       "    }\n",
       "\n",
       "    .dataframe thead th {\n",
       "        text-align: right;\n",
       "    }\n",
       "</style>\n",
       "<table border=\"1\" class=\"dataframe\">\n",
       "  <thead>\n",
       "    <tr style=\"text-align: right;\">\n",
       "      <th></th>\n",
       "      <th>AddressOfEntryPoint</th>\n",
       "      <th>Characteristics</th>\n",
       "      <th>CheckSum</th>\n",
       "      <th>DebugSize</th>\n",
       "      <th>ExportSize</th>\n",
       "      <th>FileAlignment</th>\n",
       "      <th>GeneratedCheckSum</th>\n",
       "      <th>IatRva</th>\n",
       "      <th>ImageBase</th>\n",
       "      <th>Machine</th>\n",
       "      <th>...</th>\n",
       "      <th>shlwapi</th>\n",
       "      <th>urlmon</th>\n",
       "      <th>user32</th>\n",
       "      <th>wininet</th>\n",
       "      <th>ws2_32</th>\n",
       "      <th>wsock32</th>\n",
       "      <th>db_y</th>\n",
       "      <th>dd_y</th>\n",
       "      <th>dw_y</th>\n",
       "      <th>is_mal</th>\n",
       "    </tr>\n",
       "  </thead>\n",
       "  <tbody>\n",
       "    <tr>\n",
       "      <th>0</th>\n",
       "      <td>2</td>\n",
       "      <td>8450.0</td>\n",
       "      <td>60881.0</td>\n",
       "      <td>0.0</td>\n",
       "      <td>0.0</td>\n",
       "      <td>4096.0</td>\n",
       "      <td>96371.0</td>\n",
       "      <td>30464.0</td>\n",
       "      <td>4194304.0</td>\n",
       "      <td>332.0</td>\n",
       "      <td>...</td>\n",
       "      <td>0.0</td>\n",
       "      <td>0.0</td>\n",
       "      <td>0.0</td>\n",
       "      <td>0.0</td>\n",
       "      <td>0.0</td>\n",
       "      <td>0.0</td>\n",
       "      <td>0.0</td>\n",
       "      <td>0.0</td>\n",
       "      <td>0.0</td>\n",
       "      <td>0</td>\n",
       "    </tr>\n",
       "  </tbody>\n",
       "</table>\n",
       "<p>1 rows × 404 columns</p>\n",
       "</div>"
      ],
      "text/plain": [
       "   AddressOfEntryPoint  Characteristics  CheckSum  DebugSize  ExportSize  \\\n",
       "0                    2           8450.0   60881.0        0.0         0.0   \n",
       "\n",
       "   FileAlignment  GeneratedCheckSum   IatRva  ImageBase  Machine   ...    \\\n",
       "0         4096.0            96371.0  30464.0  4194304.0    332.0   ...     \n",
       "\n",
       "   shlwapi  urlmon  user32  wininet  ws2_32  wsock32  db_y  dd_y  dw_y  is_mal  \n",
       "0      0.0     0.0     0.0      0.0     0.0      0.0   0.0   0.0   0.0       0  \n",
       "\n",
       "[1 rows x 404 columns]"
      ]
     },
     "execution_count": 135,
     "metadata": {},
     "output_type": "execute_result"
    }
   ],
   "source": [
    "x_data.head(1)"
   ]
  },
  {
   "cell_type": "code",
   "execution_count": 136,
   "metadata": {},
   "outputs": [],
   "source": [
    "x_data = x_data.drop(['is_mal'], axis = 1)"
   ]
  },
  {
   "cell_type": "code",
   "execution_count": 137,
   "metadata": {
    "scrolled": false
   },
   "outputs": [
    {
     "name": "stdout",
     "output_type": "stream",
     "text": [
      "[1] => train: 0.9999749999999998 cv: 0.9524000000000001\n",
      "[2] => train: 1.0 cv: 0.9528000000000001\n",
      "[3] => train: 1.0 cv: 0.9524000000000001\n",
      "[4] => train: 1.0 cv: 0.953\n",
      "[42] => train: 1.0 cv: 0.9538\n"
     ]
    }
   ],
   "source": [
    "for i in [1,2,3,4,42]:\n",
    "    rf = RandomForestClassifier(n_estimators=500, random_state=i, n_jobs=-1, max_depth=28)\n",
    "    train_score, cv_score = get_cv_score(x_data=x_data, y_data=is_mal, k=5, model=rf)\n",
    "    print(\"[{}] => train: {} cv: {}\".format(i, np.mean(train_score), np.mean(cv_score)))"
   ]
  },
  {
   "cell_type": "markdown",
   "metadata": {},
   "source": [
    "###### 피처 중요도"
   ]
  },
  {
   "cell_type": "code",
   "execution_count": 109,
   "metadata": {},
   "outputs": [],
   "source": [
    "values = np.array([list(v) for v in sorted(zip(x_data.columns, rf.feature_importances_), key=lambda x: x[1] * -1)])\n",
    "imp = pd.DataFrame(values[:,1], index = values[:,0], columns=[\"feature_importance\"])\n",
    "imp.feature_importance = imp.feature_importance.astype(float)"
   ]
  },
  {
   "cell_type": "code",
   "execution_count": 81,
   "metadata": {
    "collapsed": true
   },
   "outputs": [
    {
     "data": {
      "text/plain": [
       "<matplotlib.axes._subplots.AxesSubplot at 0x1e8d7593550>"
      ]
     },
     "execution_count": 81,
     "metadata": {},
     "output_type": "execute_result"
    },
    {
     "data": {
      "image/png": "[encoded data removed]",
      "text/plain": [
       "<Figure size 1008x576 with 1 Axes>"
      ]
     },
     "metadata": {
      "needs_background": "light"
     },
     "output_type": "display_data"
    },
    {
     "data": {
      "image/png": "[encoded data removed]",
      "text/plain": [
       "<Figure size 1008x576 with 1 Axes>"
      ]
     },
     "metadata": {
      "needs_background": "light"
     },
     "output_type": "display_data"
    }
   ],
   "source": [
    "num = 100\n",
    "imp.plot(figsize=(14,8), grid=True, xlim=(-1,num))\n",
    "imp.plot(figsize=(14,8), grid=True, xlim=(num,len(x_data.columns)))"
   ]
  },
  {
   "cell_type": "markdown",
   "metadata": {},
   "source": [
    "## 피처엔지니어링 - 피처 셋들 사이"
   ]
  },
  {
   "cell_type": "code",
   "execution_count": 171,
   "metadata": {},
   "outputs": [
    {
     "name": "stdout",
     "output_type": "stream",
     "text": [
      "0 1gram\n",
      "1 2gram\n",
      "2 len\n",
      "3 misc\n",
      "4 sym\n",
      "5 haralick\n",
      "6 pe\n",
      "7 section_name_freq\n",
      "8 exec_section_name_freq\n",
      "9 section_info\n",
      "10 section_entropy\n",
      "11 dll_freq\n",
      "12 api_freq\n",
      "13 opcode\n",
      "14 func\n",
      "15 register\n",
      "16 dd\n",
      "17 etc\n",
      "18 asm_img_bytes\n",
      "19 op1g\n",
      "20 op2g\n",
      "21 op3g\n",
      "22 op4g\n"
     ]
    }
   ],
   "source": [
    "for i, name in enumerate(feature_set_name):\n",
    "    print(i, name)"
   ]
  },
  {
   "cell_type": "code",
   "execution_count": 172,
   "metadata": {},
   "outputs": [],
   "source": [
    "rf = RandomForestClassifier(n_estimators=500, random_state=42, n_jobs=-1, max_depth=28)"
   ]
  },
  {
   "cell_type": "code",
   "execution_count": 210,
   "metadata": {
    "collapsed": true
   },
   "outputs": [
    {
     "name": "stdout",
     "output_type": "stream",
     "text": [
      "========[1gram]========\n",
      "train list : [1.0, 1.0, 1.0, 1.0, 1.0]\n",
      "cv list : [0.941, 0.943, 0.9505, 0.9345, 0.938]\n",
      "train: 1.0 \n",
      " cv: 0.9414\n",
      "\n",
      "\n",
      "========[2gram]========\n",
      "train list : [1.0, 1.0, 1.0, 1.0, 1.0]\n",
      "cv list : [0.9465, 0.949, 0.944, 0.943, 0.944]\n",
      "train: 1.0 \n",
      " cv: 0.9452999999999999\n",
      "\n",
      "\n",
      "========[len]========\n",
      "train list : [1.0, 1.0, 1.0, 1.0, 1.0]\n",
      "cv list : [0.9455, 0.95, 0.956, 0.938, 0.949]\n",
      "train: 1.0 \n",
      " cv: 0.9476999999999999\n",
      "\n",
      "\n",
      "========[misc]========\n",
      "train list : [1.0, 1.0, 1.0, 1.0, 1.0]\n",
      "cv list : [0.951, 0.951, 0.9565, 0.9475, 0.952]\n",
      "train: 1.0 \n",
      " cv: 0.9516\n",
      "\n",
      "\n",
      "========[sym]========\n",
      "train list : [1.0, 1.0, 1.0, 1.0, 1.0]\n",
      "cv list : [0.946, 0.948, 0.9515, 0.943, 0.945]\n",
      "train: 1.0 \n",
      " cv: 0.9467000000000001\n",
      "\n",
      "\n",
      "========[haralick]========\n",
      "train list : [1.0, 1.0, 1.0, 1.0, 1.0]\n",
      "cv list : [0.9455, 0.951, 0.9515, 0.9485, 0.945]\n",
      "train: 1.0 \n",
      " cv: 0.9483\n",
      "\n",
      "\n",
      "========[pe]========\n",
      "train list : [1.0, 1.0, 1.0, 1.0, 1.0]\n",
      "cv list : [0.9485, 0.9505, 0.958, 0.947, 0.953]\n",
      "train: 1.0 \n",
      " cv: 0.9514000000000001\n",
      "\n",
      "\n",
      "========[section_name_freq]========\n",
      "train list : [1.0, 1.0, 1.0, 1.0, 1.0]\n",
      "cv list : [0.952, 0.9515, 0.9575, 0.9495, 0.952]\n",
      "train: 1.0 \n",
      " cv: 0.9524999999999999\n",
      "\n",
      "\n",
      "========[exec_section_name_freq]========\n",
      "train list : [1.0, 1.0, 1.0, 1.0, 1.0]\n",
      "cv list : [0.9505, 0.9505, 0.9575, 0.9465, 0.951]\n",
      "train: 1.0 \n",
      " cv: 0.9512\n",
      "\n",
      "\n",
      "========[section_info]========\n",
      "train list : [1.0, 1.0, 1.0, 1.0, 1.0]\n",
      "cv list : [0.9525, 0.951, 0.9575, 0.948, 0.9535]\n",
      "train: 1.0 \n",
      " cv: 0.9524999999999999\n",
      "\n",
      "\n",
      "========[section_entropy]========\n",
      "train list : [1.0, 1.0, 1.0, 1.0, 1.0]\n",
      "cv list : [0.952, 0.9495, 0.9555, 0.9495, 0.9505]\n",
      "train: 1.0 \n",
      " cv: 0.9514000000000001\n",
      "\n",
      "\n",
      "========[dll_freq]========\n",
      "train list : [1.0, 1.0, 1.0, 1.0, 1.0]\n",
      "cv list : [0.9515, 0.953, 0.958, 0.9465, 0.952]\n",
      "train: 1.0 \n",
      " cv: 0.9521999999999998\n",
      "\n",
      "\n",
      "========[api_freq]========\n",
      "train list : [1.0, 1.0, 1.0, 1.0, 1.0]\n",
      "cv list : [0.9515, 0.95, 0.9585, 0.948, 0.9515]\n",
      "train: 1.0 \n",
      " cv: 0.9519\n",
      "\n",
      "\n",
      "========[opcode]========\n",
      "train list : [1.0, 1.0, 1.0, 1.0, 1.0]\n",
      "cv list : [0.9505, 0.951, 0.9575, 0.95, 0.9545]\n",
      "train: 1.0 \n",
      " cv: 0.9527000000000001\n",
      "\n",
      "\n",
      "========[func]========\n",
      "train list : [1.0, 1.0, 1.0, 1.0, 1.0]\n",
      "cv list : [0.951, 0.95, 0.959, 0.9495, 0.9545]\n",
      "train: 1.0 \n",
      " cv: 0.9528000000000001\n",
      "\n",
      "\n",
      "========[register]========\n",
      "train list : [1.0, 1.0, 1.0, 1.0, 1.0]\n",
      "cv list : [0.95, 0.9515, 0.958, 0.95, 0.953]\n",
      "train: 1.0 \n",
      " cv: 0.9525\n",
      "\n",
      "\n",
      "========[dd]========\n",
      "train list : [1.0, 1.0, 1.0, 1.0, 1.0]\n",
      "cv list : [0.9505, 0.95, 0.9565, 0.947, 0.9545]\n",
      "train: 1.0 \n",
      " cv: 0.9517000000000001\n",
      "\n",
      "\n",
      "========[etc]========\n",
      "train list : [1.0, 1.0, 1.0, 1.0, 1.0]\n",
      "cv list : [0.9505, 0.95, 0.957, 0.9465, 0.953]\n",
      "train: 1.0 \n",
      " cv: 0.9513999999999999\n",
      "\n",
      "\n"
     ]
    }
   ],
   "source": [
    "for num in range(18):\n",
    "    x_data = feature_concat(feature_set[6], feature_set[10], feature_set[15], feature_set[9], feature_set[14], feature_set[3], feature_set[num]).drop(['hash'], axis = 1)\n",
    "    train_score, cv_score = get_cv_score(x_data=x_data, y_data=is_mal, k=5, model=rf)\n",
    "    print(\"========[{}]========\".format(feature_set_name[num]))\n",
    "    print(\"train list : {}\".format(train_score))\n",
    "    print(\"cv list : {}\".format(cv_score))\n",
    "    print(\"train: {} \\n cv: {}\".format(np.mean(train_score), np.mean(cv_score)))\n",
    "    print(\"\\n\")"
   ]
  },
  {
   "cell_type": "code",
   "execution_count": 15,
   "metadata": {},
   "outputs": [],
   "source": [
    "x_data = feature_concat(feature_set[6], feature_set[10], feature_set[15], feature_set[9], feature_set[14], feature_set[13], feature_set[7], feature_set[12], feature_set[3], feature_set[8], feature_set[11], feature_set[16]).drop(['hash'], axis = 1)"
   ]
  },
  {
   "cell_type": "code",
   "execution_count": 16,
   "metadata": {
    "scrolled": true
   },
   "outputs": [
    {
     "name": "stdout",
     "output_type": "stream",
     "text": [
      "0 => train: 1.0 \n",
      " cv: 0.9526\n",
      "\n",
      "\n",
      "1 => train: 1.0 \n",
      " cv: 0.953\n",
      "\n",
      "\n",
      "2 => train: 1.0 \n",
      " cv: 0.9534\n",
      "\n",
      "\n",
      "3 => train: 1.0 \n",
      " cv: 0.9529\n",
      "\n",
      "\n"
     ]
    },
    {
     "name": "stderr",
     "output_type": "stream",
     "text": [
      "ERROR:root:Internal Python error in the inspect module.\n",
      "Below is the traceback from this internal error.\n",
      "\n"
     ]
    },
    {
     "name": "stdout",
     "output_type": "stream",
     "text": [
      "Traceback (most recent call last):\n",
      "  File \"c:\\python\\python3\\lib\\site-packages\\IPython\\core\\interactiveshell.py\", line 3267, in run_code\n",
      "    exec(code_obj, self.user_global_ns, self.user_ns)\n",
      "  File \"<ipython-input-16-767f7b5cd919>\", line 3, in <module>\n",
      "    train_score, cv_score = get_cv_score(x_data=x_data, y_data=is_mal, k=5, model=rf)\n",
      "  File \"<ipython-input-10-14b23b280a7f>\", line 15, in get_cv_score\n",
      "    model.fit(x_train, y_train)\n",
      "  File \"c:\\python\\python3\\lib\\site-packages\\sklearn\\ensemble\\forest.py\", line 335, in fit\n",
      "    for i, t in enumerate(trees))\n",
      "  File \"c:\\python\\python3\\lib\\site-packages\\sklearn\\externals\\joblib\\parallel.py\", line 996, in __call__\n",
      "    self.retrieve()\n",
      "  File \"c:\\python\\python3\\lib\\site-packages\\sklearn\\externals\\joblib\\parallel.py\", line 899, in retrieve\n",
      "    self._output.extend(job.get(timeout=self.timeout))\n",
      "  File \"c:\\python\\python3\\lib\\multiprocessing\\pool.py\", line 664, in get\n",
      "    self.wait(timeout)\n",
      "  File \"c:\\python\\python3\\lib\\multiprocessing\\pool.py\", line 661, in wait\n",
      "    self._event.wait(timeout)\n",
      "  File \"c:\\python\\python3\\lib\\threading.py\", line 551, in wait\n",
      "    signaled = self._cond.wait(timeout)\n",
      "  File \"c:\\python\\python3\\lib\\threading.py\", line 295, in wait\n",
      "    waiter.acquire()\n",
      "KeyboardInterrupt\n",
      "\n",
      "During handling of the above exception, another exception occurred:\n",
      "\n",
      "Traceback (most recent call last):\n",
      "  File \"c:\\python\\python3\\lib\\site-packages\\IPython\\core\\interactiveshell.py\", line 2018, in showtraceback\n",
      "    stb = value._render_traceback_()\n",
      "AttributeError: 'KeyboardInterrupt' object has no attribute '_render_traceback_'\n",
      "\n",
      "During handling of the above exception, another exception occurred:\n",
      "\n",
      "Traceback (most recent call last):\n",
      "  File \"c:\\python\\python3\\lib\\site-packages\\IPython\\core\\ultratb.py\", line 1095, in get_records\n",
      "    return _fixed_getinnerframes(etb, number_of_lines_of_context, tb_offset)\n",
      "  File \"c:\\python\\python3\\lib\\site-packages\\IPython\\core\\ultratb.py\", line 313, in wrapped\n",
      "    return f(*args, **kwargs)\n",
      "  File \"c:\\python\\python3\\lib\\site-packages\\IPython\\core\\ultratb.py\", line 347, in _fixed_getinnerframes\n",
      "    records = fix_frame_records_filenames(inspect.getinnerframes(etb, context))\n",
      "  File \"c:\\python\\python3\\lib\\inspect.py\", line 1488, in getinnerframes\n",
      "    frameinfo = (tb.tb_frame,) + getframeinfo(tb, context)\n",
      "  File \"c:\\python\\python3\\lib\\inspect.py\", line 1446, in getframeinfo\n",
      "    filename = getsourcefile(frame) or getfile(frame)\n",
      "  File \"c:\\python\\python3\\lib\\inspect.py\", line 696, in getsourcefile\n",
      "    if getattr(getmodule(object, filename), '__loader__', None) is not None:\n",
      "  File \"c:\\python\\python3\\lib\\inspect.py\", line 739, in getmodule\n",
      "    f = getabsfile(module)\n",
      "  File \"c:\\python\\python3\\lib\\inspect.py\", line 708, in getabsfile\n",
      "    _filename = getsourcefile(object) or getfile(object)\n",
      "  File \"c:\\python\\python3\\lib\\inspect.py\", line 693, in getsourcefile\n",
      "    if os.path.exists(filename):\n",
      "  File \"c:\\python\\python3\\lib\\genericpath.py\", line 19, in exists\n",
      "    os.stat(path)\n",
      "KeyboardInterrupt\n"
     ]
    },
    {
     "ename": "KeyboardInterrupt",
     "evalue": "",
     "output_type": "error",
     "traceback": [
      "\u001b[1;31m---------------------------------------------------------------------------\u001b[0m"
     ]
    }
   ],
   "source": [
    "for num in range(40):\n",
    "    rf = RandomForestClassifier(n_estimators=500, random_state=num, n_jobs=-1, max_depth=28)\n",
    "    train_score, cv_score = get_cv_score(x_data=x_data, y_data=is_mal, k=5, model=rf)\n",
    "    print(\"{} => train: {} \\n cv: {}\".format(num, np.mean(train_score), np.mean(cv_score)))\n",
    "    print(\"\\n\")"
   ]
  },
  {
   "cell_type": "code",
   "execution_count": 243,
   "metadata": {},
   "outputs": [],
   "source": [
    "rf = RandomForestClassifier(n_estimators=500, random_state=1, n_jobs=-1, max_depth=28)"
   ]
  },
  {
   "cell_type": "code",
   "execution_count": 244,
   "metadata": {},
   "outputs": [
    {
     "name": "stderr",
     "output_type": "stream",
     "text": [
      "c:\\python\\python3\\lib\\site-packages\\ipykernel_launcher.py:15: DataConversionWarning: A column-vector y was passed when a 1d array was expected. Please change the shape of y to (n_samples,), for example using ravel().\n",
      "  from ipykernel import kernelapp as app\n",
      "c:\\python\\python3\\lib\\site-packages\\ipykernel_launcher.py:15: DataConversionWarning: A column-vector y was passed when a 1d array was expected. Please change the shape of y to (n_samples,), for example using ravel().\n",
      "  from ipykernel import kernelapp as app\n",
      "c:\\python\\python3\\lib\\site-packages\\ipykernel_launcher.py:15: DataConversionWarning: A column-vector y was passed when a 1d array was expected. Please change the shape of y to (n_samples,), for example using ravel().\n",
      "  from ipykernel import kernelapp as app\n",
      "c:\\python\\python3\\lib\\site-packages\\ipykernel_launcher.py:15: DataConversionWarning: A column-vector y was passed when a 1d array was expected. Please change the shape of y to (n_samples,), for example using ravel().\n",
      "  from ipykernel import kernelapp as app\n",
      "c:\\python\\python3\\lib\\site-packages\\ipykernel_launcher.py:15: DataConversionWarning: A column-vector y was passed when a 1d array was expected. Please change the shape of y to (n_samples,), for example using ravel().\n",
      "  from ipykernel import kernelapp as app\n"
     ]
    },
    {
     "name": "stdout",
     "output_type": "stream",
     "text": [
      "========[func]========\n",
      "train list : [1.0, 1.0, 0.999875, 0.999875, 1.0]\n",
      "cv list : [0.951, 0.9555, 0.958, 0.9475, 0.953]\n",
      "train: 0.9999499999999999 \n",
      " cv: 0.953\n",
      "\n",
      "\n"
     ]
    }
   ],
   "source": [
    "x_data = feature_concat(feature_set[6], feature_set[10], feature_set[15], feature_set[9], feature_set[14], feature_set[13], feature_set[7], feature_set[12], feature_set[3], feature_set[8], feature_set[11], feature_set[16], feature_set[20]).drop(['hash'], axis = 1)\n",
    "train_score, cv_score = get_cv_score(x_data=x_data, y_data=is_mal, k=5, model=rf)\n",
    "print(\"========[{}]========\".format(feature_set_name[14]))\n",
    "print(\"train list : {}\".format(train_score))\n",
    "print(\"cv list : {}\".format(cv_score))\n",
    "print(\"train: {} \\n cv: {}\".format(np.mean(train_score), np.mean(cv_score)))\n",
    "print(\"\\n\")"
   ]
  },
  {
   "cell_type": "code",
   "execution_count": 299,
   "metadata": {},
   "outputs": [
    {
     "data": {
      "text/html": [
       "<div>\n",
       "<style scoped>\n",
       "    .dataframe tbody tr th:only-of-type {\n",
       "        vertical-align: middle;\n",
       "    }\n",
       "\n",
       "    .dataframe tbody tr th {\n",
       "        vertical-align: top;\n",
       "    }\n",
       "\n",
       "    .dataframe thead th {\n",
       "        text-align: right;\n",
       "    }\n",
       "</style>\n",
       "<table border=\"1\" class=\"dataframe\">\n",
       "  <thead>\n",
       "    <tr style=\"text-align: right;\">\n",
       "      <th></th>\n",
       "      <th>AddressOfEntryPoint</th>\n",
       "      <th>Characteristics</th>\n",
       "      <th>CheckSum</th>\n",
       "      <th>DebugSize</th>\n",
       "      <th>ExportSize</th>\n",
       "      <th>FileAlignment</th>\n",
       "      <th>GeneratedCheckSum</th>\n",
       "      <th>IatRva</th>\n",
       "      <th>ImageBase</th>\n",
       "      <th>Machine</th>\n",
       "      <th>...</th>\n",
       "      <th>shell32</th>\n",
       "      <th>shlwapi</th>\n",
       "      <th>urlmon</th>\n",
       "      <th>user32</th>\n",
       "      <th>wininet</th>\n",
       "      <th>ws2_32</th>\n",
       "      <th>wsock32</th>\n",
       "      <th>db_y</th>\n",
       "      <th>dd_y</th>\n",
       "      <th>dw_y</th>\n",
       "    </tr>\n",
       "  </thead>\n",
       "  <tbody>\n",
       "    <tr>\n",
       "      <th>0</th>\n",
       "      <td>30542.0</td>\n",
       "      <td>8450.0</td>\n",
       "      <td>60881.0</td>\n",
       "      <td>0.0</td>\n",
       "      <td>0.0</td>\n",
       "      <td>4096.0</td>\n",
       "      <td>96371.0</td>\n",
       "      <td>30464.0</td>\n",
       "      <td>4194304.0</td>\n",
       "      <td>332.0</td>\n",
       "      <td>...</td>\n",
       "      <td>0.0</td>\n",
       "      <td>0.0</td>\n",
       "      <td>0.0</td>\n",
       "      <td>0.0</td>\n",
       "      <td>0.0</td>\n",
       "      <td>0.0</td>\n",
       "      <td>0.0</td>\n",
       "      <td>0.0</td>\n",
       "      <td>0.0</td>\n",
       "      <td>0.0</td>\n",
       "    </tr>\n",
       "  </tbody>\n",
       "</table>\n",
       "<p>1 rows × 403 columns</p>\n",
       "</div>"
      ],
      "text/plain": [
       "   AddressOfEntryPoint  Characteristics  CheckSum  DebugSize  ExportSize  \\\n",
       "0              30542.0           8450.0   60881.0        0.0         0.0   \n",
       "\n",
       "   FileAlignment  GeneratedCheckSum   IatRva  ImageBase  Machine  ...   \\\n",
       "0         4096.0            96371.0  30464.0  4194304.0    332.0  ...    \n",
       "\n",
       "   shell32  shlwapi  urlmon  user32  wininet  ws2_32  wsock32  db_y  dd_y  \\\n",
       "0      0.0      0.0     0.0     0.0      0.0     0.0      0.0   0.0   0.0   \n",
       "\n",
       "   dw_y  \n",
       "0   0.0  \n",
       "\n",
       "[1 rows x 403 columns]"
      ]
     },
     "execution_count": 299,
     "metadata": {},
     "output_type": "execute_result"
    }
   ],
   "source": [
    "x_data.head(1)"
   ]
  },
  {
   "cell_type": "code",
   "execution_count": 300,
   "metadata": {},
   "outputs": [],
   "source": [
    "values = np.array([list(v) for v in sorted(zip(x_data.columns, rf.feature_importances_), key=lambda x: x[1] * -1)])\n",
    "imp = pd.DataFrame(values[:,1], index = values[:,0], columns=[\"feature_importance\"])\n",
    "imp.feature_importance = imp.feature_importance.astype(float)"
   ]
  },
  {
   "cell_type": "code",
   "execution_count": 302,
   "metadata": {},
   "outputs": [
    {
     "data": {
      "text/plain": [
       "<matplotlib.axes._subplots.AxesSubplot at 0x1dbe78ce160>"
      ]
     },
     "execution_count": 302,
     "metadata": {},
     "output_type": "execute_result"
    },
    {
     "data": {
      "image/png": "[encoded data removed]",
      "text/plain": [
       "<Figure size 1008x576 with 1 Axes>"
      ]
     },
     "metadata": {
      "needs_background": "light"
     },
     "output_type": "display_data"
    },
    {
     "data": {
      "image/png": "[encoded data removed]",
      "text/plain": [
       "<Figure size 1008x576 with 1 Axes>"
      ]
     },
     "metadata": {
      "needs_background": "light"
     },
     "output_type": "display_data"
    }
   ],
   "source": [
    "num = 100\n",
    "imp.plot(figsize=(14,8), grid=True, xlim=(-1,num))\n",
    "imp.plot(figsize=(14,8), grid=True, xlim=(num,len(x_data.columns)))"
   ]
  },
  {
   "cell_type": "code",
   "execution_count": null,
   "metadata": {},
   "outputs": [],
   "source": [
    "x_data_t = x_data[imp.index[:num]]\n",
    "\n",
    "rf = RandomForestClassifier(n_estimators=500, random_state=1, n_jobs=-1, max_depth=28)\n",
    "\n",
    "train_score, cv_score = get_cv_score(x_data=x_data_t, y_data=is_mal, k=5, model=rf)\n",
    "print(train_score)\n",
    "print(cv_score)\n",
    "print(\"train: {} \\n cv: {}\".format(np.mean(train_score), np.mean(cv_score)))"
   ]
  },
  {
   "cell_type": "code",
   "execution_count": 295,
   "metadata": {},
   "outputs": [],
   "source": [
    "x_data_t = x_data[imp.index[:num]]"
   ]
  },
  {
   "cell_type": "code",
   "execution_count": null,
   "metadata": {},
   "outputs": [],
   "source": [
    "rf = RandomForestClassifier(n_estimators=500, random_state=1, n_jobs=-1, max_depth=28)"
   ]
  },
  {
   "cell_type": "code",
   "execution_count": 296,
   "metadata": {},
   "outputs": [
    {
     "name": "stdout",
     "output_type": "stream",
     "text": [
      "[1.0, 1.0, 1.0, 1.0, 1.0]\n",
      "[0.954, 0.953, 0.957, 0.947, 0.952]\n",
      "train: 1.0 \n",
      " cv: 0.9526\n"
     ]
    }
   ],
   "source": [
    "train_score, cv_score = get_cv_score(x_data=x_data_t, y_data=is_mal, k=5, model=rf)\n",
    "print(train_score)\n",
    "print(cv_score)\n",
    "print(\"train: {} \\n cv: {}\".format(np.mean(train_score), np.mean(cv_score)))"
   ]
  },
  {
   "cell_type": "code",
   "execution_count": null,
   "metadata": {},
   "outputs": [],
   "source": [
    "0.953"
   ]
  },
  {
   "cell_type": "markdown",
   "metadata": {},
   "source": [
    "## 개별 피처 엔지니어링"
   ]
  },
  {
   "cell_type": "code",
   "execution_count": 500,
   "metadata": {},
   "outputs": [
    {
     "name": "stdout",
     "output_type": "stream",
     "text": [
      "0 1gram\n",
      "1 2gram\n",
      "2 len\n",
      "3 misc\n",
      "4 sym\n",
      "5 haralick\n",
      "6 pe\n",
      "7 section_name_freq\n",
      "8 exec_section_name_freq\n",
      "9 section_info\n",
      "10 section_entropy\n",
      "11 dll_freq\n",
      "12 api_freq\n",
      "13 opcode\n",
      "14 func\n",
      "15 register\n",
      "16 dd\n",
      "17 etc\n",
      "18 asm_img_bytes\n",
      "19 op1g\n",
      "20 op2g\n",
      "21 op3g\n",
      "22 op4g\n",
      "23 reg2\n",
      "24 reg3\n",
      "25 reg4\n",
      "26 inst1\n",
      "27 inst2\n",
      "28 inst3\n",
      "29 inst4\n"
     ]
    }
   ],
   "source": [
    "for i, name in enumerate(feature_set_name):\n",
    "    print(i, name)"
   ]
  },
  {
   "cell_type": "code",
   "execution_count": 519,
   "metadata": {},
   "outputs": [],
   "source": [
    "x_data = feature_concat(feature_set[29]).drop(['hash'], axis=1)"
   ]
  },
  {
   "cell_type": "code",
   "execution_count": 534,
   "metadata": {},
   "outputs": [],
   "source": [
    "rf = RandomForestClassifier(n_estimators=500, random_state=42, n_jobs=-1, max_depth=42)"
   ]
  },
  {
   "cell_type": "code",
   "execution_count": 535,
   "metadata": {},
   "outputs": [
    {
     "name": "stderr",
     "output_type": "stream",
     "text": [
      "c:\\python\\python3\\lib\\site-packages\\ipykernel_launcher.py:15: DataConversionWarning: A column-vector y was passed when a 1d array was expected. Please change the shape of y to (n_samples,), for example using ravel().\n",
      "  from ipykernel import kernelapp as app\n",
      "c:\\python\\python3\\lib\\site-packages\\ipykernel_launcher.py:15: DataConversionWarning: A column-vector y was passed when a 1d array was expected. Please change the shape of y to (n_samples,), for example using ravel().\n",
      "  from ipykernel import kernelapp as app\n"
     ]
    },
    {
     "name": "stdout",
     "output_type": "stream",
     "text": [
      "train list : [0.9282, 0.9394]\n",
      "cv list : [0.8602, 0.875]\n"
     ]
    }
   ],
   "source": [
    "train_score, cv_score = get_cv_score(x_data=x_data, y_data=is_mal, k=2, model=rf)\n",
    "# print(\"========[{}]========\".format(feature_set_name[14]))\n",
    "print(\"train list : {}\".format(train_score))\n",
    "print(\"cv list : {}\".format(cv_score))\n",
    "# print(\"train: {} \\n cv: {}\".format(np.mean(train_score), np.mean(cv_score)))\n",
    "# print(\"\\n\")"
   ]
  },
  {
   "cell_type": "code",
   "execution_count": 536,
   "metadata": {},
   "outputs": [],
   "source": [
    "values = np.array([list(v) for v in sorted(zip(x_data.columns, rf.feature_importances_), key=lambda x: x[1] * -1)])\n",
    "imp = pd.DataFrame(values[:,1], index = values[:,0], columns=[\"feature_importance\"])\n",
    "imp.feature_importance = imp.feature_importance.astype(float)"
   ]
  },
  {
   "cell_type": "code",
   "execution_count": 537,
   "metadata": {},
   "outputs": [
    {
     "data": {
      "text/html": [
       "<div>\n",
       "<style scoped>\n",
       "    .dataframe tbody tr th:only-of-type {\n",
       "        vertical-align: middle;\n",
       "    }\n",
       "\n",
       "    .dataframe tbody tr th {\n",
       "        vertical-align: top;\n",
       "    }\n",
       "\n",
       "    .dataframe thead th {\n",
       "        text-align: right;\n",
       "    }\n",
       "</style>\n",
       "<table border=\"1\" class=\"dataframe\">\n",
       "  <thead>\n",
       "    <tr style=\"text-align: right;\">\n",
       "      <th></th>\n",
       "      <th>push.REG.push.REG.call.MEM.add.REG.VALUE</th>\n",
       "      <th>call.ADDR.add.REG.VALUE.test.REG.REG.jz.ADDR</th>\n",
       "      <th>jmp.MEM.jmp.MEM.jmp.MEM.jmp.MEM</th>\n",
       "      <th>call.MEM.add.REG.VALUE.test.REG.REG.jz.ADDR</th>\n",
       "      <th>push.VALUE.push.VALUE.push.VALUE.push.VALUE</th>\n",
       "      <th>push.VALUE.call.ADDR.add.REG.VALUE.test.REG.REG</th>\n",
       "      <th>test.REG.REG.jnz.ADDR.push.REG.push.REG</th>\n",
       "      <th>push.REG.push.REG.push.REG.push.REG</th>\n",
       "      <th>pop.REG.pop.REG.pop.REG.pop.REG</th>\n",
       "      <th>push.REG.call.MEM.add.REG.VALUE.test.REG.REG</th>\n",
       "      <th>...</th>\n",
       "      <th>mov.REG.MEM.add.REG.VALUE.mov.MEM.REG.mov.REG.MEM</th>\n",
       "      <th>retn.push.REG.push.REG.push.REG</th>\n",
       "      <th>mov.REG.MEM.mov.MEM.REG.mov.REG.MEM.mov.REG.MEM</th>\n",
       "      <th>add.REG.VALUE.test.REG.REG.jz.ADDR.push.REG</th>\n",
       "      <th>push.REG.push.REG.mov.REG.REG.call.ADDR</th>\n",
       "      <th>mov.REG.MEM.pop.REG.pop.REG.pop.REG</th>\n",
       "      <th>mov.MEM.VALUE.mov.MEM.VALUE.mov.MEM.VALUE.lea.REG.MEM</th>\n",
       "      <th>push.VALUE.call.ADDR.push.REG.call.ADDR</th>\n",
       "      <th>leave.retn.push.REG.mov.REG.REG</th>\n",
       "      <th>pop.REG.leave.retn.VALUE.push.REG</th>\n",
       "    </tr>\n",
       "  </thead>\n",
       "  <tbody>\n",
       "    <tr>\n",
       "      <th>0</th>\n",
       "      <td>0.0</td>\n",
       "      <td>0.0</td>\n",
       "      <td>0.0</td>\n",
       "      <td>0.0</td>\n",
       "      <td>0.0</td>\n",
       "      <td>0.0</td>\n",
       "      <td>0.0</td>\n",
       "      <td>0.0</td>\n",
       "      <td>0.0</td>\n",
       "      <td>0.0</td>\n",
       "      <td>...</td>\n",
       "      <td>0.0</td>\n",
       "      <td>0.0</td>\n",
       "      <td>0.0</td>\n",
       "      <td>0.0</td>\n",
       "      <td>0.0</td>\n",
       "      <td>0.0</td>\n",
       "      <td>0.0</td>\n",
       "      <td>0.0</td>\n",
       "      <td>0.0</td>\n",
       "      <td>0.0</td>\n",
       "    </tr>\n",
       "  </tbody>\n",
       "</table>\n",
       "<p>1 rows × 220 columns</p>\n",
       "</div>"
      ],
      "text/plain": [
       "   push.REG.push.REG.call.MEM.add.REG.VALUE  \\\n",
       "0                                       0.0   \n",
       "\n",
       "   call.ADDR.add.REG.VALUE.test.REG.REG.jz.ADDR  \\\n",
       "0                                           0.0   \n",
       "\n",
       "   jmp.MEM.jmp.MEM.jmp.MEM.jmp.MEM  \\\n",
       "0                              0.0   \n",
       "\n",
       "   call.MEM.add.REG.VALUE.test.REG.REG.jz.ADDR  \\\n",
       "0                                          0.0   \n",
       "\n",
       "   push.VALUE.push.VALUE.push.VALUE.push.VALUE  \\\n",
       "0                                          0.0   \n",
       "\n",
       "   push.VALUE.call.ADDR.add.REG.VALUE.test.REG.REG  \\\n",
       "0                                              0.0   \n",
       "\n",
       "   test.REG.REG.jnz.ADDR.push.REG.push.REG  \\\n",
       "0                                      0.0   \n",
       "\n",
       "   push.REG.push.REG.push.REG.push.REG  pop.REG.pop.REG.pop.REG.pop.REG  \\\n",
       "0                                  0.0                              0.0   \n",
       "\n",
       "   push.REG.call.MEM.add.REG.VALUE.test.REG.REG  \\\n",
       "0                                           0.0   \n",
       "\n",
       "                 ...                  \\\n",
       "0                ...                   \n",
       "\n",
       "   mov.REG.MEM.add.REG.VALUE.mov.MEM.REG.mov.REG.MEM  \\\n",
       "0                                                0.0   \n",
       "\n",
       "   retn.push.REG.push.REG.push.REG  \\\n",
       "0                              0.0   \n",
       "\n",
       "   mov.REG.MEM.mov.MEM.REG.mov.REG.MEM.mov.REG.MEM  \\\n",
       "0                                              0.0   \n",
       "\n",
       "   add.REG.VALUE.test.REG.REG.jz.ADDR.push.REG  \\\n",
       "0                                          0.0   \n",
       "\n",
       "   push.REG.push.REG.mov.REG.REG.call.ADDR  \\\n",
       "0                                      0.0   \n",
       "\n",
       "   mov.REG.MEM.pop.REG.pop.REG.pop.REG  \\\n",
       "0                                  0.0   \n",
       "\n",
       "   mov.MEM.VALUE.mov.MEM.VALUE.mov.MEM.VALUE.lea.REG.MEM  \\\n",
       "0                                                0.0       \n",
       "\n",
       "   push.VALUE.call.ADDR.push.REG.call.ADDR  leave.retn.push.REG.mov.REG.REG  \\\n",
       "0                                      0.0                              0.0   \n",
       "\n",
       "   pop.REG.leave.retn.VALUE.push.REG  \n",
       "0                                0.0  \n",
       "\n",
       "[1 rows x 220 columns]"
      ]
     },
     "execution_count": 537,
     "metadata": {},
     "output_type": "execute_result"
    }
   ],
   "source": [
    "x_data.head(1)"
   ]
  },
  {
   "cell_type": "code",
   "execution_count": 542,
   "metadata": {
    "scrolled": false
   },
   "outputs": [
    {
     "data": {
      "text/plain": [
       "<matplotlib.axes._subplots.AxesSubplot at 0x25d7fcceb00>"
      ]
     },
     "execution_count": 542,
     "metadata": {},
     "output_type": "execute_result"
    },
    {
     "data": {
      "image/png": "[encoded data removed]",
      "text/plain": [
       "<Figure size 1008x576 with 1 Axes>"
      ]
     },
     "metadata": {
      "needs_background": "light"
     },
     "output_type": "display_data"
    },
    {
     "data": {
      "image/png": "[encoded data removed]",
      "text/plain": [
       "<Figure size 1008x576 with 1 Axes>"
      ]
     },
     "metadata": {
      "needs_background": "light"
     },
     "output_type": "display_data"
    }
   ],
   "source": [
    "num = 110\n",
    "imp.plot(figsize=(14,8), grid=True, xlim=(-1,num))\n",
    "imp.plot(figsize=(14,8), grid=True, xlim=(num,len(x_data.columns)))"
   ]
  },
  {
   "cell_type": "code",
   "execution_count": 543,
   "metadata": {},
   "outputs": [
    {
     "data": {
      "text/plain": [
       "<matplotlib.axes._subplots.AxesSubplot at 0x25d484b57f0>"
      ]
     },
     "execution_count": 543,
     "metadata": {},
     "output_type": "execute_result"
    },
    {
     "data": {
      "image/png": "[encoded data removed]",
      "text/plain": [
       "<Figure size 432x288 with 1 Axes>"
      ]
     },
     "metadata": {
      "needs_background": "light"
     },
     "output_type": "display_data"
    }
   ],
   "source": [
    "sns.distplot(imp)"
   ]
  },
  {
   "cell_type": "code",
   "execution_count": 544,
   "metadata": {
    "scrolled": true
   },
   "outputs": [
    {
     "data": {
      "text/html": [
       "<div>\n",
       "<style scoped>\n",
       "    .dataframe tbody tr th:only-of-type {\n",
       "        vertical-align: middle;\n",
       "    }\n",
       "\n",
       "    .dataframe tbody tr th {\n",
       "        vertical-align: top;\n",
       "    }\n",
       "\n",
       "    .dataframe thead th {\n",
       "        text-align: right;\n",
       "    }\n",
       "</style>\n",
       "<table border=\"1\" class=\"dataframe\">\n",
       "  <thead>\n",
       "    <tr style=\"text-align: right;\">\n",
       "      <th></th>\n",
       "      <th>feature_importance</th>\n",
       "    </tr>\n",
       "  </thead>\n",
       "  <tbody>\n",
       "    <tr>\n",
       "      <th>ret.ret.ret.ret</th>\n",
       "      <td>0.017661</td>\n",
       "    </tr>\n",
       "    <tr>\n",
       "      <th>push.REG.push.REG.call.MEM.add.REG.VALUE</th>\n",
       "      <td>0.016039</td>\n",
       "    </tr>\n",
       "    <tr>\n",
       "      <th>call.ADDR.add.REG.VALUE.test.REG.REG.jz.ADDR</th>\n",
       "      <td>0.013052</td>\n",
       "    </tr>\n",
       "    <tr>\n",
       "      <th>jmp.MEM.jmp.MEM.jmp.MEM.jmp.MEM</th>\n",
       "      <td>0.012256</td>\n",
       "    </tr>\n",
       "    <tr>\n",
       "      <th>push.VALUE.push.VALUE.push.VALUE.push.VALUE</th>\n",
       "      <td>0.010240</td>\n",
       "    </tr>\n",
       "    <tr>\n",
       "      <th>push.REG.push.REG.push.REG.push.REG</th>\n",
       "      <td>0.010224</td>\n",
       "    </tr>\n",
       "    <tr>\n",
       "      <th>pop.REG.pop.REG.pop.REG.pop.REG</th>\n",
       "      <td>0.010084</td>\n",
       "    </tr>\n",
       "    <tr>\n",
       "      <th>push.VALUE.push.VALUE.push.VALUE.call.ADDR</th>\n",
       "      <td>0.009327</td>\n",
       "    </tr>\n",
       "    <tr>\n",
       "      <th>ldnull.ceq.ldc.i4.0.ceq</th>\n",
       "      <td>0.008903</td>\n",
       "    </tr>\n",
       "    <tr>\n",
       "      <th>nop.nop.ret.nop</th>\n",
       "      <td>0.008558</td>\n",
       "    </tr>\n",
       "    <tr>\n",
       "      <th>push.VALUE.call.ADDR.add.REG.VALUE.test.REG.REG</th>\n",
       "      <td>0.008479</td>\n",
       "    </tr>\n",
       "    <tr>\n",
       "      <th>push.REG.mov.REG.REG.push.REG.push.REG</th>\n",
       "      <td>0.008327</td>\n",
       "    </tr>\n",
       "    <tr>\n",
       "      <th>cmp.REG.VALUE.jz.ADDR.cmp.REG.VALUE.jz.ADDR</th>\n",
       "      <td>0.008137</td>\n",
       "    </tr>\n",
       "    <tr>\n",
       "      <th>add.REG.VALUE.test.REG.REG.jz.ADDR.mov.REG.MEM</th>\n",
       "      <td>0.007982</td>\n",
       "    </tr>\n",
       "    <tr>\n",
       "      <th>pop.REG.retn.mov.REG.REG.push.REG</th>\n",
       "      <td>0.007885</td>\n",
       "    </tr>\n",
       "    <tr>\n",
       "      <th>call.ADDR.pop.REG.pop.REG.test.REG.REG</th>\n",
       "      <td>0.007874</td>\n",
       "    </tr>\n",
       "    <tr>\n",
       "      <th>stfld.ETC.ret.ldarg.0.ldfld.ETC</th>\n",
       "      <td>0.007586</td>\n",
       "    </tr>\n",
       "    <tr>\n",
       "      <th>mov.REG.MEM.test.REG.REG.jz.ADDR.mov.REG.MEM</th>\n",
       "      <td>0.007467</td>\n",
       "    </tr>\n",
       "    <tr>\n",
       "      <th>test.REG.REG.jnz.ADDR.push.REG.push.REG</th>\n",
       "      <td>0.007432</td>\n",
       "    </tr>\n",
       "    <tr>\n",
       "      <th>call.MEM.add.REG.VALUE.test.REG.REG.jz.ADDR</th>\n",
       "      <td>0.007345</td>\n",
       "    </tr>\n",
       "    <tr>\n",
       "      <th>lea.REG.MEM.push.REG.push.REG.mov.REG.REG</th>\n",
       "      <td>0.007254</td>\n",
       "    </tr>\n",
       "    <tr>\n",
       "      <th>mov.MEM.VALUE.mov.MEM.VALUE.mov.MEM.VALUE.mov.MEM.VALUE</th>\n",
       "      <td>0.007245</td>\n",
       "    </tr>\n",
       "    <tr>\n",
       "      <th>ldstr.ETC.call.ETC.ldstr.ETC.call.ETC</th>\n",
       "      <td>0.007188</td>\n",
       "    </tr>\n",
       "    <tr>\n",
       "      <th>ldarg.0.ldfld.ETC.ret.ldarg.0</th>\n",
       "      <td>0.006874</td>\n",
       "    </tr>\n",
       "    <tr>\n",
       "      <th>ret.ldarg.0.ldfld.ETC.ret</th>\n",
       "      <td>0.006691</td>\n",
       "    </tr>\n",
       "    <tr>\n",
       "      <th>lea.REG.MEM.push.REG.lea.REG.MEM.push.REG</th>\n",
       "      <td>0.006605</td>\n",
       "    </tr>\n",
       "    <tr>\n",
       "      <th>push.VALUE.push.VALUE.push.VALUE.call.MEM</th>\n",
       "      <td>0.006595</td>\n",
       "    </tr>\n",
       "    <tr>\n",
       "      <th>push.REG.mov.REG.MEM.push.REG.push.REG</th>\n",
       "      <td>0.006435</td>\n",
       "    </tr>\n",
       "    <tr>\n",
       "      <th>ldstr.ETC.stsfld.ETC.ldstr.ETC.stsfld.ETC</th>\n",
       "      <td>0.006434</td>\n",
       "    </tr>\n",
       "    <tr>\n",
       "      <th>mov.MEM.REG.call.ADDR.test.REG.REG.jnz.ADDR</th>\n",
       "      <td>0.006335</td>\n",
       "    </tr>\n",
       "    <tr>\n",
       "      <th>...</th>\n",
       "      <td>...</td>\n",
       "    </tr>\n",
       "    <tr>\n",
       "      <th>push.REG.call.ADDR.add.REG.VALUE.mov.REG.REG</th>\n",
       "      <td>0.002686</td>\n",
       "    </tr>\n",
       "    <tr>\n",
       "      <th>mov.MEM.REG.mov.MEM.VALUE.test.REG.REG.jz.ADDR</th>\n",
       "      <td>0.002670</td>\n",
       "    </tr>\n",
       "    <tr>\n",
       "      <th>add.REG.VALUE.test.REG.REG.jnz.ADDR.mov.REG.MEM</th>\n",
       "      <td>0.002642</td>\n",
       "    </tr>\n",
       "    <tr>\n",
       "      <th>mov.REG.MEM.xor.REG.REG.mov.MEM.REG.push.REG</th>\n",
       "      <td>0.002626</td>\n",
       "    </tr>\n",
       "    <tr>\n",
       "      <th>mov.REG.MEM.lea.REG.MEM.mov.REG.MEM.xor.REG.REG</th>\n",
       "      <td>0.002582</td>\n",
       "    </tr>\n",
       "    <tr>\n",
       "      <th>push.VALUE.push.REG.call.REG.add.REG.VALUE</th>\n",
       "      <td>0.002575</td>\n",
       "    </tr>\n",
       "    <tr>\n",
       "      <th>pop.REG.xor.REG.REG.pop.REG.retn</th>\n",
       "      <td>0.002557</td>\n",
       "    </tr>\n",
       "    <tr>\n",
       "      <th>push.REG.push.REG.mov.REG.REG.call.ADDR</th>\n",
       "      <td>0.002507</td>\n",
       "    </tr>\n",
       "    <tr>\n",
       "      <th>pop.REG.retn.VALUE.mov.REG.REG.push.REG</th>\n",
       "      <td>0.002502</td>\n",
       "    </tr>\n",
       "    <tr>\n",
       "      <th>mov.REG.MEM.test.REG.REG.jnz.ADDR.push.VALUE</th>\n",
       "      <td>0.002408</td>\n",
       "    </tr>\n",
       "    <tr>\n",
       "      <th>push.VALUE.mov.REG.MEM.push.REG.sub.REG.VALUE</th>\n",
       "      <td>0.002362</td>\n",
       "    </tr>\n",
       "    <tr>\n",
       "      <th>pop.REG.leave.retn.VALUE.push.REG</th>\n",
       "      <td>0.002362</td>\n",
       "    </tr>\n",
       "    <tr>\n",
       "      <th>mov.REG.VALUE.cmp.REG.VALUE.mov.REG.VALUE.push.VALUE</th>\n",
       "      <td>0.002316</td>\n",
       "    </tr>\n",
       "    <tr>\n",
       "      <th>push.REG.call.REG.mov.REG.MEM.mov.REG.MEM</th>\n",
       "      <td>0.002308</td>\n",
       "    </tr>\n",
       "    <tr>\n",
       "      <th>jmp.ADDR.lea.REG.MEM.jmp.ADDR.mov.REG.MEM</th>\n",
       "      <td>0.002300</td>\n",
       "    </tr>\n",
       "    <tr>\n",
       "      <th>cmp.REG.VALUE.mov.REG.VALUE.push.VALUE.retn</th>\n",
       "      <td>0.002300</td>\n",
       "    </tr>\n",
       "    <tr>\n",
       "      <th>mov.REG.REG.pop.REG.retn.mov.REG.REG</th>\n",
       "      <td>0.002296</td>\n",
       "    </tr>\n",
       "    <tr>\n",
       "      <th>mov.REG.MEM.xor.REG.REG.call.ADDR.mov.REG.VALUE</th>\n",
       "      <td>0.002260</td>\n",
       "    </tr>\n",
       "    <tr>\n",
       "      <th>push.REG.push.REG.mov.REG.MEM.xor.REG.REG</th>\n",
       "      <td>0.002248</td>\n",
       "    </tr>\n",
       "    <tr>\n",
       "      <th>mov.REG.VALUE.push.VALUE.retn.mov.REG.VALUE</th>\n",
       "      <td>0.002123</td>\n",
       "    </tr>\n",
       "    <tr>\n",
       "      <th>push.REG.call.ADDR.add.REG.VALUE.retn</th>\n",
       "      <td>0.002110</td>\n",
       "    </tr>\n",
       "    <tr>\n",
       "      <th>mov.REG.MEM.mov.REG.MEM.lea.REG.MEM.push.REG</th>\n",
       "      <td>0.002106</td>\n",
       "    </tr>\n",
       "    <tr>\n",
       "      <th>mov.REG.MEM.mov.REG.MEM.push.VALUE.push.VALUE</th>\n",
       "      <td>0.002046</td>\n",
       "    </tr>\n",
       "    <tr>\n",
       "      <th>lea.REG.MEM.mov.REG.MEM.xor.REG.REG.call.ADDR</th>\n",
       "      <td>0.002041</td>\n",
       "    </tr>\n",
       "    <tr>\n",
       "      <th>retn.mov.REG.VALUE.cmp.REG.VALUE.mov.REG.VALUE</th>\n",
       "      <td>0.001978</td>\n",
       "    </tr>\n",
       "    <tr>\n",
       "      <th>push.REG.call.REG.add.REG.VALUE.test.REG.REG</th>\n",
       "      <td>0.001881</td>\n",
       "    </tr>\n",
       "    <tr>\n",
       "      <th>push.VALUE.retn.mov.REG.VALUE.cmp.REG.VALUE</th>\n",
       "      <td>0.001803</td>\n",
       "    </tr>\n",
       "    <tr>\n",
       "      <th>add.REG.VALUE.mov.MEM.REG.test.REG.REG.jnz.ADDR</th>\n",
       "      <td>0.001739</td>\n",
       "    </tr>\n",
       "    <tr>\n",
       "      <th>retn.sub.REG.VALUE.push.REG.push.REG</th>\n",
       "      <td>0.001723</td>\n",
       "    </tr>\n",
       "    <tr>\n",
       "      <th>xor.REG.REG.call.ADDR.mov.REG.VALUE.jmp.ADDR</th>\n",
       "      <td>0.001620</td>\n",
       "    </tr>\n",
       "  </tbody>\n",
       "</table>\n",
       "<p>220 rows × 1 columns</p>\n",
       "</div>"
      ],
      "text/plain": [
       "                                                    feature_importance\n",
       "ret.ret.ret.ret                                               0.017661\n",
       "push.REG.push.REG.call.MEM.add.REG.VALUE                      0.016039\n",
       "call.ADDR.add.REG.VALUE.test.REG.REG.jz.ADDR                  0.013052\n",
       "jmp.MEM.jmp.MEM.jmp.MEM.jmp.MEM                               0.012256\n",
       "push.VALUE.push.VALUE.push.VALUE.push.VALUE                   0.010240\n",
       "push.REG.push.REG.push.REG.push.REG                           0.010224\n",
       "pop.REG.pop.REG.pop.REG.pop.REG                               0.010084\n",
       "push.VALUE.push.VALUE.push.VALUE.call.ADDR                    0.009327\n",
       "ldnull.ceq.ldc.i4.0.ceq                                       0.008903\n",
       "nop.nop.ret.nop                                               0.008558\n",
       "push.VALUE.call.ADDR.add.REG.VALUE.test.REG.REG               0.008479\n",
       "push.REG.mov.REG.REG.push.REG.push.REG                        0.008327\n",
       "cmp.REG.VALUE.jz.ADDR.cmp.REG.VALUE.jz.ADDR                   0.008137\n",
       "add.REG.VALUE.test.REG.REG.jz.ADDR.mov.REG.MEM                0.007982\n",
       "pop.REG.retn.mov.REG.REG.push.REG                             0.007885\n",
       "call.ADDR.pop.REG.pop.REG.test.REG.REG                        0.007874\n",
       "stfld.ETC.ret.ldarg.0.ldfld.ETC                               0.007586\n",
       "mov.REG.MEM.test.REG.REG.jz.ADDR.mov.REG.MEM                  0.007467\n",
       "test.REG.REG.jnz.ADDR.push.REG.push.REG                       0.007432\n",
       "call.MEM.add.REG.VALUE.test.REG.REG.jz.ADDR                   0.007345\n",
       "lea.REG.MEM.push.REG.push.REG.mov.REG.REG                     0.007254\n",
       "mov.MEM.VALUE.mov.MEM.VALUE.mov.MEM.VALUE.mov.M...            0.007245\n",
       "ldstr.ETC.call.ETC.ldstr.ETC.call.ETC                         0.007188\n",
       "ldarg.0.ldfld.ETC.ret.ldarg.0                                 0.006874\n",
       "ret.ldarg.0.ldfld.ETC.ret                                     0.006691\n",
       "lea.REG.MEM.push.REG.lea.REG.MEM.push.REG                     0.006605\n",
       "push.VALUE.push.VALUE.push.VALUE.call.MEM                     0.006595\n",
       "push.REG.mov.REG.MEM.push.REG.push.REG                        0.006435\n",
       "ldstr.ETC.stsfld.ETC.ldstr.ETC.stsfld.ETC                     0.006434\n",
       "mov.MEM.REG.call.ADDR.test.REG.REG.jnz.ADDR                   0.006335\n",
       "...                                                                ...\n",
       "push.REG.call.ADDR.add.REG.VALUE.mov.REG.REG                  0.002686\n",
       "mov.MEM.REG.mov.MEM.VALUE.test.REG.REG.jz.ADDR                0.002670\n",
       "add.REG.VALUE.test.REG.REG.jnz.ADDR.mov.REG.MEM               0.002642\n",
       "mov.REG.MEM.xor.REG.REG.mov.MEM.REG.push.REG                  0.002626\n",
       "mov.REG.MEM.lea.REG.MEM.mov.REG.MEM.xor.REG.REG               0.002582\n",
       "push.VALUE.push.REG.call.REG.add.REG.VALUE                    0.002575\n",
       "pop.REG.xor.REG.REG.pop.REG.retn                              0.002557\n",
       "push.REG.push.REG.mov.REG.REG.call.ADDR                       0.002507\n",
       "pop.REG.retn.VALUE.mov.REG.REG.push.REG                       0.002502\n",
       "mov.REG.MEM.test.REG.REG.jnz.ADDR.push.VALUE                  0.002408\n",
       "push.VALUE.mov.REG.MEM.push.REG.sub.REG.VALUE                 0.002362\n",
       "pop.REG.leave.retn.VALUE.push.REG                             0.002362\n",
       "mov.REG.VALUE.cmp.REG.VALUE.mov.REG.VALUE.push....            0.002316\n",
       "push.REG.call.REG.mov.REG.MEM.mov.REG.MEM                     0.002308\n",
       "jmp.ADDR.lea.REG.MEM.jmp.ADDR.mov.REG.MEM                     0.002300\n",
       "cmp.REG.VALUE.mov.REG.VALUE.push.VALUE.retn                   0.002300\n",
       "mov.REG.REG.pop.REG.retn.mov.REG.REG                          0.002296\n",
       "mov.REG.MEM.xor.REG.REG.call.ADDR.mov.REG.VALUE               0.002260\n",
       "push.REG.push.REG.mov.REG.MEM.xor.REG.REG                     0.002248\n",
       "mov.REG.VALUE.push.VALUE.retn.mov.REG.VALUE                   0.002123\n",
       "push.REG.call.ADDR.add.REG.VALUE.retn                         0.002110\n",
       "mov.REG.MEM.mov.REG.MEM.lea.REG.MEM.push.REG                  0.002106\n",
       "mov.REG.MEM.mov.REG.MEM.push.VALUE.push.VALUE                 0.002046\n",
       "lea.REG.MEM.mov.REG.MEM.xor.REG.REG.call.ADDR                 0.002041\n",
       "retn.mov.REG.VALUE.cmp.REG.VALUE.mov.REG.VALUE                0.001978\n",
       "push.REG.call.REG.add.REG.VALUE.test.REG.REG                  0.001881\n",
       "push.VALUE.retn.mov.REG.VALUE.cmp.REG.VALUE                   0.001803\n",
       "add.REG.VALUE.mov.MEM.REG.test.REG.REG.jnz.ADDR               0.001739\n",
       "retn.sub.REG.VALUE.push.REG.push.REG                          0.001723\n",
       "xor.REG.REG.call.ADDR.mov.REG.VALUE.jmp.ADDR                  0.001620\n",
       "\n",
       "[220 rows x 1 columns]"
      ]
     },
     "execution_count": 544,
     "metadata": {},
     "output_type": "execute_result"
    }
   ],
   "source": [
    "imp[imp.feature_importance > 0]"
   ]
  },
  {
   "cell_type": "code",
   "execution_count": 545,
   "metadata": {},
   "outputs": [],
   "source": [
    "x_data = x_data[imp.index[:num]]"
   ]
  },
  {
   "cell_type": "code",
   "execution_count": 546,
   "metadata": {},
   "outputs": [
    {
     "name": "stderr",
     "output_type": "stream",
     "text": [
      "c:\\python\\python3\\lib\\site-packages\\ipykernel_launcher.py:15: DataConversionWarning: A column-vector y was passed when a 1d array was expected. Please change the shape of y to (n_samples,), for example using ravel().\n",
      "  from ipykernel import kernelapp as app\n",
      "c:\\python\\python3\\lib\\site-packages\\ipykernel_launcher.py:15: DataConversionWarning: A column-vector y was passed when a 1d array was expected. Please change the shape of y to (n_samples,), for example using ravel().\n",
      "  from ipykernel import kernelapp as app\n"
     ]
    },
    {
     "data": {
      "text/plain": [
       "([0.9338, 0.938], [0.8734, 0.8706])"
      ]
     },
     "execution_count": 546,
     "metadata": {},
     "output_type": "execute_result"
    }
   ],
   "source": [
    "get_cv_score(x_data, is_mal, rf, 2)"
   ]
  },
  {
   "cell_type": "code",
   "execution_count": 547,
   "metadata": {
    "scrolled": false
   },
   "outputs": [
    {
     "name": "stdout",
     "output_type": "stream",
     "text": [
      "['ret.ret.ret.ret', 'push.REG.push.REG.call.MEM.add.REG.VALUE', 'call.ADDR.add.REG.VALUE.test.REG.REG.jz.ADDR', 'jmp.MEM.jmp.MEM.jmp.MEM.jmp.MEM', 'push.VALUE.push.VALUE.push.VALUE.push.VALUE', 'push.REG.push.REG.push.REG.push.REG', 'pop.REG.pop.REG.pop.REG.pop.REG', 'push.VALUE.push.VALUE.push.VALUE.call.ADDR', 'ldnull.ceq.ldc.i4.0.ceq', 'nop.nop.ret.nop', 'push.VALUE.call.ADDR.add.REG.VALUE.test.REG.REG', 'push.REG.mov.REG.REG.push.REG.push.REG', 'cmp.REG.VALUE.jz.ADDR.cmp.REG.VALUE.jz.ADDR', 'add.REG.VALUE.test.REG.REG.jz.ADDR.mov.REG.MEM', 'pop.REG.retn.mov.REG.REG.push.REG', 'call.ADDR.pop.REG.pop.REG.test.REG.REG', 'stfld.ETC.ret.ldarg.0.ldfld.ETC', 'mov.REG.MEM.test.REG.REG.jz.ADDR.mov.REG.MEM', 'test.REG.REG.jnz.ADDR.push.REG.push.REG', 'call.MEM.add.REG.VALUE.test.REG.REG.jz.ADDR', 'lea.REG.MEM.push.REG.push.REG.mov.REG.REG', 'mov.MEM.VALUE.mov.MEM.VALUE.mov.MEM.VALUE.mov.MEM.VALUE', 'ldstr.ETC.call.ETC.ldstr.ETC.call.ETC', 'ldarg.0.ldfld.ETC.ret.ldarg.0', 'ret.ldarg.0.ldfld.ETC.ret', 'lea.REG.MEM.push.REG.lea.REG.MEM.push.REG', 'push.VALUE.push.VALUE.push.VALUE.call.MEM', 'push.REG.mov.REG.MEM.push.REG.push.REG', 'ldstr.ETC.stsfld.ETC.ldstr.ETC.stsfld.ETC', 'mov.MEM.REG.call.ADDR.test.REG.REG.jnz.ADDR', 'mov.REG.MEM.push.REG.push.REG.push.REG', 'xor.REG.REG.pop.REG.pop.REG.pop.REG', 'push.REG.mov.REG.REG.sub.REG.VALUE.push.REG', 'pop.REG.pop.REG.pop.REG.retn', 'push.REG.push.VALUE.push.REG.call.MEM', 'push.REG.call.MEM.add.REG.VALUE.test.REG.REG', 'mov.MEM.REG.mov.MEM.REG.mov.MEM.REG.mov.MEM.REG', 'push.REG.push.VALUE.push.REG.push.REG', 'cmp.MEM.VALUE.jnz.ADDR.mov.REG.MEM.mov.REG.MEM', 'mov.MEM.REG.push.VALUE.push.VALUE.push.VALUE', 'mov.REG.MEM.mov.MEM.REG.mov.REG.MEM.mov.MEM.REG', 'pop.REG.retn.push.REG.mov.REG.REG', 'mov.REG.MEM.mov.REG.MEM.push.REG.push.REG', 'mov.REG.MEM.add.REG.VALUE.jmp.ADDR.mov.REG.MEM', 'test.REG.REG.jz.ADDR.push.REG.call.MEM', 'add.REG.VALUE.mov.REG.REG.pop.REG.pop.REG', 'push.VALUE.push.REG.call.MEM.add.REG.VALUE', 'retn.push.REG.mov.REG.REG.sub.REG.VALUE', 'jnz.ADDR.mov.REG.MEM.test.REG.REG.jz.ADDR', 'mov.MEM.REG.mov.REG.MEM.mov.MEM.REG.mov.REG.MEM', 'push.REG.lea.REG.MEM.push.REG.lea.REG.MEM', 'push.REG.push.REG.push.REG.call.ADDR', 'jz.ADDR.push.REG.call.ADDR.add.REG.VALUE', 'push.REG.call.ADDR.pop.REG.pop.REG', 'push.REG.push.REG.push.REG.mov.REG.MEM', 'mov.REG.MEM.cmp.REG.REG.jz.ADDR.mov.REG.MEM', 'push.MEM.call.ADDR.pop.REG.pop.REG', 'pop.REG.pop.REG.retn.push.REG', 'push.REG.lea.REG.MEM.push.REG.push.VALUE', 'push.REG.mov.REG.REG.sub.REG.VALUE.mov.REG.MEM', 'call.ADDR.pop.REG.test.REG.REG.jz.ADDR', 'jz.ADDR.mov.REG.MEM.test.REG.REG.jz.ADDR', 'call.ADDR.pop.REG.pop.REG.pop.REG', 'mov.REG.REG.pop.REG.pop.REG.pop.REG', 'push.VALUE.mov.REG.MEM.push.REG.mov.MEM.REG', 'pop.REG.pop.REG.mov.REG.REG.pop.REG', 'push.VALUE.push.VALUE.push.VALUE.push.REG', 'mov.MEM.REG.mov.REG.MEM.mov.MEM.REG.mov.MEM.REG', 'push.REG.push.REG.push.REG.mov.MEM.REG', 'push.VALUE.push.VALUE.push.MEM.call.ADDR', 'push.REG.push.REG.push.REG.mov.REG.REG', 'jz.ADDR.cmp.REG.VALUE.jz.ADDR.cmp.REG.VALUE', 'pop.REG.pop.REG.leave.retn.VALUE', 'xor.REG.REG.push.REG.lea.REG.MEM.mov.MEM.REG', 'retn.VALUE.push.REG.mov.REG.REG.push.REG', 'retn.mov.REG.REG.push.REG.mov.REG.REG', 'mov.MEM.REG.mov.REG.MEM.mov.REG.MEM.mov.MEM.REG', 'mov.REG.MEM.lea.REG.MEM.push.REG.push.VALUE', 'push.REG.lea.REG.MEM.push.REG.push.REG', 'mov.REG.MEM.mov.REG.MEM.test.REG.REG.jnz.ADDR', 'leave.retn.push.REG.mov.REG.REG', 'push.MEM.push.MEM.push.MEM.push.MEM', 'push.VALUE.push.VALUE.call.ADDR.mov.REG.MEM', 'push.VALUE.push.VALUE.call.ADDR.add.REG.VALUE', 'push.REG.push.VALUE.push.REG.call.REG', 'mov.REG.MEM.mov.REG.REG.pop.REG.retn', 'push.REG.mov.REG.MEM.push.REG.mov.REG.MEM', 'mov.MEM.REG.mov.MEM.VALUE.call.ADDR.mov.REG.MEM', 'mov.REG.MEM.mov.REG.MEM.mov.MEM.REG.mov.REG.MEM', 'mov.MEM.REG.mov.MEM.REG.mov.REG.MEM.mov.MEM.REG', 'jmp.ADDR.mov.REG.MEM.mov.REG.MEM.mov.REG.MEM', 'mov.REG.MEM.push.REG.push.REG.mov.REG.MEM', 'push.REG.push.VALUE.push.VALUE.call.ADDR', 'push.VALUE.push.MEM.push.MEM.call.ADDR', 'pop.REG.pop.REG.pop.REG.leave', 'push.VALUE.push.VALUE.push.REG.push.REG', 'mov.REG.MEM.mov.REG.MEM.test.REG.REG.jz.ADDR', 'retn.push.REG.mov.REG.REG.push.REG', 'mov.REG.MEM.test.REG.REG.jz.ADDR.push.REG', 'lea.REG.MEM.push.REG.push.REG.call.MEM', 'push.REG.push.REG.call.MEM.mov.REG.MEM', 'push.MEM.push.MEM.call.ADDR.add.REG.VALUE', 'sub.REG.VALUE.push.REG.push.REG.push.REG', 'push.REG.push.REG.lea.REG.MEM.push.REG', 'mov.REG.REG.pop.REG.retn.push.REG', 'push.VALUE.push.REG.push.REG.call.REG', 'mov.REG.MEM.mov.MEM.REG.mov.REG.MEM.mov.REG.MEM', 'pop.REG.pop.REG.pop.REG.retn.VALUE', 'push.VALUE.push.VALUE.push.REG.call.MEM', 'push.REG.call.ADDR.test.REG.REG.jz.ADDR']\n"
     ]
    }
   ],
   "source": [
    "print(list(x_data.columns))"
   ]
  },
  {
   "cell_type": "markdown",
   "metadata": {},
   "source": [
    "# 단일 파일 모델링 스코어 확인"
   ]
  },
  {
   "cell_type": "code",
   "execution_count": null,
   "metadata": {
    "scrolled": true
   },
   "outputs": [],
   "source": [
    "for i, features in enumerate(feature_set):\n",
    "    rf = RandomForestClassifier(n_estimators=500, random_state=42, n_jobs=-1, max_depth=28)\n",
    "    x_train, x_test, y_train, y_test = train_test_split(features.drop(['hash'], axis=1), is_mal, test_size=0.3, random_state=0)\n",
    "    rf.fit(x_train, y_train)\n",
    "    print(\"[{}]: 정확도: {}\".format(feature_set_name[i], rf.score(x_test, y_test)))"
   ]
  },
  {
   "cell_type": "markdown",
   "metadata": {},
   "source": [
    "# 기타 등등"
   ]
  },
  {
   "cell_type": "code",
   "execution_count": null,
   "metadata": {},
   "outputs": [],
   "source": [
    "feature_set_dict = {\n",
    "    \"bytes\":{\"ngram_1gram\":bytes_ngram_1gram, \"ngram_2gram\":bytes_ngram_2gram, \n",
    "             \"str_len\":bytes_str_len, \"str_misc\":bytes_str_misc, \"str_sym\":bytes_str_sym, \n",
    "             \"img_haralick\":bytes_img_haralick},\n",
    "    \n",
    "    \"asm\":{\"pe_info\":asm_pe_info,\n",
    "           \"section_name_freq\":asm_section_name_freq, \"exec_section_name_freq\":asm_exec_section_name_freq, \"section_info\":asm_section_info, \"section_entropy\":asm_section_entropy, \n",
    "           \"dll_freq\":asm_dll_freq, \n",
    "           \"api_freq\":asm_api_freq, \n",
    "           \"opcode_freq\":asm_opcode_freq, \n",
    "           \"func_cnt\":asm_func_cnt, \n",
    "           \"register_freq\":asm_register_freq, \n",
    "           \"dd_freq\":asm_dd_freq, \n",
    "           \"etc_info\":asm_etc_info}\n",
    "}"
   ]
  },
  {
   "cell_type": "code",
   "execution_count": null,
   "metadata": {},
   "outputs": [],
   "source": [
    "def dict_to_list(dic):\n",
    "    \n",
    "    # 그릇\n",
    "    temp = []\n",
    "    \n",
    "    # 키만 가져와서 검사\n",
    "    for key in dic.keys():\n",
    "        \n",
    "        #만약 키에 해당하는 값이 딕셔너리라면, 재귀함수\n",
    "        if type(dic[key]) is dict:\n",
    "            temp += dict_to_list(dic[key])\n",
    "        \n",
    "        # 아니라면 그릇에 객체 추가\n",
    "        else:\n",
    "            temp.append(dic[key])\n",
    "    \n",
    "    # 그릇 반환\n",
    "    return temp"
   ]
  }
 ],
 "metadata": {
  "kernelspec": {
   "display_name": "Python 3",
   "language": "python",
   "name": "python3"
  },
  "language_info": {
   "codemirror_mode": {
    "name": "ipython",
    "version": 3
   },
   "file_extension": ".py",
   "mimetype": "text/x-python",
   "name": "python",
   "nbconvert_exporter": "python",
   "pygments_lexer": "ipython3",
   "version": "3.6.7"
  }
 },
 "nbformat": 4,
 "nbformat_minor": 2
}
