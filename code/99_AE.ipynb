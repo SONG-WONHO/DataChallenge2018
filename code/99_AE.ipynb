{
 "cells": [
  {
   "cell_type": "code",
   "execution_count": 10,
   "metadata": {},
   "outputs": [],
   "source": [
    "from tensorflow.examples.tutorials.mnist import input_data\n",
    "import tensorflow as tf\n",
    "from tensorflow.contrib import layers\n",
    "import pandas as pd\n",
    "import numpy as np\n",
    "import matplotlib.pyplot as plt\n",
    "\n",
    "from sklearn.ensemble import RandomForestClassifier\n",
    "from xgboost import XGBClassifier\n",
    "from sklearn.tree import DecisionTreeClassifier\n",
    "from sklearn.ensemble import ExtraTreesClassifier\n",
    "import lightgbm as lgb\n",
    "import catboost as cb\n",
    "\n",
    "from PIL import Image\n",
    "\n",
    "import os"
   ]
  },
  {
   "cell_type": "code",
   "execution_count": 2,
   "metadata": {},
   "outputs": [],
   "source": [
    "import warnings\n",
    "warnings.filterwarnings('ignore')"
   ]
  },
  {
   "cell_type": "code",
   "execution_count": 4,
   "metadata": {},
   "outputs": [],
   "source": [
    "def lrelu(x,alpha=0.1):\n",
    "    return tf.maximum(alpha*x,x)"
   ]
  },
  {
   "cell_type": "code",
   "execution_count": 5,
   "metadata": {},
   "outputs": [],
   "source": [
    "#constants\n",
    "learning_rate = 0.1\n",
    "training_epoch = 100\n",
    "batch_size = 100"
   ]
  },
  {
   "cell_type": "markdown",
   "metadata": {},
   "source": [
    "###### 데이터 로드"
   ]
  },
  {
   "cell_type": "code",
   "execution_count": 7,
   "metadata": {},
   "outputs": [],
   "source": [
    "root_path = 'C:/Workspace/DataChallenge/img/image_train/'"
   ]
  },
  {
   "cell_type": "code",
   "execution_count": 17,
   "metadata": {},
   "outputs": [],
   "source": [
    "onlyfiles = [f for f in os.listdir(root_path) if os.path.isfile(os.path.join(root_path, f))]\n",
    "image_array = np.zeros((len(onlyfiles), 28, 28))\n",
    "\n",
    "count = 0\n",
    "for i in onlyfiles :\n",
    "    a = np.asarray(Image.open(root_path + i))\n",
    "    image_array[count] = a\n",
    "    count = count + 1"
   ]
  },
  {
   "cell_type": "code",
   "execution_count": 21,
   "metadata": {},
   "outputs": [],
   "source": [
    "image_array = image_array.reshape(-1, 28, 28, 1)"
   ]
  },
  {
   "cell_type": "code",
   "execution_count": 4,
   "metadata": {},
   "outputs": [],
   "source": [
    "x_data = pd.read_csv('../DataChallenge_/result_train/feature_asm_img.csv')[['hash'] + ['asm_img_' + str(i + 1) for i in range(28*28)]]"
   ]
  },
  {
   "cell_type": "code",
   "execution_count": 5,
   "metadata": {},
   "outputs": [],
   "source": [
    "x_data = x_data.set_index('hash')"
   ]
  },
  {
   "cell_type": "code",
   "execution_count": 6,
   "metadata": {},
   "outputs": [],
   "source": [
    "# for col in x_data:\n",
    "#     x_data[col] = (x_data[col] - x_data[col].mean()) / x_data[col].std()"
   ]
  },
  {
   "cell_type": "code",
   "execution_count": 7,
   "metadata": {},
   "outputs": [],
   "source": [
    "x_data = x_data.fillna(0)"
   ]
  },
  {
   "cell_type": "code",
   "execution_count": 8,
   "metadata": {},
   "outputs": [],
   "source": [
    "x_data = x_data.astype(float)"
   ]
  },
  {
   "cell_type": "code",
   "execution_count": 9,
   "metadata": {},
   "outputs": [],
   "source": [
    "x_data = x_data.values"
   ]
  },
  {
   "cell_type": "code",
   "execution_count": 10,
   "metadata": {},
   "outputs": [],
   "source": [
    "x_data = x_data.reshape((-1,28,28,1))"
   ]
  },
  {
   "cell_type": "code",
   "execution_count": 11,
   "metadata": {},
   "outputs": [],
   "source": [
    "X = tf.placeholder(tf.float32, [None, 28,28,1])\n",
    "Y = tf.placeholder(tf.float32, [None, 28,28,1])\n",
    "keep_prob = tf.placeholder(tf.float32)"
   ]
  },
  {
   "cell_type": "code",
   "execution_count": 12,
   "metadata": {},
   "outputs": [
    {
     "name": "stdout",
     "output_type": "stream",
     "text": [
      "(?, 14, 14, 32)\n",
      "(?, 14, 14, 32)\n",
      "(?, 7, 7, 32)\n"
     ]
    }
   ],
   "source": [
    "#Encoder\n",
    "with tf.name_scope('en-convolutions'):\n",
    "    conv1 = tf.layers.conv2d(X,filters=32,kernel_size=(3,3),strides=(1,1),padding='SAME',use_bias=True,activation=lrelu,name='conv1')\n",
    "# Now 10x10x32\n",
    " \n",
    "with tf.name_scope('en-pooling'):\n",
    "    maxpool1 = tf.layers.max_pooling2d(conv1,pool_size=(2,2),strides=(2,2),name='pool1')\n",
    "    print(maxpool1.shape)\n",
    "# Now 5x5x32\n",
    " \n",
    "with tf.name_scope('en-convolutions'):\n",
    "    conv2 = tf.layers.conv2d(maxpool1,filters=32,kernel_size=(3,3),strides=(1,1),padding='SAME',use_bias=True,activation=lrelu,name='conv2')\n",
    "    print(conv2.shape)\n",
    "# Now 5x5x32\n",
    " \n",
    "with tf.name_scope('encoding'):\n",
    "    encoded = tf.layers.max_pooling2d(conv2,pool_size=(2,2),strides=(2,2),name='encoding')\n",
    "    print(encoded.shape)\n",
    "# Now 2x2x32."
   ]
  },
  {
   "cell_type": "code",
   "execution_count": 13,
   "metadata": {},
   "outputs": [
    {
     "name": "stdout",
     "output_type": "stream",
     "text": [
      "(?, 7, 7, 32)\n"
     ]
    }
   ],
   "source": [
    "#Decoder\n",
    "with tf.name_scope('decoder'):\n",
    "    conv3 = tf.layers.conv2d(encoded,filters=32,kernel_size=(3,3),strides=(1,1),name='conv3',padding='SAME',use_bias=True,activation=lrelu)\n",
    "#Now 3x3x32 \n",
    "    print(conv3.shape)\n",
    " \n",
    "    upsample1 = tf.layers.conv2d_transpose(conv3,filters=32,kernel_size=3,padding='same',strides=2,name='upsample1')\n",
    "# Now 6x6x32\n",
    " \n",
    "    upsample2 = tf.layers.conv2d_transpose(upsample1,filters=32,kernel_size=3,padding='same',strides=2,name='upsample2')\n",
    "# Now 12x12x32\n",
    " \n",
    "    logits = tf.layers.conv2d(upsample2,filters=1,kernel_size=(3,3),strides=(1,1),name='logits',padding='SAME',use_bias=True)\n",
    "#Now 28x28x1\n",
    " \n",
    "# Pass logits through sigmoid to get denoisy image\n",
    "    decoded = tf.sigmoid(logits,name='recon')"
   ]
  },
  {
   "cell_type": "code",
   "execution_count": 15,
   "metadata": {},
   "outputs": [
    {
     "name": "stdout",
     "output_type": "stream",
     "text": [
      "Training data shape (9975, 28, 28, 1)\n",
      "Testing data shape (9975, 28, 28, 1)\n"
     ]
    },
    {
     "data": {
      "image/png": "[encoded data removed]",
      "text/plain": [
       "<Figure size 288x288 with 1 Axes>"
      ]
     },
     "metadata": {
      "needs_background": "light"
     },
     "output_type": "display_data"
    }
   ],
   "source": [
    "print('Training data shape', x_data.shape)\n",
    "print('Testing data shape', x_data.shape)\n",
    " \n",
    "nsample = 1\n",
    "rand_train_idx = np.random.randint(x_data.shape[0], size=nsample)\n",
    " \n",
    "for i in rand_train_idx:\n",
    "    curr_img = np.reshape(x_data[i, :], (28,28))\n",
    "    plt.matshow(curr_img, cmap=plt.get_cmap('gray'))\n",
    "    plt.title(\"\"+str(i)+\"th Training Image \")\n",
    "    plt.show()"
   ]
  },
  {
   "cell_type": "code",
   "execution_count": 16,
   "metadata": {
    "scrolled": false
   },
   "outputs": [],
   "source": [
    "#cost function\n",
    "cost = tf.square(Y - logits)\n",
    "cost = tf.reduce_mean(cost)"
   ]
  },
  {
   "cell_type": "code",
   "execution_count": 17,
   "metadata": {},
   "outputs": [],
   "source": [
    "train = tf.train.AdadeltaOptimizer(learning_rate).minimize(cost)"
   ]
  },
  {
   "cell_type": "code",
   "execution_count": 19,
   "metadata": {
    "scrolled": true
   },
   "outputs": [
    {
     "name": "stdout",
     "output_type": "stream",
     "text": [
      "[epoch : 0]  cost 2189.849094238282\n",
      "[epoch : 1]  cost 782.291202392578\n",
      "[epoch : 2]  cost 564.245849304199\n",
      "[epoch : 3]  cost 375.4323818969726\n",
      "[epoch : 4]  cost 281.86352264404303\n",
      "[epoch : 5]  cost 227.11497711181636\n",
      "[epoch : 6]  cost 192.886762084961\n",
      "[epoch : 7]  cost 167.20990539550777\n",
      "[epoch : 8]  cost 149.6274542236328\n",
      "[epoch : 9]  cost 135.74511184692383\n",
      "[epoch : 10]  cost 125.03015167236329\n",
      "[epoch : 11]  cost 116.88793792724609\n",
      "[epoch : 12]  cost 110.04764381408692\n",
      "[epoch : 13]  cost 104.4400253295898\n",
      "[epoch : 14]  cost 99.8464043426514\n",
      "[epoch : 15]  cost 95.79859649658205\n",
      "[epoch : 16]  cost 92.09034286499029\n",
      "[epoch : 17]  cost 89.24765937805176\n",
      "[epoch : 18]  cost 86.99378711700437\n",
      "[epoch : 19]  cost 84.22846050262454\n",
      "[epoch : 20]  cost 82.4196216964722\n",
      "[epoch : 21]  cost 80.86054058074944\n",
      "[epoch : 22]  cost 77.3874263763428\n",
      "[epoch : 23]  cost 75.95737564086915\n",
      "[epoch : 24]  cost 74.68870761871338\n",
      "[epoch : 25]  cost 71.6529242706299\n",
      "[epoch : 26]  cost 71.28551460266114\n",
      "[epoch : 27]  cost 70.35487937927245\n",
      "[epoch : 28]  cost 67.71504997253417\n",
      "[epoch : 29]  cost 66.68545303344725\n",
      "[epoch : 30]  cost 65.92346389770509\n",
      "[epoch : 31]  cost 65.16446727752685\n",
      "[epoch : 32]  cost 62.571113777160626\n",
      "[epoch : 33]  cost 62.492226142883304\n",
      "[epoch : 34]  cost 61.61205871582031\n",
      "[epoch : 35]  cost 60.889209976196284\n",
      "[epoch : 36]  cost 58.60181777954099\n",
      "[epoch : 37]  cost 58.573895759582484\n",
      "[epoch : 38]  cost 57.848173637390175\n",
      "[epoch : 39]  cost 56.998885231018036\n",
      "[epoch : 40]  cost 55.85850345611573\n",
      "[epoch : 41]  cost 55.05417739868165\n",
      "[epoch : 42]  cost 54.31423404693604\n",
      "[epoch : 43]  cost 53.03804332733154\n",
      "[epoch : 44]  cost 52.90767429351808\n",
      "[epoch : 45]  cost 52.49509170532225\n",
      "[epoch : 46]  cost 51.831818084716794\n",
      "[epoch : 47]  cost 50.42741397857668\n",
      "[epoch : 48]  cost 50.14346031188963\n",
      "[epoch : 49]  cost 49.53999713897706\n",
      "[epoch : 50]  cost 48.668619194030754\n",
      "[epoch : 51]  cost 48.22448566436766\n",
      "[epoch : 52]  cost 47.714672660827624\n",
      "[epoch : 53]  cost 47.44095134735107\n",
      "[epoch : 54]  cost 46.114643516540525\n",
      "[epoch : 55]  cost 45.91038951873781\n",
      "[epoch : 56]  cost 45.59545291900635\n",
      "[epoch : 57]  cost 44.68293479919433\n",
      "[epoch : 58]  cost 44.907982635498065\n",
      "[epoch : 59]  cost 44.516872940063465\n",
      "[epoch : 60]  cost 43.875091629028326\n",
      "[epoch : 61]  cost 43.10523590087891\n",
      "[epoch : 62]  cost 42.75986858367919\n",
      "[epoch : 63]  cost 42.78861213684083\n",
      "[epoch : 64]  cost 42.248088989257816\n",
      "[epoch : 65]  cost 41.82413845062256\n",
      "[epoch : 66]  cost 41.74378162384033\n",
      "[epoch : 67]  cost 41.169265289306644\n",
      "[epoch : 68]  cost 40.90354431152343\n",
      "[epoch : 69]  cost 40.65952453613279\n",
      "[epoch : 70]  cost 39.858484039306646\n",
      "[epoch : 71]  cost 39.46860153198242\n",
      "[epoch : 72]  cost 39.287477302551295\n",
      "[epoch : 73]  cost 39.146413307189945\n",
      "[epoch : 74]  cost 38.173723793029794\n",
      "[epoch : 75]  cost 38.06309135437012\n",
      "[epoch : 76]  cost 38.451370506286594\n",
      "[epoch : 77]  cost 37.765070915222175\n",
      "[epoch : 78]  cost 38.171110153198256\n",
      "[epoch : 79]  cost 37.65808822631836\n",
      "[epoch : 80]  cost 37.236907043457045\n",
      "[epoch : 81]  cost 37.005002098083494\n",
      "[epoch : 82]  cost 36.839705505371086\n",
      "[epoch : 83]  cost 36.68822109222411\n",
      "[epoch : 84]  cost 36.2842349243164\n",
      "[epoch : 85]  cost 36.01568462371826\n",
      "[epoch : 86]  cost 35.406854629516594\n",
      "[epoch : 87]  cost 35.3886759185791\n",
      "[epoch : 88]  cost 35.26345298767088\n",
      "[epoch : 89]  cost 35.161339454650886\n",
      "[epoch : 90]  cost 34.82628894805908\n",
      "[epoch : 91]  cost 34.894724483489995\n",
      "[epoch : 92]  cost 34.15136108398437\n",
      "[epoch : 93]  cost 33.99160606384278\n",
      "[epoch : 94]  cost 34.27734302520753\n",
      "[epoch : 95]  cost 33.82572114944459\n",
      "[epoch : 96]  cost 33.60914371490478\n",
      "[epoch : 97]  cost 33.82238862991333\n",
      "[epoch : 98]  cost 33.89154266357423\n",
      "[epoch : 99]  cost 33.26027170181275\n"
     ]
    }
   ],
   "source": [
    "cost_list = []\n",
    "sess = tf.Session()\n",
    "sess.run(tf.global_variables_initializer())\n",
    "\n",
    "for epoch in range(training_epoch):\n",
    "    avg_cost = 0\n",
    "    total_batch = int(10000 / batch_size)\n",
    "\n",
    "    for i in range(total_batch):\n",
    "        try:\n",
    "            batch_x = x_data[i * batch_size: (i+1) * batch_size]\n",
    "            batch_y = x_data[i * batch_size: (i+1) * batch_size]\n",
    "        except:\n",
    "            batch_x = x_data[i * batch_size:]\n",
    "            batch_y = x_data[i * batch_size:]\n",
    "\n",
    "        cost_val, _ = sess.run([cost, train], feed_dict={X:batch_x,Y:batch_y, keep_prob:0.7})\n",
    "        avg_cost += cost_val/total_batch\n",
    "\n",
    "\n",
    "#         print(sess.run([logits], feed_dict={X:x_data, Y:x_data}))\n",
    "    print(\"[epoch : {}]  cost {}\".format(epoch, avg_cost))\n",
    "    cost_list.append(avg_cost)"
   ]
  },
  {
   "cell_type": "code",
   "execution_count": 416,
   "metadata": {},
   "outputs": [],
   "source": [
    "data_train = pd.read_csv('../DataChallenge_/data_train.csv').sort_values('hash')\n",
    "\n",
    "data_asm_img = pd.read_csv('../DataChallenge_/result_train/feature_asm_img.csv')[['hash'] + ['asm_img_' + str(i + 1) for i in range(28*28)]].sort_values('hash')\n",
    "label_train = data_asm_img['hash'].to_frame()\n",
    "data_asm_img = data_asm_img.drop(['hash'], axis = 1)\n",
    "\n",
    "t = sess.run([encoded], feed_dict={X:data_asm_img.values.reshape(-1, 28, 28, 1)})\n",
    "\n",
    "t = np.squeeze(t).reshape((-1, 7*7*32))\n",
    "\n",
    "for i in range(1568):\n",
    "    label_train['ae_' + str(i)] = t[:, i]\n",
    "\n",
    "data_train = pd.merge(data_train, label_train, on='hash', how='left').fillna(-99)"
   ]
  },
  {
   "cell_type": "code",
   "execution_count": 417,
   "metadata": {},
   "outputs": [],
   "source": [
    "data_yesun = pd.read_csv('../DataChallenge_/data_yesun.csv').sort_values('hash')\n",
    "\n",
    "data_asm_img = pd.read_csv('../DataChallenge_/result_yesun/feature_asm_img.csv')[['hash'] + ['asm_img_' + str(i + 1) for i in range(28*28)]].sort_values('hash')\n",
    "label_yesun = data_asm_img['hash'].to_frame()\n",
    "data_asm_img = data_asm_img.drop(['hash'], axis = 1)\n",
    "\n",
    "t = sess.run([encoded], feed_dict={X:data_asm_img.values.reshape(-1, 28, 28, 1)})\n",
    "\n",
    "t = np.squeeze(t).reshape((-1, 7*7*32))\n",
    "\n",
    "for i in range(1568):\n",
    "    label_yesun['ae_' + str(i)] = t[:, i]\n",
    "\n",
    "data_yesun = pd.merge(data_yesun, label_yesun, on='hash', how='left').fillna(-99)"
   ]
  },
  {
   "cell_type": "code",
   "execution_count": 420,
   "metadata": {},
   "outputs": [],
   "source": [
    "label_train.set_index('hash').to_csv('ae_train.csv')"
   ]
  },
  {
   "cell_type": "code",
   "execution_count": 421,
   "metadata": {},
   "outputs": [],
   "source": [
    "label_yesun.set_index('hash').to_csv('ae_yesun.csv')"
   ]
  },
  {
   "cell_type": "code",
   "execution_count": 198,
   "metadata": {},
   "outputs": [],
   "source": [
    "y_data_train = pd.read_excel('../DataChallenge_/result_train/label.xlsx').sort_values(by='hash')\n",
    "label_train = y_data_train['hash'].to_frame()\n",
    "is_mal_train = y_data_train['is_mal'].to_frame()\n",
    "\n",
    "y_data_yesun = pd.read_excel('../DataChallenge_/result_yesun/label.xlsx').sort_values(by='hash')\n",
    "label_yesun = y_data_yesun['hash'].to_frame()\n",
    "is_mal_yesun = y_data_yesun['is_mal'].to_frame()"
   ]
  },
  {
   "cell_type": "code",
   "execution_count": 199,
   "metadata": {},
   "outputs": [],
   "source": [
    "nineth = data_train.quantile([0.9])"
   ]
  },
  {
   "cell_type": "code",
   "execution_count": 193,
   "metadata": {
    "scrolled": true
   },
   "outputs": [],
   "source": [
    "data_train.loc[data_train['AddressOfEntryPoint'] > nineth['AddressOfEntryPoint'].values[0], 'AddressOfEntryPoint'] = nineth['AddressOfEntryPoint'].values[0]"
   ]
  },
  {
   "cell_type": "code",
   "execution_count": 188,
   "metadata": {
    "scrolled": true
   },
   "outputs": [],
   "source": [
    "# data_train.loc[data_train[data_train['AddressOfEntryPoint'] < nineth['AddressOfEntryPoint'].values[0]].index]['AddressOfEntryPoint'] = -99"
   ]
  },
  {
   "cell_type": "code",
   "execution_count": 200,
   "metadata": {},
   "outputs": [],
   "source": [
    "for col in data_train:\n",
    "    if col == 'hash':\n",
    "        continue\n",
    "    data_train.loc[data_train[col] > nineth[col].values[0], col] = nineth[col].values[0]"
   ]
  },
  {
   "cell_type": "code",
   "execution_count": 203,
   "metadata": {},
   "outputs": [],
   "source": [
    "nineth = data_yesun.quantile([0.9])\n",
    "# data_train.loc[data_train[data_train['AddressOfEntryPoint'] < nineth['AddressOfEntryPoint'].values[0]].index]['AddressOfEntryPoint'] = -99\n",
    "\n",
    "for col in data_train:\n",
    "    if col == 'hash':\n",
    "        continue\n",
    "    data_yesun.loc[data_yesun[col] > nineth[col].values[0], col] = nineth[col].values[0]"
   ]
  },
  {
   "cell_type": "code",
   "execution_count": 201,
   "metadata": {},
   "outputs": [],
   "source": [
    "from sklearn.ensemble import RandomForestClassifier"
   ]
  },
  {
   "cell_type": "code",
   "execution_count": 355,
   "metadata": {
    "scrolled": true
   },
   "outputs": [
    {
     "data": {
      "text/plain": [
       "RandomForestClassifier(bootstrap=True, class_weight=None, criterion='gini',\n",
       "            max_depth=16, max_features='auto', max_leaf_nodes=None,\n",
       "            min_impurity_decrease=0.0, min_impurity_split=None,\n",
       "            min_samples_leaf=1, min_samples_split=2,\n",
       "            min_weight_fraction_leaf=0.0, n_estimators=200, n_jobs=-1,\n",
       "            oob_score=False, random_state=1, verbose=0, warm_start=False)"
      ]
     },
     "execution_count": 355,
     "metadata": {},
     "output_type": "execute_result"
    }
   ],
   "source": [
    "rf = RandomForestClassifier(n_estimators=200, random_state=1, n_jobs=-1, max_depth=16, bootstrap=True)\n",
    "rf.fit(data_train.drop(['hash'], axis = 1), is_mal_train)"
   ]
  },
  {
   "cell_type": "code",
   "execution_count": 356,
   "metadata": {},
   "outputs": [
    {
     "data": {
      "text/plain": [
       "0.9897"
      ]
     },
     "execution_count": 356,
     "metadata": {},
     "output_type": "execute_result"
    }
   ],
   "source": [
    "rf.score(data_train.drop(['hash'], axis = 1), is_mal_train)"
   ]
  },
  {
   "cell_type": "code",
   "execution_count": 357,
   "metadata": {
    "scrolled": true
   },
   "outputs": [
    {
     "data": {
      "text/plain": [
       "0.9246"
      ]
     },
     "execution_count": 357,
     "metadata": {},
     "output_type": "execute_result"
    }
   ],
   "source": [
    "rf.score(data_yesun.drop(['hash'], axis = 1), is_mal_yesun)"
   ]
  },
  {
   "cell_type": "code",
   "execution_count": 279,
   "metadata": {},
   "outputs": [],
   "source": [
    "extree =  ExtraTreesClassifier(bootstrap=True, class_weight=None, criterion='gini',\n",
    "           max_depth=70, max_features='auto', max_leaf_nodes=None,\n",
    "           min_impurity_decrease=0.0, min_impurity_split=None,\n",
    "           min_samples_leaf=1, min_samples_split=2,\n",
    "           min_weight_fraction_leaf=0.0, n_estimators=200, n_jobs=None,\n",
    "           oob_score=False, random_state=None, verbose=0, warm_start=False)"
   ]
  },
  {
   "cell_type": "code",
   "execution_count": 280,
   "metadata": {},
   "outputs": [
    {
     "data": {
      "text/plain": [
       "ExtraTreesClassifier(bootstrap=True, class_weight=None, criterion='gini',\n",
       "           max_depth=70, max_features='auto', max_leaf_nodes=None,\n",
       "           min_impurity_decrease=0.0, min_impurity_split=None,\n",
       "           min_samples_leaf=1, min_samples_split=2,\n",
       "           min_weight_fraction_leaf=0.0, n_estimators=200, n_jobs=None,\n",
       "           oob_score=False, random_state=None, verbose=0, warm_start=False)"
      ]
     },
     "execution_count": 280,
     "metadata": {},
     "output_type": "execute_result"
    }
   ],
   "source": [
    "extree.fit(data_train.drop(['hash'], axis = 1), is_mal_train)"
   ]
  },
  {
   "cell_type": "code",
   "execution_count": 281,
   "metadata": {},
   "outputs": [
    {
     "data": {
      "text/plain": [
       "1.0"
      ]
     },
     "execution_count": 281,
     "metadata": {},
     "output_type": "execute_result"
    }
   ],
   "source": [
    "extree.score(data_train.drop(['hash'], axis = 1), is_mal_train)"
   ]
  },
  {
   "cell_type": "code",
   "execution_count": 282,
   "metadata": {},
   "outputs": [
    {
     "data": {
      "text/plain": [
       "0.9235"
      ]
     },
     "execution_count": 282,
     "metadata": {},
     "output_type": "execute_result"
    }
   ],
   "source": [
    "extree.score(data_yesun.drop(['hash'], axis = 1), is_mal_yesun)"
   ]
  },
  {
   "cell_type": "code",
   "execution_count": 293,
   "metadata": {},
   "outputs": [],
   "source": [
    "catboost = cb.CatBoostClassifier(depth=4, iterations=600, learning_rate=0.15, l2_leaf_reg=1)"
   ]
  },
  {
   "cell_type": "code",
   "execution_count": 294,
   "metadata": {
    "scrolled": true
   },
   "outputs": [
    {
     "name": "stdout",
     "output_type": "stream",
     "text": [
      "0:\tlearn: 0.6022512\ttotal: 190ms\tremaining: 1m 53s\n",
      "1:\tlearn: 0.5243768\ttotal: 326ms\tremaining: 1m 37s\n",
      "2:\tlearn: 0.4791035\ttotal: 473ms\tremaining: 1m 34s\n",
      "3:\tlearn: 0.4366683\ttotal: 624ms\tremaining: 1m 33s\n",
      "4:\tlearn: 0.4131440\ttotal: 774ms\tremaining: 1m 32s\n",
      "5:\tlearn: 0.3947119\ttotal: 914ms\tremaining: 1m 30s\n",
      "6:\tlearn: 0.3759339\ttotal: 1.07s\tremaining: 1m 30s\n",
      "7:\tlearn: 0.3619842\ttotal: 1.21s\tremaining: 1m 29s\n",
      "8:\tlearn: 0.3521103\ttotal: 1.35s\tremaining: 1m 28s\n",
      "9:\tlearn: 0.3401209\ttotal: 1.49s\tremaining: 1m 28s\n",
      "10:\tlearn: 0.3301338\ttotal: 1.64s\tremaining: 1m 27s\n",
      "11:\tlearn: 0.3223377\ttotal: 1.77s\tremaining: 1m 26s\n",
      "12:\tlearn: 0.3148808\ttotal: 1.93s\tremaining: 1m 27s\n",
      "13:\tlearn: 0.3081141\ttotal: 2.08s\tremaining: 1m 27s\n",
      "14:\tlearn: 0.3023762\ttotal: 2.23s\tremaining: 1m 26s\n",
      "15:\tlearn: 0.2964141\ttotal: 2.37s\tremaining: 1m 26s\n",
      "16:\tlearn: 0.2889295\ttotal: 2.52s\tremaining: 1m 26s\n",
      "17:\tlearn: 0.2838311\ttotal: 2.66s\tremaining: 1m 26s\n",
      "18:\tlearn: 0.2796823\ttotal: 2.82s\tremaining: 1m 26s\n",
      "19:\tlearn: 0.2757285\ttotal: 2.96s\tremaining: 1m 25s\n",
      "20:\tlearn: 0.2730788\ttotal: 3.12s\tremaining: 1m 26s\n",
      "21:\tlearn: 0.2696145\ttotal: 3.27s\tremaining: 1m 25s\n",
      "22:\tlearn: 0.2652025\ttotal: 3.43s\tremaining: 1m 26s\n",
      "23:\tlearn: 0.2626768\ttotal: 3.58s\tremaining: 1m 25s\n",
      "24:\tlearn: 0.2580204\ttotal: 3.74s\tremaining: 1m 25s\n",
      "25:\tlearn: 0.2544196\ttotal: 3.89s\tremaining: 1m 25s\n",
      "26:\tlearn: 0.2516605\ttotal: 4.04s\tremaining: 1m 25s\n",
      "27:\tlearn: 0.2481795\ttotal: 4.19s\tremaining: 1m 25s\n",
      "28:\tlearn: 0.2448120\ttotal: 4.35s\tremaining: 1m 25s\n",
      "29:\tlearn: 0.2435582\ttotal: 4.5s\tremaining: 1m 25s\n",
      "30:\tlearn: 0.2416927\ttotal: 4.65s\tremaining: 1m 25s\n",
      "31:\tlearn: 0.2411885\ttotal: 4.79s\tremaining: 1m 25s\n",
      "32:\tlearn: 0.2394363\ttotal: 4.94s\tremaining: 1m 24s\n",
      "33:\tlearn: 0.2367761\ttotal: 5.08s\tremaining: 1m 24s\n",
      "34:\tlearn: 0.2355515\ttotal: 5.22s\tremaining: 1m 24s\n",
      "35:\tlearn: 0.2343583\ttotal: 5.37s\tremaining: 1m 24s\n",
      "36:\tlearn: 0.2331385\ttotal: 5.51s\tremaining: 1m 23s\n",
      "37:\tlearn: 0.2302356\ttotal: 5.66s\tremaining: 1m 23s\n",
      "38:\tlearn: 0.2273423\ttotal: 5.8s\tremaining: 1m 23s\n",
      "39:\tlearn: 0.2254170\ttotal: 5.95s\tremaining: 1m 23s\n",
      "40:\tlearn: 0.2242588\ttotal: 6.11s\tremaining: 1m 23s\n",
      "41:\tlearn: 0.2226271\ttotal: 6.25s\tremaining: 1m 22s\n",
      "42:\tlearn: 0.2219076\ttotal: 6.39s\tremaining: 1m 22s\n",
      "43:\tlearn: 0.2205442\ttotal: 6.54s\tremaining: 1m 22s\n",
      "44:\tlearn: 0.2190731\ttotal: 6.69s\tremaining: 1m 22s\n",
      "45:\tlearn: 0.2175197\ttotal: 6.84s\tremaining: 1m 22s\n",
      "46:\tlearn: 0.2162654\ttotal: 6.99s\tremaining: 1m 22s\n",
      "47:\tlearn: 0.2137560\ttotal: 7.14s\tremaining: 1m 22s\n",
      "48:\tlearn: 0.2111000\ttotal: 7.28s\tremaining: 1m 21s\n",
      "49:\tlearn: 0.2106676\ttotal: 7.43s\tremaining: 1m 21s\n",
      "50:\tlearn: 0.2092981\ttotal: 7.58s\tremaining: 1m 21s\n",
      "51:\tlearn: 0.2078902\ttotal: 7.72s\tremaining: 1m 21s\n",
      "52:\tlearn: 0.2069766\ttotal: 7.87s\tremaining: 1m 21s\n",
      "53:\tlearn: 0.2057394\ttotal: 8.02s\tremaining: 1m 21s\n",
      "54:\tlearn: 0.2051712\ttotal: 8.16s\tremaining: 1m 20s\n",
      "55:\tlearn: 0.2037433\ttotal: 8.31s\tremaining: 1m 20s\n",
      "56:\tlearn: 0.2016418\ttotal: 8.46s\tremaining: 1m 20s\n",
      "57:\tlearn: 0.2010594\ttotal: 8.61s\tremaining: 1m 20s\n",
      "58:\tlearn: 0.2002157\ttotal: 8.77s\tremaining: 1m 20s\n",
      "59:\tlearn: 0.1986058\ttotal: 8.92s\tremaining: 1m 20s\n",
      "60:\tlearn: 0.1980785\ttotal: 9.06s\tremaining: 1m 20s\n",
      "61:\tlearn: 0.1965728\ttotal: 9.2s\tremaining: 1m 19s\n",
      "62:\tlearn: 0.1961996\ttotal: 9.36s\tremaining: 1m 19s\n",
      "63:\tlearn: 0.1955870\ttotal: 9.51s\tremaining: 1m 19s\n",
      "64:\tlearn: 0.1951266\ttotal: 9.65s\tremaining: 1m 19s\n",
      "65:\tlearn: 0.1937622\ttotal: 9.79s\tremaining: 1m 19s\n",
      "66:\tlearn: 0.1920704\ttotal: 9.94s\tremaining: 1m 19s\n",
      "67:\tlearn: 0.1917505\ttotal: 10.1s\tremaining: 1m 18s\n",
      "68:\tlearn: 0.1902441\ttotal: 10.2s\tremaining: 1m 18s\n",
      "69:\tlearn: 0.1884836\ttotal: 10.4s\tremaining: 1m 18s\n",
      "70:\tlearn: 0.1877447\ttotal: 10.5s\tremaining: 1m 18s\n",
      "71:\tlearn: 0.1874084\ttotal: 10.7s\tremaining: 1m 18s\n",
      "72:\tlearn: 0.1860497\ttotal: 10.8s\tremaining: 1m 18s\n",
      "73:\tlearn: 0.1849841\ttotal: 11s\tremaining: 1m 17s\n",
      "74:\tlearn: 0.1839997\ttotal: 11.1s\tremaining: 1m 17s\n",
      "75:\tlearn: 0.1833303\ttotal: 11.3s\tremaining: 1m 17s\n",
      "76:\tlearn: 0.1821154\ttotal: 11.4s\tremaining: 1m 17s\n",
      "77:\tlearn: 0.1815810\ttotal: 11.5s\tremaining: 1m 17s\n",
      "78:\tlearn: 0.1797376\ttotal: 11.7s\tremaining: 1m 17s\n",
      "79:\tlearn: 0.1790904\ttotal: 11.8s\tremaining: 1m 16s\n",
      "80:\tlearn: 0.1776133\ttotal: 12s\tremaining: 1m 16s\n",
      "81:\tlearn: 0.1763578\ttotal: 12.1s\tremaining: 1m 16s\n",
      "82:\tlearn: 0.1757673\ttotal: 12.3s\tremaining: 1m 16s\n",
      "83:\tlearn: 0.1752912\ttotal: 12.4s\tremaining: 1m 16s\n",
      "84:\tlearn: 0.1738329\ttotal: 12.6s\tremaining: 1m 16s\n",
      "85:\tlearn: 0.1733269\ttotal: 12.8s\tremaining: 1m 16s\n",
      "86:\tlearn: 0.1731308\ttotal: 13s\tremaining: 1m 16s\n",
      "87:\tlearn: 0.1710768\ttotal: 13.1s\tremaining: 1m 16s\n",
      "88:\tlearn: 0.1703853\ttotal: 13.3s\tremaining: 1m 16s\n",
      "89:\tlearn: 0.1697438\ttotal: 13.5s\tremaining: 1m 16s\n",
      "90:\tlearn: 0.1681982\ttotal: 13.6s\tremaining: 1m 16s\n",
      "91:\tlearn: 0.1679206\ttotal: 13.8s\tremaining: 1m 16s\n",
      "92:\tlearn: 0.1675613\ttotal: 14s\tremaining: 1m 16s\n",
      "93:\tlearn: 0.1669848\ttotal: 14.1s\tremaining: 1m 16s\n",
      "94:\tlearn: 0.1661137\ttotal: 14.3s\tremaining: 1m 16s\n",
      "95:\tlearn: 0.1659034\ttotal: 14.5s\tremaining: 1m 16s\n",
      "96:\tlearn: 0.1647500\ttotal: 14.7s\tremaining: 1m 16s\n",
      "97:\tlearn: 0.1644715\ttotal: 14.8s\tremaining: 1m 16s\n",
      "98:\tlearn: 0.1640351\ttotal: 15s\tremaining: 1m 16s\n",
      "99:\tlearn: 0.1633184\ttotal: 15.2s\tremaining: 1m 16s\n",
      "100:\tlearn: 0.1627005\ttotal: 15.4s\tremaining: 1m 16s\n",
      "101:\tlearn: 0.1617023\ttotal: 15.6s\tremaining: 1m 16s\n",
      "102:\tlearn: 0.1612755\ttotal: 15.8s\tremaining: 1m 16s\n",
      "103:\tlearn: 0.1608589\ttotal: 15.9s\tremaining: 1m 16s\n",
      "104:\tlearn: 0.1604833\ttotal: 16.1s\tremaining: 1m 16s\n",
      "105:\tlearn: 0.1595016\ttotal: 16.3s\tremaining: 1m 16s\n",
      "106:\tlearn: 0.1590451\ttotal: 16.5s\tremaining: 1m 16s\n",
      "107:\tlearn: 0.1587316\ttotal: 16.7s\tremaining: 1m 16s\n",
      "108:\tlearn: 0.1580994\ttotal: 16.9s\tremaining: 1m 16s\n",
      "109:\tlearn: 0.1571613\ttotal: 17.1s\tremaining: 1m 16s\n",
      "110:\tlearn: 0.1562407\ttotal: 17.2s\tremaining: 1m 15s\n",
      "111:\tlearn: 0.1559049\ttotal: 17.4s\tremaining: 1m 15s\n",
      "112:\tlearn: 0.1556645\ttotal: 17.6s\tremaining: 1m 15s\n",
      "113:\tlearn: 0.1551962\ttotal: 17.7s\tremaining: 1m 15s\n",
      "114:\tlearn: 0.1545453\ttotal: 17.9s\tremaining: 1m 15s\n",
      "115:\tlearn: 0.1544867\ttotal: 18.1s\tremaining: 1m 15s\n",
      "116:\tlearn: 0.1540965\ttotal: 18.2s\tremaining: 1m 15s\n",
      "117:\tlearn: 0.1535486\ttotal: 18.4s\tremaining: 1m 15s\n",
      "118:\tlearn: 0.1532998\ttotal: 18.6s\tremaining: 1m 15s\n",
      "119:\tlearn: 0.1529531\ttotal: 18.7s\tremaining: 1m 14s\n",
      "120:\tlearn: 0.1526655\ttotal: 18.9s\tremaining: 1m 14s\n",
      "121:\tlearn: 0.1523982\ttotal: 19.1s\tremaining: 1m 14s\n",
      "122:\tlearn: 0.1522599\ttotal: 19.2s\tremaining: 1m 14s\n",
      "123:\tlearn: 0.1518848\ttotal: 19.4s\tremaining: 1m 14s\n",
      "124:\tlearn: 0.1515261\ttotal: 19.6s\tremaining: 1m 14s\n",
      "125:\tlearn: 0.1512453\ttotal: 19.7s\tremaining: 1m 14s\n",
      "126:\tlearn: 0.1510648\ttotal: 19.9s\tremaining: 1m 14s\n",
      "127:\tlearn: 0.1507801\ttotal: 20.1s\tremaining: 1m 13s\n",
      "128:\tlearn: 0.1497954\ttotal: 20.2s\tremaining: 1m 13s\n",
      "129:\tlearn: 0.1494659\ttotal: 20.4s\tremaining: 1m 13s\n",
      "130:\tlearn: 0.1489571\ttotal: 20.6s\tremaining: 1m 13s\n",
      "131:\tlearn: 0.1487558\ttotal: 20.7s\tremaining: 1m 13s\n",
      "132:\tlearn: 0.1485132\ttotal: 20.9s\tremaining: 1m 13s\n",
      "133:\tlearn: 0.1484156\ttotal: 21.1s\tremaining: 1m 13s\n",
      "134:\tlearn: 0.1481062\ttotal: 21.2s\tremaining: 1m 13s\n",
      "135:\tlearn: 0.1478100\ttotal: 21.4s\tremaining: 1m 12s\n",
      "136:\tlearn: 0.1475167\ttotal: 21.6s\tremaining: 1m 12s\n",
      "137:\tlearn: 0.1465238\ttotal: 21.7s\tremaining: 1m 12s\n",
      "138:\tlearn: 0.1459012\ttotal: 21.9s\tremaining: 1m 12s\n",
      "139:\tlearn: 0.1455095\ttotal: 22.1s\tremaining: 1m 12s\n",
      "140:\tlearn: 0.1452164\ttotal: 22.2s\tremaining: 1m 12s\n",
      "141:\tlearn: 0.1445853\ttotal: 22.4s\tremaining: 1m 12s\n",
      "142:\tlearn: 0.1439054\ttotal: 22.6s\tremaining: 1m 12s\n",
      "143:\tlearn: 0.1435910\ttotal: 22.7s\tremaining: 1m 11s\n",
      "144:\tlearn: 0.1432424\ttotal: 22.9s\tremaining: 1m 11s\n",
      "145:\tlearn: 0.1430931\ttotal: 23.1s\tremaining: 1m 11s\n",
      "146:\tlearn: 0.1426579\ttotal: 23.2s\tremaining: 1m 11s\n",
      "147:\tlearn: 0.1423255\ttotal: 23.4s\tremaining: 1m 11s\n",
      "148:\tlearn: 0.1422292\ttotal: 23.6s\tremaining: 1m 11s\n",
      "149:\tlearn: 0.1419954\ttotal: 23.7s\tremaining: 1m 11s\n",
      "150:\tlearn: 0.1418216\ttotal: 23.9s\tremaining: 1m 10s\n",
      "151:\tlearn: 0.1414616\ttotal: 24s\tremaining: 1m 10s\n",
      "152:\tlearn: 0.1411273\ttotal: 24.2s\tremaining: 1m 10s\n",
      "153:\tlearn: 0.1409991\ttotal: 24.3s\tremaining: 1m 10s\n",
      "154:\tlearn: 0.1408443\ttotal: 24.5s\tremaining: 1m 10s\n",
      "155:\tlearn: 0.1402705\ttotal: 24.7s\tremaining: 1m 10s\n",
      "156:\tlearn: 0.1400685\ttotal: 24.9s\tremaining: 1m 10s\n"
     ]
    },
    {
     "name": "stdout",
     "output_type": "stream",
     "text": [
      "157:\tlearn: 0.1399717\ttotal: 25s\tremaining: 1m 9s\n",
      "158:\tlearn: 0.1397442\ttotal: 25.2s\tremaining: 1m 9s\n",
      "159:\tlearn: 0.1396538\ttotal: 25.3s\tremaining: 1m 9s\n",
      "160:\tlearn: 0.1393926\ttotal: 25.5s\tremaining: 1m 9s\n",
      "161:\tlearn: 0.1391507\ttotal: 25.6s\tremaining: 1m 9s\n",
      "162:\tlearn: 0.1387844\ttotal: 25.8s\tremaining: 1m 9s\n",
      "163:\tlearn: 0.1385476\ttotal: 26s\tremaining: 1m 8s\n",
      "164:\tlearn: 0.1379563\ttotal: 26.1s\tremaining: 1m 8s\n",
      "165:\tlearn: 0.1372321\ttotal: 26.3s\tremaining: 1m 8s\n",
      "166:\tlearn: 0.1370896\ttotal: 26.5s\tremaining: 1m 8s\n",
      "167:\tlearn: 0.1369004\ttotal: 26.6s\tremaining: 1m 8s\n",
      "168:\tlearn: 0.1366172\ttotal: 26.8s\tremaining: 1m 8s\n",
      "169:\tlearn: 0.1363410\ttotal: 26.9s\tremaining: 1m 8s\n",
      "170:\tlearn: 0.1362566\ttotal: 27.1s\tremaining: 1m 7s\n",
      "171:\tlearn: 0.1359699\ttotal: 27.3s\tremaining: 1m 7s\n",
      "172:\tlearn: 0.1355841\ttotal: 27.4s\tremaining: 1m 7s\n",
      "173:\tlearn: 0.1353119\ttotal: 27.6s\tremaining: 1m 7s\n",
      "174:\tlearn: 0.1349719\ttotal: 27.7s\tremaining: 1m 7s\n",
      "175:\tlearn: 0.1349059\ttotal: 27.9s\tremaining: 1m 7s\n",
      "176:\tlearn: 0.1346505\ttotal: 28s\tremaining: 1m 7s\n",
      "177:\tlearn: 0.1346029\ttotal: 28.2s\tremaining: 1m 6s\n",
      "178:\tlearn: 0.1343369\ttotal: 28.4s\tremaining: 1m 6s\n",
      "179:\tlearn: 0.1337431\ttotal: 28.5s\tremaining: 1m 6s\n",
      "180:\tlearn: 0.1335046\ttotal: 28.7s\tremaining: 1m 6s\n",
      "181:\tlearn: 0.1331060\ttotal: 28.9s\tremaining: 1m 6s\n",
      "182:\tlearn: 0.1329722\ttotal: 29s\tremaining: 1m 6s\n",
      "183:\tlearn: 0.1328750\ttotal: 29.2s\tremaining: 1m 5s\n",
      "184:\tlearn: 0.1325684\ttotal: 29.4s\tremaining: 1m 5s\n",
      "185:\tlearn: 0.1321618\ttotal: 29.5s\tremaining: 1m 5s\n",
      "186:\tlearn: 0.1320516\ttotal: 29.7s\tremaining: 1m 5s\n",
      "187:\tlearn: 0.1316683\ttotal: 29.8s\tremaining: 1m 5s\n",
      "188:\tlearn: 0.1314426\ttotal: 30s\tremaining: 1m 5s\n",
      "189:\tlearn: 0.1312154\ttotal: 30.2s\tremaining: 1m 5s\n",
      "190:\tlearn: 0.1308092\ttotal: 30.4s\tremaining: 1m 5s\n",
      "191:\tlearn: 0.1305694\ttotal: 30.5s\tremaining: 1m 4s\n",
      "192:\tlearn: 0.1301856\ttotal: 30.7s\tremaining: 1m 4s\n",
      "193:\tlearn: 0.1299378\ttotal: 30.8s\tremaining: 1m 4s\n",
      "194:\tlearn: 0.1298063\ttotal: 31s\tremaining: 1m 4s\n",
      "195:\tlearn: 0.1292380\ttotal: 31.2s\tremaining: 1m 4s\n",
      "196:\tlearn: 0.1290026\ttotal: 31.3s\tremaining: 1m 4s\n",
      "197:\tlearn: 0.1288075\ttotal: 31.5s\tremaining: 1m 3s\n",
      "198:\tlearn: 0.1285617\ttotal: 31.7s\tremaining: 1m 3s\n",
      "199:\tlearn: 0.1283539\ttotal: 31.8s\tremaining: 1m 3s\n",
      "200:\tlearn: 0.1276660\ttotal: 32s\tremaining: 1m 3s\n",
      "201:\tlearn: 0.1273652\ttotal: 32.2s\tremaining: 1m 3s\n",
      "202:\tlearn: 0.1268891\ttotal: 32.3s\tremaining: 1m 3s\n",
      "203:\tlearn: 0.1262407\ttotal: 32.5s\tremaining: 1m 3s\n",
      "204:\tlearn: 0.1257693\ttotal: 32.6s\tremaining: 1m 2s\n",
      "205:\tlearn: 0.1255294\ttotal: 32.8s\tremaining: 1m 2s\n",
      "206:\tlearn: 0.1253633\ttotal: 33s\tremaining: 1m 2s\n",
      "207:\tlearn: 0.1249898\ttotal: 33.1s\tremaining: 1m 2s\n",
      "208:\tlearn: 0.1247702\ttotal: 33.3s\tremaining: 1m 2s\n",
      "209:\tlearn: 0.1245644\ttotal: 33.5s\tremaining: 1m 2s\n",
      "210:\tlearn: 0.1242510\ttotal: 33.6s\tremaining: 1m 1s\n",
      "211:\tlearn: 0.1240985\ttotal: 33.8s\tremaining: 1m 1s\n",
      "212:\tlearn: 0.1235180\ttotal: 33.9s\tremaining: 1m 1s\n",
      "213:\tlearn: 0.1231597\ttotal: 34.1s\tremaining: 1m 1s\n",
      "214:\tlearn: 0.1230992\ttotal: 34.3s\tremaining: 1m 1s\n",
      "215:\tlearn: 0.1228319\ttotal: 34.4s\tremaining: 1m 1s\n",
      "216:\tlearn: 0.1222042\ttotal: 34.6s\tremaining: 1m 1s\n",
      "217:\tlearn: 0.1220565\ttotal: 34.8s\tremaining: 1m\n",
      "218:\tlearn: 0.1218535\ttotal: 35s\tremaining: 1m\n",
      "219:\tlearn: 0.1215839\ttotal: 35.1s\tremaining: 1m\n",
      "220:\tlearn: 0.1214413\ttotal: 35.3s\tremaining: 1m\n",
      "221:\tlearn: 0.1212496\ttotal: 35.5s\tremaining: 1m\n",
      "222:\tlearn: 0.1211812\ttotal: 35.7s\tremaining: 1m\n",
      "223:\tlearn: 0.1209753\ttotal: 35.8s\tremaining: 1m\n",
      "224:\tlearn: 0.1209511\ttotal: 36s\tremaining: 60s\n",
      "225:\tlearn: 0.1207246\ttotal: 36.2s\tremaining: 59.8s\n",
      "226:\tlearn: 0.1205164\ttotal: 36.3s\tremaining: 59.7s\n",
      "227:\tlearn: 0.1198002\ttotal: 36.5s\tremaining: 59.6s\n",
      "228:\tlearn: 0.1197998\ttotal: 36.6s\tremaining: 59.3s\n",
      "229:\tlearn: 0.1193364\ttotal: 36.8s\tremaining: 59.2s\n",
      "230:\tlearn: 0.1191494\ttotal: 36.9s\tremaining: 59s\n",
      "231:\tlearn: 0.1189236\ttotal: 37.1s\tremaining: 58.9s\n",
      "232:\tlearn: 0.1187099\ttotal: 37.3s\tremaining: 58.7s\n",
      "233:\tlearn: 0.1185071\ttotal: 37.4s\tremaining: 58.6s\n",
      "234:\tlearn: 0.1183756\ttotal: 37.6s\tremaining: 58.4s\n",
      "235:\tlearn: 0.1182695\ttotal: 37.8s\tremaining: 58.3s\n",
      "236:\tlearn: 0.1178168\ttotal: 37.9s\tremaining: 58.1s\n",
      "237:\tlearn: 0.1176629\ttotal: 38.1s\tremaining: 58s\n",
      "238:\tlearn: 0.1174663\ttotal: 38.3s\tremaining: 57.8s\n",
      "239:\tlearn: 0.1173250\ttotal: 38.5s\tremaining: 57.7s\n",
      "240:\tlearn: 0.1170590\ttotal: 38.6s\tremaining: 57.6s\n",
      "241:\tlearn: 0.1168091\ttotal: 38.8s\tremaining: 57.4s\n",
      "242:\tlearn: 0.1165752\ttotal: 39s\tremaining: 57.3s\n",
      "243:\tlearn: 0.1162703\ttotal: 39.2s\tremaining: 57.1s\n",
      "244:\tlearn: 0.1161021\ttotal: 39.3s\tremaining: 57s\n",
      "245:\tlearn: 0.1159486\ttotal: 39.5s\tremaining: 56.8s\n",
      "246:\tlearn: 0.1159051\ttotal: 39.7s\tremaining: 56.7s\n",
      "247:\tlearn: 0.1154977\ttotal: 39.8s\tremaining: 56.5s\n",
      "248:\tlearn: 0.1152926\ttotal: 40s\tremaining: 56.3s\n",
      "249:\tlearn: 0.1150240\ttotal: 40.2s\tremaining: 56.2s\n",
      "250:\tlearn: 0.1149056\ttotal: 40.3s\tremaining: 56.1s\n",
      "251:\tlearn: 0.1147883\ttotal: 40.5s\tremaining: 55.9s\n",
      "252:\tlearn: 0.1141509\ttotal: 40.6s\tremaining: 55.7s\n",
      "253:\tlearn: 0.1140532\ttotal: 40.8s\tremaining: 55.5s\n",
      "254:\tlearn: 0.1140362\ttotal: 40.9s\tremaining: 55.4s\n",
      "255:\tlearn: 0.1137991\ttotal: 41.1s\tremaining: 55.3s\n",
      "256:\tlearn: 0.1137055\ttotal: 41.3s\tremaining: 55.1s\n",
      "257:\tlearn: 0.1134555\ttotal: 41.4s\tremaining: 54.9s\n",
      "258:\tlearn: 0.1134060\ttotal: 41.6s\tremaining: 54.8s\n",
      "259:\tlearn: 0.1133147\ttotal: 41.7s\tremaining: 54.6s\n",
      "260:\tlearn: 0.1127832\ttotal: 41.9s\tremaining: 54.4s\n",
      "261:\tlearn: 0.1123529\ttotal: 42.1s\tremaining: 54.3s\n",
      "262:\tlearn: 0.1122596\ttotal: 42.2s\tremaining: 54.1s\n",
      "263:\tlearn: 0.1120815\ttotal: 42.4s\tremaining: 53.9s\n",
      "264:\tlearn: 0.1120366\ttotal: 42.5s\tremaining: 53.8s\n",
      "265:\tlearn: 0.1118201\ttotal: 42.7s\tremaining: 53.6s\n",
      "266:\tlearn: 0.1115774\ttotal: 42.9s\tremaining: 53.5s\n",
      "267:\tlearn: 0.1113030\ttotal: 43s\tremaining: 53.3s\n",
      "268:\tlearn: 0.1111771\ttotal: 43.2s\tremaining: 53.1s\n",
      "269:\tlearn: 0.1110401\ttotal: 43.3s\tremaining: 53s\n",
      "270:\tlearn: 0.1108610\ttotal: 43.5s\tremaining: 52.8s\n",
      "271:\tlearn: 0.1107342\ttotal: 43.7s\tremaining: 52.6s\n",
      "272:\tlearn: 0.1106893\ttotal: 43.8s\tremaining: 52.5s\n",
      "273:\tlearn: 0.1106878\ttotal: 44s\tremaining: 52.3s\n",
      "274:\tlearn: 0.1104857\ttotal: 44.1s\tremaining: 52.1s\n",
      "275:\tlearn: 0.1103130\ttotal: 44.3s\tremaining: 52s\n",
      "276:\tlearn: 0.1100928\ttotal: 44.5s\tremaining: 51.8s\n",
      "277:\tlearn: 0.1098714\ttotal: 44.6s\tremaining: 51.7s\n",
      "278:\tlearn: 0.1093942\ttotal: 44.8s\tremaining: 51.5s\n",
      "279:\tlearn: 0.1093234\ttotal: 45s\tremaining: 51.4s\n",
      "280:\tlearn: 0.1088848\ttotal: 45.2s\tremaining: 51.3s\n",
      "281:\tlearn: 0.1085849\ttotal: 45.3s\tremaining: 51.1s\n",
      "282:\tlearn: 0.1080558\ttotal: 45.5s\tremaining: 51s\n",
      "283:\tlearn: 0.1078435\ttotal: 45.7s\tremaining: 50.8s\n",
      "284:\tlearn: 0.1075860\ttotal: 45.8s\tremaining: 50.6s\n",
      "285:\tlearn: 0.1072797\ttotal: 46s\tremaining: 50.5s\n",
      "286:\tlearn: 0.1071872\ttotal: 46.1s\tremaining: 50.3s\n",
      "287:\tlearn: 0.1071789\ttotal: 46.3s\tremaining: 50.2s\n",
      "288:\tlearn: 0.1069715\ttotal: 46.5s\tremaining: 50s\n",
      "289:\tlearn: 0.1067569\ttotal: 46.6s\tremaining: 49.8s\n",
      "290:\tlearn: 0.1067300\ttotal: 46.8s\tremaining: 49.7s\n",
      "291:\tlearn: 0.1066315\ttotal: 46.9s\tremaining: 49.5s\n",
      "292:\tlearn: 0.1063710\ttotal: 47.1s\tremaining: 49.4s\n",
      "293:\tlearn: 0.1062421\ttotal: 47.3s\tremaining: 49.2s\n",
      "294:\tlearn: 0.1060805\ttotal: 47.4s\tremaining: 49s\n",
      "295:\tlearn: 0.1058977\ttotal: 47.6s\tremaining: 48.9s\n",
      "296:\tlearn: 0.1058976\ttotal: 47.7s\tremaining: 48.6s\n",
      "297:\tlearn: 0.1054832\ttotal: 47.8s\tremaining: 48.5s\n",
      "298:\tlearn: 0.1053424\ttotal: 48s\tremaining: 48.3s\n",
      "299:\tlearn: 0.1051407\ttotal: 48.2s\tremaining: 48.2s\n",
      "300:\tlearn: 0.1047933\ttotal: 48.3s\tremaining: 48s\n",
      "301:\tlearn: 0.1046354\ttotal: 48.5s\tremaining: 47.9s\n",
      "302:\tlearn: 0.1044626\ttotal: 48.7s\tremaining: 47.7s\n",
      "303:\tlearn: 0.1043864\ttotal: 48.9s\tremaining: 47.6s\n",
      "304:\tlearn: 0.1043162\ttotal: 49.1s\tremaining: 47.5s\n",
      "305:\tlearn: 0.1039295\ttotal: 49.2s\tremaining: 47.3s\n",
      "306:\tlearn: 0.1036864\ttotal: 49.4s\tremaining: 47.2s\n",
      "307:\tlearn: 0.1034644\ttotal: 49.6s\tremaining: 47s\n",
      "308:\tlearn: 0.1032121\ttotal: 49.8s\tremaining: 46.9s\n",
      "309:\tlearn: 0.1027120\ttotal: 49.9s\tremaining: 46.7s\n",
      "310:\tlearn: 0.1025478\ttotal: 50.1s\tremaining: 46.6s\n",
      "311:\tlearn: 0.1023928\ttotal: 50.3s\tremaining: 46.4s\n",
      "312:\tlearn: 0.1022535\ttotal: 50.5s\tremaining: 46.3s\n",
      "313:\tlearn: 0.1021119\ttotal: 50.6s\tremaining: 46.1s\n",
      "314:\tlearn: 0.1019203\ttotal: 50.8s\tremaining: 45.9s\n",
      "315:\tlearn: 0.1017338\ttotal: 51s\tremaining: 45.8s\n",
      "316:\tlearn: 0.1015518\ttotal: 51.1s\tremaining: 45.6s\n"
     ]
    },
    {
     "name": "stdout",
     "output_type": "stream",
     "text": [
      "317:\tlearn: 0.1014022\ttotal: 51.3s\tremaining: 45.5s\n",
      "318:\tlearn: 0.1013784\ttotal: 51.4s\tremaining: 45.3s\n",
      "319:\tlearn: 0.1008695\ttotal: 51.6s\tremaining: 45.2s\n",
      "320:\tlearn: 0.1006495\ttotal: 51.8s\tremaining: 45s\n",
      "321:\tlearn: 0.1004973\ttotal: 51.9s\tremaining: 44.8s\n",
      "322:\tlearn: 0.1004102\ttotal: 52.1s\tremaining: 44.7s\n",
      "323:\tlearn: 0.1002921\ttotal: 52.3s\tremaining: 44.5s\n",
      "324:\tlearn: 0.1002495\ttotal: 52.4s\tremaining: 44.3s\n",
      "325:\tlearn: 0.1000604\ttotal: 52.6s\tremaining: 44.2s\n",
      "326:\tlearn: 0.0998091\ttotal: 52.7s\tremaining: 44s\n",
      "327:\tlearn: 0.0995148\ttotal: 52.9s\tremaining: 43.9s\n",
      "328:\tlearn: 0.0994586\ttotal: 53s\tremaining: 43.7s\n",
      "329:\tlearn: 0.0993406\ttotal: 53.2s\tremaining: 43.5s\n",
      "330:\tlearn: 0.0990190\ttotal: 53.4s\tremaining: 43.4s\n",
      "331:\tlearn: 0.0987410\ttotal: 53.6s\tremaining: 43.2s\n",
      "332:\tlearn: 0.0985596\ttotal: 53.7s\tremaining: 43.1s\n",
      "333:\tlearn: 0.0984735\ttotal: 53.9s\tremaining: 42.9s\n",
      "334:\tlearn: 0.0983665\ttotal: 54s\tremaining: 42.7s\n",
      "335:\tlearn: 0.0983665\ttotal: 54.1s\tremaining: 42.5s\n",
      "336:\tlearn: 0.0982291\ttotal: 54.2s\tremaining: 42.3s\n",
      "337:\tlearn: 0.0982035\ttotal: 54.4s\tremaining: 42.2s\n",
      "338:\tlearn: 0.0981549\ttotal: 54.5s\tremaining: 42s\n",
      "339:\tlearn: 0.0980015\ttotal: 54.7s\tremaining: 41.8s\n",
      "340:\tlearn: 0.0979767\ttotal: 54.9s\tremaining: 41.7s\n",
      "341:\tlearn: 0.0977749\ttotal: 55s\tremaining: 41.5s\n",
      "342:\tlearn: 0.0976473\ttotal: 55.2s\tremaining: 41.4s\n",
      "343:\tlearn: 0.0974881\ttotal: 55.4s\tremaining: 41.2s\n",
      "344:\tlearn: 0.0972494\ttotal: 55.5s\tremaining: 41s\n",
      "345:\tlearn: 0.0970682\ttotal: 55.7s\tremaining: 40.9s\n",
      "346:\tlearn: 0.0969879\ttotal: 55.8s\tremaining: 40.7s\n",
      "347:\tlearn: 0.0969214\ttotal: 56s\tremaining: 40.5s\n",
      "348:\tlearn: 0.0967683\ttotal: 56.2s\tremaining: 40.4s\n",
      "349:\tlearn: 0.0966589\ttotal: 56.3s\tremaining: 40.2s\n",
      "350:\tlearn: 0.0965537\ttotal: 56.5s\tremaining: 40.1s\n",
      "351:\tlearn: 0.0963295\ttotal: 56.7s\tremaining: 39.9s\n",
      "352:\tlearn: 0.0961247\ttotal: 56.8s\tremaining: 39.8s\n",
      "353:\tlearn: 0.0959073\ttotal: 57s\tremaining: 39.6s\n",
      "354:\tlearn: 0.0957254\ttotal: 57.1s\tremaining: 39.4s\n",
      "355:\tlearn: 0.0955107\ttotal: 57.3s\tremaining: 39.3s\n",
      "356:\tlearn: 0.0952813\ttotal: 57.5s\tremaining: 39.1s\n",
      "357:\tlearn: 0.0950051\ttotal: 57.6s\tremaining: 39s\n",
      "358:\tlearn: 0.0947183\ttotal: 57.8s\tremaining: 38.8s\n",
      "359:\tlearn: 0.0945885\ttotal: 58s\tremaining: 38.7s\n",
      "360:\tlearn: 0.0944278\ttotal: 58.2s\tremaining: 38.5s\n",
      "361:\tlearn: 0.0942917\ttotal: 58.3s\tremaining: 38.3s\n",
      "362:\tlearn: 0.0941493\ttotal: 58.5s\tremaining: 38.2s\n",
      "363:\tlearn: 0.0940551\ttotal: 58.7s\tremaining: 38s\n",
      "364:\tlearn: 0.0939369\ttotal: 58.8s\tremaining: 37.9s\n",
      "365:\tlearn: 0.0939341\ttotal: 59s\tremaining: 37.7s\n",
      "366:\tlearn: 0.0938202\ttotal: 59.2s\tremaining: 37.6s\n",
      "367:\tlearn: 0.0938097\ttotal: 59.3s\tremaining: 37.4s\n",
      "368:\tlearn: 0.0936776\ttotal: 59.5s\tremaining: 37.2s\n",
      "369:\tlearn: 0.0936155\ttotal: 59.6s\tremaining: 37.1s\n",
      "370:\tlearn: 0.0935603\ttotal: 59.8s\tremaining: 36.9s\n",
      "371:\tlearn: 0.0933554\ttotal: 60s\tremaining: 36.8s\n",
      "372:\tlearn: 0.0932634\ttotal: 1m\tremaining: 36.6s\n",
      "373:\tlearn: 0.0931937\ttotal: 1m\tremaining: 36.4s\n",
      "374:\tlearn: 0.0930650\ttotal: 1m\tremaining: 36.3s\n",
      "375:\tlearn: 0.0930064\ttotal: 1m\tremaining: 36.1s\n",
      "376:\tlearn: 0.0928736\ttotal: 1m\tremaining: 36s\n",
      "377:\tlearn: 0.0928244\ttotal: 1m\tremaining: 35.8s\n",
      "378:\tlearn: 0.0924457\ttotal: 1m 1s\tremaining: 35.6s\n",
      "379:\tlearn: 0.0923524\ttotal: 1m 1s\tremaining: 35.5s\n",
      "380:\tlearn: 0.0921964\ttotal: 1m 1s\tremaining: 35.3s\n",
      "381:\tlearn: 0.0921285\ttotal: 1m 1s\tremaining: 35.1s\n",
      "382:\tlearn: 0.0921113\ttotal: 1m 1s\tremaining: 35s\n",
      "383:\tlearn: 0.0919178\ttotal: 1m 1s\tremaining: 34.8s\n",
      "384:\tlearn: 0.0918325\ttotal: 1m 2s\tremaining: 34.7s\n",
      "385:\tlearn: 0.0917286\ttotal: 1m 2s\tremaining: 34.5s\n",
      "386:\tlearn: 0.0916865\ttotal: 1m 2s\tremaining: 34.3s\n",
      "387:\tlearn: 0.0916054\ttotal: 1m 2s\tremaining: 34.2s\n",
      "388:\tlearn: 0.0914781\ttotal: 1m 2s\tremaining: 34s\n",
      "389:\tlearn: 0.0910668\ttotal: 1m 2s\tremaining: 33.9s\n",
      "390:\tlearn: 0.0909354\ttotal: 1m 3s\tremaining: 33.7s\n",
      "391:\tlearn: 0.0907641\ttotal: 1m 3s\tremaining: 33.5s\n",
      "392:\tlearn: 0.0906347\ttotal: 1m 3s\tremaining: 33.4s\n",
      "393:\tlearn: 0.0905441\ttotal: 1m 3s\tremaining: 33.2s\n",
      "394:\tlearn: 0.0904686\ttotal: 1m 3s\tremaining: 33.1s\n",
      "395:\tlearn: 0.0903087\ttotal: 1m 3s\tremaining: 32.9s\n",
      "396:\tlearn: 0.0902691\ttotal: 1m 4s\tremaining: 32.7s\n",
      "397:\tlearn: 0.0902672\ttotal: 1m 4s\tremaining: 32.6s\n",
      "398:\tlearn: 0.0902136\ttotal: 1m 4s\tremaining: 32.4s\n",
      "399:\tlearn: 0.0901686\ttotal: 1m 4s\tremaining: 32.2s\n",
      "400:\tlearn: 0.0901527\ttotal: 1m 4s\tremaining: 32.1s\n",
      "401:\tlearn: 0.0901277\ttotal: 1m 4s\tremaining: 31.9s\n",
      "402:\tlearn: 0.0900345\ttotal: 1m 4s\tremaining: 31.8s\n",
      "403:\tlearn: 0.0900191\ttotal: 1m 5s\tremaining: 31.6s\n",
      "404:\tlearn: 0.0898618\ttotal: 1m 5s\tremaining: 31.4s\n",
      "405:\tlearn: 0.0897674\ttotal: 1m 5s\tremaining: 31.3s\n",
      "406:\tlearn: 0.0896991\ttotal: 1m 5s\tremaining: 31.1s\n",
      "407:\tlearn: 0.0895651\ttotal: 1m 5s\tremaining: 30.9s\n",
      "408:\tlearn: 0.0895299\ttotal: 1m 5s\tremaining: 30.8s\n",
      "409:\tlearn: 0.0894308\ttotal: 1m 6s\tremaining: 30.6s\n",
      "410:\tlearn: 0.0892707\ttotal: 1m 6s\tremaining: 30.5s\n",
      "411:\tlearn: 0.0892542\ttotal: 1m 6s\tremaining: 30.3s\n",
      "412:\tlearn: 0.0890649\ttotal: 1m 6s\tremaining: 30.1s\n",
      "413:\tlearn: 0.0890033\ttotal: 1m 6s\tremaining: 30s\n",
      "414:\tlearn: 0.0889923\ttotal: 1m 6s\tremaining: 29.8s\n",
      "415:\tlearn: 0.0888656\ttotal: 1m 7s\tremaining: 29.7s\n",
      "416:\tlearn: 0.0888082\ttotal: 1m 7s\tremaining: 29.5s\n",
      "417:\tlearn: 0.0886132\ttotal: 1m 7s\tremaining: 29.3s\n",
      "418:\tlearn: 0.0886052\ttotal: 1m 7s\tremaining: 29.2s\n",
      "419:\tlearn: 0.0885738\ttotal: 1m 7s\tremaining: 29s\n",
      "420:\tlearn: 0.0884540\ttotal: 1m 7s\tremaining: 28.9s\n",
      "421:\tlearn: 0.0883397\ttotal: 1m 8s\tremaining: 28.7s\n",
      "422:\tlearn: 0.0883186\ttotal: 1m 8s\tremaining: 28.5s\n",
      "423:\tlearn: 0.0881233\ttotal: 1m 8s\tremaining: 28.4s\n",
      "424:\tlearn: 0.0880252\ttotal: 1m 8s\tremaining: 28.2s\n",
      "425:\tlearn: 0.0880154\ttotal: 1m 8s\tremaining: 28s\n",
      "426:\tlearn: 0.0879199\ttotal: 1m 8s\tremaining: 27.9s\n",
      "427:\tlearn: 0.0877669\ttotal: 1m 8s\tremaining: 27.7s\n",
      "428:\tlearn: 0.0877112\ttotal: 1m 9s\tremaining: 27.6s\n",
      "429:\tlearn: 0.0876898\ttotal: 1m 9s\tremaining: 27.4s\n",
      "430:\tlearn: 0.0875872\ttotal: 1m 9s\tremaining: 27.2s\n",
      "431:\tlearn: 0.0875722\ttotal: 1m 9s\tremaining: 27.1s\n",
      "432:\tlearn: 0.0872419\ttotal: 1m 9s\tremaining: 26.9s\n",
      "433:\tlearn: 0.0872419\ttotal: 1m 9s\tremaining: 26.7s\n",
      "434:\tlearn: 0.0870695\ttotal: 1m 9s\tremaining: 26.5s\n",
      "435:\tlearn: 0.0870695\ttotal: 1m 10s\tremaining: 26.3s\n",
      "436:\tlearn: 0.0869553\ttotal: 1m 10s\tremaining: 26.2s\n",
      "437:\tlearn: 0.0869161\ttotal: 1m 10s\tremaining: 26s\n",
      "438:\tlearn: 0.0868998\ttotal: 1m 10s\tremaining: 25.9s\n",
      "439:\tlearn: 0.0867306\ttotal: 1m 10s\tremaining: 25.7s\n",
      "440:\tlearn: 0.0866927\ttotal: 1m 10s\tremaining: 25.5s\n",
      "441:\tlearn: 0.0866432\ttotal: 1m 10s\tremaining: 25.4s\n",
      "442:\tlearn: 0.0865066\ttotal: 1m 11s\tremaining: 25.2s\n",
      "443:\tlearn: 0.0863603\ttotal: 1m 11s\tremaining: 25.1s\n",
      "444:\tlearn: 0.0861718\ttotal: 1m 11s\tremaining: 24.9s\n",
      "445:\tlearn: 0.0860499\ttotal: 1m 11s\tremaining: 24.7s\n",
      "446:\tlearn: 0.0859048\ttotal: 1m 11s\tremaining: 24.6s\n",
      "447:\tlearn: 0.0858958\ttotal: 1m 11s\tremaining: 24.4s\n",
      "448:\tlearn: 0.0857805\ttotal: 1m 12s\tremaining: 24.3s\n",
      "449:\tlearn: 0.0857490\ttotal: 1m 12s\tremaining: 24.1s\n",
      "450:\tlearn: 0.0855421\ttotal: 1m 12s\tremaining: 23.9s\n",
      "451:\tlearn: 0.0854938\ttotal: 1m 12s\tremaining: 23.8s\n",
      "452:\tlearn: 0.0854824\ttotal: 1m 12s\tremaining: 23.6s\n",
      "453:\tlearn: 0.0853804\ttotal: 1m 12s\tremaining: 23.4s\n",
      "454:\tlearn: 0.0853515\ttotal: 1m 13s\tremaining: 23.3s\n",
      "455:\tlearn: 0.0851232\ttotal: 1m 13s\tremaining: 23.1s\n",
      "456:\tlearn: 0.0849600\ttotal: 1m 13s\tremaining: 23s\n",
      "457:\tlearn: 0.0847105\ttotal: 1m 13s\tremaining: 22.8s\n",
      "458:\tlearn: 0.0845905\ttotal: 1m 13s\tremaining: 22.6s\n",
      "459:\tlearn: 0.0845290\ttotal: 1m 13s\tremaining: 22.5s\n",
      "460:\tlearn: 0.0844353\ttotal: 1m 14s\tremaining: 22.3s\n",
      "461:\tlearn: 0.0843114\ttotal: 1m 14s\tremaining: 22.2s\n",
      "462:\tlearn: 0.0840972\ttotal: 1m 14s\tremaining: 22s\n",
      "463:\tlearn: 0.0840065\ttotal: 1m 14s\tremaining: 21.9s\n",
      "464:\tlearn: 0.0839284\ttotal: 1m 14s\tremaining: 21.7s\n",
      "465:\tlearn: 0.0839098\ttotal: 1m 14s\tremaining: 21.5s\n",
      "466:\tlearn: 0.0839098\ttotal: 1m 14s\tremaining: 21.3s\n",
      "467:\tlearn: 0.0839098\ttotal: 1m 14s\tremaining: 21.1s\n",
      "468:\tlearn: 0.0839098\ttotal: 1m 15s\tremaining: 20.9s\n",
      "469:\tlearn: 0.0839098\ttotal: 1m 15s\tremaining: 20.8s\n",
      "470:\tlearn: 0.0837137\ttotal: 1m 15s\tremaining: 20.6s\n",
      "471:\tlearn: 0.0836138\ttotal: 1m 15s\tremaining: 20.4s\n",
      "472:\tlearn: 0.0834352\ttotal: 1m 15s\tremaining: 20.3s\n",
      "473:\tlearn: 0.0833220\ttotal: 1m 15s\tremaining: 20.1s\n",
      "474:\tlearn: 0.0833024\ttotal: 1m 15s\tremaining: 20s\n",
      "475:\tlearn: 0.0832117\ttotal: 1m 16s\tremaining: 19.8s\n"
     ]
    },
    {
     "name": "stdout",
     "output_type": "stream",
     "text": [
      "476:\tlearn: 0.0830767\ttotal: 1m 16s\tremaining: 19.6s\n",
      "477:\tlearn: 0.0829505\ttotal: 1m 16s\tremaining: 19.5s\n",
      "478:\tlearn: 0.0828704\ttotal: 1m 16s\tremaining: 19.3s\n",
      "479:\tlearn: 0.0828548\ttotal: 1m 16s\tremaining: 19.2s\n",
      "480:\tlearn: 0.0827017\ttotal: 1m 16s\tremaining: 19s\n",
      "481:\tlearn: 0.0826311\ttotal: 1m 16s\tremaining: 18.9s\n",
      "482:\tlearn: 0.0826264\ttotal: 1m 17s\tremaining: 18.7s\n",
      "483:\tlearn: 0.0825630\ttotal: 1m 17s\tremaining: 18.5s\n",
      "484:\tlearn: 0.0825630\ttotal: 1m 17s\tremaining: 18.4s\n",
      "485:\tlearn: 0.0824964\ttotal: 1m 17s\tremaining: 18.2s\n",
      "486:\tlearn: 0.0824330\ttotal: 1m 17s\tremaining: 18s\n",
      "487:\tlearn: 0.0823281\ttotal: 1m 17s\tremaining: 17.9s\n",
      "488:\tlearn: 0.0823045\ttotal: 1m 18s\tremaining: 17.7s\n",
      "489:\tlearn: 0.0821560\ttotal: 1m 18s\tremaining: 17.6s\n",
      "490:\tlearn: 0.0821151\ttotal: 1m 18s\tremaining: 17.4s\n",
      "491:\tlearn: 0.0820698\ttotal: 1m 18s\tremaining: 17.2s\n",
      "492:\tlearn: 0.0817200\ttotal: 1m 18s\tremaining: 17.1s\n",
      "493:\tlearn: 0.0816050\ttotal: 1m 18s\tremaining: 16.9s\n",
      "494:\tlearn: 0.0816050\ttotal: 1m 18s\tremaining: 16.7s\n",
      "495:\tlearn: 0.0815617\ttotal: 1m 19s\tremaining: 16.6s\n",
      "496:\tlearn: 0.0815617\ttotal: 1m 19s\tremaining: 16.4s\n",
      "497:\tlearn: 0.0814690\ttotal: 1m 19s\tremaining: 16.2s\n",
      "498:\tlearn: 0.0813112\ttotal: 1m 19s\tremaining: 16.1s\n",
      "499:\tlearn: 0.0812354\ttotal: 1m 19s\tremaining: 15.9s\n",
      "500:\tlearn: 0.0811119\ttotal: 1m 19s\tremaining: 15.8s\n",
      "501:\tlearn: 0.0809017\ttotal: 1m 19s\tremaining: 15.6s\n",
      "502:\tlearn: 0.0808933\ttotal: 1m 20s\tremaining: 15.4s\n",
      "503:\tlearn: 0.0808509\ttotal: 1m 20s\tremaining: 15.3s\n",
      "504:\tlearn: 0.0808334\ttotal: 1m 20s\tremaining: 15.1s\n",
      "505:\tlearn: 0.0807711\ttotal: 1m 20s\tremaining: 15s\n",
      "506:\tlearn: 0.0806117\ttotal: 1m 20s\tremaining: 14.8s\n",
      "507:\tlearn: 0.0805081\ttotal: 1m 20s\tremaining: 14.6s\n",
      "508:\tlearn: 0.0803683\ttotal: 1m 21s\tremaining: 14.5s\n",
      "509:\tlearn: 0.0801395\ttotal: 1m 21s\tremaining: 14.3s\n",
      "510:\tlearn: 0.0799645\ttotal: 1m 21s\tremaining: 14.2s\n",
      "511:\tlearn: 0.0798119\ttotal: 1m 21s\tremaining: 14s\n",
      "512:\tlearn: 0.0796569\ttotal: 1m 21s\tremaining: 13.9s\n",
      "513:\tlearn: 0.0794801\ttotal: 1m 21s\tremaining: 13.7s\n",
      "514:\tlearn: 0.0791311\ttotal: 1m 22s\tremaining: 13.5s\n",
      "515:\tlearn: 0.0790248\ttotal: 1m 22s\tremaining: 13.4s\n",
      "516:\tlearn: 0.0789117\ttotal: 1m 22s\tremaining: 13.2s\n",
      "517:\tlearn: 0.0787413\ttotal: 1m 22s\tremaining: 13.1s\n",
      "518:\tlearn: 0.0786258\ttotal: 1m 22s\tremaining: 12.9s\n",
      "519:\tlearn: 0.0785076\ttotal: 1m 22s\tremaining: 12.7s\n",
      "520:\tlearn: 0.0784464\ttotal: 1m 23s\tremaining: 12.6s\n",
      "521:\tlearn: 0.0784145\ttotal: 1m 23s\tremaining: 12.4s\n",
      "522:\tlearn: 0.0783079\ttotal: 1m 23s\tremaining: 12.3s\n",
      "523:\tlearn: 0.0782540\ttotal: 1m 23s\tremaining: 12.1s\n",
      "524:\tlearn: 0.0781229\ttotal: 1m 23s\tremaining: 11.9s\n",
      "525:\tlearn: 0.0779886\ttotal: 1m 23s\tremaining: 11.8s\n",
      "526:\tlearn: 0.0779842\ttotal: 1m 23s\tremaining: 11.6s\n",
      "527:\tlearn: 0.0778361\ttotal: 1m 24s\tremaining: 11.5s\n",
      "528:\tlearn: 0.0776601\ttotal: 1m 24s\tremaining: 11.3s\n",
      "529:\tlearn: 0.0775428\ttotal: 1m 24s\tremaining: 11.2s\n",
      "530:\tlearn: 0.0775089\ttotal: 1m 24s\tremaining: 11s\n",
      "531:\tlearn: 0.0775077\ttotal: 1m 24s\tremaining: 10.8s\n",
      "532:\tlearn: 0.0774419\ttotal: 1m 24s\tremaining: 10.7s\n",
      "533:\tlearn: 0.0772762\ttotal: 1m 25s\tremaining: 10.5s\n",
      "534:\tlearn: 0.0772261\ttotal: 1m 25s\tremaining: 10.4s\n",
      "535:\tlearn: 0.0771813\ttotal: 1m 25s\tremaining: 10.2s\n",
      "536:\tlearn: 0.0767452\ttotal: 1m 25s\tremaining: 10s\n",
      "537:\tlearn: 0.0764857\ttotal: 1m 25s\tremaining: 9.88s\n",
      "538:\tlearn: 0.0762807\ttotal: 1m 25s\tremaining: 9.72s\n",
      "539:\tlearn: 0.0762787\ttotal: 1m 26s\tremaining: 9.56s\n",
      "540:\tlearn: 0.0761563\ttotal: 1m 26s\tremaining: 9.4s\n",
      "541:\tlearn: 0.0761560\ttotal: 1m 26s\tremaining: 9.24s\n",
      "542:\tlearn: 0.0761402\ttotal: 1m 26s\tremaining: 9.08s\n",
      "543:\tlearn: 0.0761052\ttotal: 1m 26s\tremaining: 8.92s\n",
      "544:\tlearn: 0.0760350\ttotal: 1m 26s\tremaining: 8.76s\n",
      "545:\tlearn: 0.0759304\ttotal: 1m 26s\tremaining: 8.6s\n",
      "546:\tlearn: 0.0757876\ttotal: 1m 27s\tremaining: 8.45s\n",
      "547:\tlearn: 0.0757791\ttotal: 1m 27s\tremaining: 8.29s\n",
      "548:\tlearn: 0.0757678\ttotal: 1m 27s\tremaining: 8.13s\n",
      "549:\tlearn: 0.0757015\ttotal: 1m 27s\tremaining: 7.96s\n",
      "550:\tlearn: 0.0755664\ttotal: 1m 27s\tremaining: 7.81s\n",
      "551:\tlearn: 0.0755015\ttotal: 1m 27s\tremaining: 7.65s\n",
      "552:\tlearn: 0.0751740\ttotal: 1m 28s\tremaining: 7.49s\n",
      "553:\tlearn: 0.0750853\ttotal: 1m 28s\tremaining: 7.33s\n",
      "554:\tlearn: 0.0750224\ttotal: 1m 28s\tremaining: 7.17s\n",
      "555:\tlearn: 0.0749538\ttotal: 1m 28s\tremaining: 7.01s\n",
      "556:\tlearn: 0.0749311\ttotal: 1m 28s\tremaining: 6.85s\n",
      "557:\tlearn: 0.0748506\ttotal: 1m 28s\tremaining: 6.69s\n",
      "558:\tlearn: 0.0747912\ttotal: 1m 29s\tremaining: 6.53s\n",
      "559:\tlearn: 0.0746926\ttotal: 1m 29s\tremaining: 6.38s\n",
      "560:\tlearn: 0.0744591\ttotal: 1m 29s\tremaining: 6.22s\n",
      "561:\tlearn: 0.0743554\ttotal: 1m 29s\tremaining: 6.06s\n",
      "562:\tlearn: 0.0742776\ttotal: 1m 29s\tremaining: 5.9s\n",
      "563:\tlearn: 0.0742760\ttotal: 1m 29s\tremaining: 5.74s\n",
      "564:\tlearn: 0.0742048\ttotal: 1m 30s\tremaining: 5.58s\n",
      "565:\tlearn: 0.0741469\ttotal: 1m 30s\tremaining: 5.42s\n",
      "566:\tlearn: 0.0741398\ttotal: 1m 30s\tremaining: 5.26s\n",
      "567:\tlearn: 0.0740113\ttotal: 1m 30s\tremaining: 5.1s\n",
      "568:\tlearn: 0.0740063\ttotal: 1m 30s\tremaining: 4.94s\n",
      "569:\tlearn: 0.0738652\ttotal: 1m 30s\tremaining: 4.79s\n",
      "570:\tlearn: 0.0737152\ttotal: 1m 31s\tremaining: 4.63s\n",
      "571:\tlearn: 0.0736501\ttotal: 1m 31s\tremaining: 4.47s\n",
      "572:\tlearn: 0.0735691\ttotal: 1m 31s\tremaining: 4.31s\n",
      "573:\tlearn: 0.0735068\ttotal: 1m 31s\tremaining: 4.15s\n",
      "574:\tlearn: 0.0734776\ttotal: 1m 31s\tremaining: 3.99s\n",
      "575:\tlearn: 0.0734085\ttotal: 1m 31s\tremaining: 3.83s\n",
      "576:\tlearn: 0.0734084\ttotal: 1m 31s\tremaining: 3.67s\n",
      "577:\tlearn: 0.0733675\ttotal: 1m 32s\tremaining: 3.51s\n",
      "578:\tlearn: 0.0732454\ttotal: 1m 32s\tremaining: 3.35s\n",
      "579:\tlearn: 0.0730940\ttotal: 1m 32s\tremaining: 3.19s\n",
      "580:\tlearn: 0.0729595\ttotal: 1m 32s\tremaining: 3.03s\n",
      "581:\tlearn: 0.0728704\ttotal: 1m 32s\tremaining: 2.87s\n",
      "582:\tlearn: 0.0728421\ttotal: 1m 33s\tremaining: 2.71s\n",
      "583:\tlearn: 0.0727724\ttotal: 1m 33s\tremaining: 2.56s\n",
      "584:\tlearn: 0.0726470\ttotal: 1m 33s\tremaining: 2.4s\n",
      "585:\tlearn: 0.0726118\ttotal: 1m 33s\tremaining: 2.24s\n",
      "586:\tlearn: 0.0725036\ttotal: 1m 33s\tremaining: 2.08s\n",
      "587:\tlearn: 0.0723342\ttotal: 1m 33s\tremaining: 1.92s\n",
      "588:\tlearn: 0.0721804\ttotal: 1m 34s\tremaining: 1.76s\n",
      "589:\tlearn: 0.0721547\ttotal: 1m 34s\tremaining: 1.6s\n",
      "590:\tlearn: 0.0720767\ttotal: 1m 34s\tremaining: 1.44s\n",
      "591:\tlearn: 0.0720767\ttotal: 1m 34s\tremaining: 1.28s\n",
      "592:\tlearn: 0.0720767\ttotal: 1m 34s\tremaining: 1.12s\n",
      "593:\tlearn: 0.0720505\ttotal: 1m 34s\tremaining: 957ms\n",
      "594:\tlearn: 0.0720262\ttotal: 1m 34s\tremaining: 798ms\n",
      "595:\tlearn: 0.0719408\ttotal: 1m 35s\tremaining: 638ms\n",
      "596:\tlearn: 0.0718896\ttotal: 1m 35s\tremaining: 479ms\n",
      "597:\tlearn: 0.0717600\ttotal: 1m 35s\tremaining: 319ms\n",
      "598:\tlearn: 0.0717580\ttotal: 1m 35s\tremaining: 160ms\n",
      "599:\tlearn: 0.0717526\ttotal: 1m 35s\tremaining: 0us\n"
     ]
    },
    {
     "data": {
      "text/plain": [
       "<catboost.core.CatBoostClassifier at 0x1c134f9f1d0>"
      ]
     },
     "execution_count": 294,
     "metadata": {},
     "output_type": "execute_result"
    }
   ],
   "source": [
    "catboost.fit(data_train.drop(['hash'], axis = 1), is_mal_train)"
   ]
  },
  {
   "cell_type": "code",
   "execution_count": 295,
   "metadata": {},
   "outputs": [
    {
     "data": {
      "text/plain": [
       "0.9874"
      ]
     },
     "execution_count": 295,
     "metadata": {},
     "output_type": "execute_result"
    }
   ],
   "source": [
    "catboost.score(data_train.drop(['hash'], axis = 1), is_mal_train)"
   ]
  },
  {
   "cell_type": "code",
   "execution_count": 296,
   "metadata": {},
   "outputs": [
    {
     "data": {
      "text/plain": [
       "0.9309"
      ]
     },
     "execution_count": 296,
     "metadata": {},
     "output_type": "execute_result"
    }
   ],
   "source": [
    "catboost.score(data_yesun.drop(['hash'], axis = 1), is_mal_yesun)"
   ]
  },
  {
   "cell_type": "code",
   "execution_count": 409,
   "metadata": {},
   "outputs": [
    {
     "data": {
      "text/plain": [
       "<matplotlib.axes._subplots.AxesSubplot at 0x1c1564c6cf8>"
      ]
     },
     "execution_count": 409,
     "metadata": {},
     "output_type": "execute_result"
    },
    {
     "data": {
      "image/png": "[encoded data removed]",
      "text/plain": [
       "<Figure size 1008x576 with 1 Axes>"
      ]
     },
     "metadata": {
      "needs_background": "light"
     },
     "output_type": "display_data"
    },
    {
     "data": {
      "image/png": "[encoded data removed]",
      "text/plain": [
       "<Figure size 1008x576 with 1 Axes>"
      ]
     },
     "metadata": {
      "needs_background": "light"
     },
     "output_type": "display_data"
    }
   ],
   "source": [
    "values = np.array([list(v) for v in sorted(zip(data_train.drop(['hash'], axis = 1).columns, rf.feature_importances_), key=lambda x: x[1] * -1)])\n",
    "imp = pd.DataFrame(values[:,1], index = values[:,0], columns=[\"feature_importance\"])\n",
    "imp.feature_importance = imp.feature_importance.astype(float)\n",
    "\n",
    "num = 100\n",
    "imp.plot(figsize=(14,8), grid=True, xlim=(-1,num))\n",
    "imp.plot(figsize=(14,8), grid=True, xlim=(num,len(data_train.drop(['hash'], axis = 1).columns)))"
   ]
  },
  {
   "cell_type": "code",
   "execution_count": 411,
   "metadata": {},
   "outputs": [
    {
     "name": "stdout",
     "output_type": "stream",
     "text": [
      "MajorOperatingSystemVersion\n",
      "SizeOfUninitializedData\n",
      "MinorSubsystemVersion\n",
      "DebugSize\n",
      "EntropyMax\n",
      "Characteristics\n",
      "CheckSum\n",
      "ax\n",
      "SizeOfInitializedData\n",
      "bl\n",
      "GeneratedCheckSum\n",
      "ebp\n",
      "ecx\n",
      "bh\n",
      "NumberOfSections\n",
      "ch\n",
      "AddressOfEntryPoint\n",
      "bx\n",
      "eax\n",
      "EntropyStd\n",
      "SizeOfHeapReserve\n",
      "retn\n",
      "PeExe\n",
      "SectionCnt\n",
      "ah\n",
      "pop\n",
      "PeDriver\n",
      "gs\n",
      "esp_x\n",
      "Machine\n",
      "SizeOfHeapCommit\n",
      "FunctionStatic\n",
      "EntropyMoreThan7Cnt\n",
      "PeDll\n",
      "ExportSize\n",
      "FunctionLibCnt\n",
      "xor\n",
      "SizeOfHeaders\n",
      "MinorLinkerVersion\n",
      "SizeOfImage\n",
      "edi\n",
      "SectionExecutionSizeMax\n",
      "SectionExecutionSizeMin\n",
      "cx\n",
      "IatRva\n",
      "al\n",
      "si\n",
      "cs\n",
      "MajorLinkerVersion\n",
      "cl\n",
      "SectionSizeMean\n",
      "SizeOfOptionalHeader\n",
      "fs\n",
      "SectionExecutionSizeMean\n",
      "MinorOperatingSystemVersion\n",
      "mov\n",
      "SizeOfStackCommit\n",
      "EntropyMean\n",
      "dl\n",
      "SectionSizeMin\n",
      "ds\n",
      "MajorImageVersion\n",
      "FunctionCnt\n",
      "edx\n",
      "test\n",
      "add_x\n",
      "TimeDateStamp\n",
      "esi_x\n",
      "push\n",
      "SectionWriteCnt\n",
      "dh\n",
      "FileAlignment\n",
      "jmp\n",
      "SizeOfStackReserve\n",
      "call_x\n",
      "FunctionHidden\n",
      "es\n",
      "SectionExecutableCnt\n",
      "jnz\n",
      "FunctionThunk\n",
      "PointerToSymbolTable\n",
      "sub_x\n",
      "dx\n",
      "SectionSizeSum\n",
      "MinorImageVersion\n",
      "ImageBase\n",
      "TotalSizePE\n",
      "SizeOfCode\n",
      "MajorSubsystemVersion\n",
      "di\n",
      "NumberOfRvaAndSizes\n",
      "NumberOfSymbols\n",
      "SectionAlignment\n",
      "bp\n",
      "ebx\n",
      "ss\n",
      "SectionSizeMax\n",
      "FunctionNoRetCnt\n",
      "and\n",
      "jz_x\n"
     ]
    }
   ],
   "source": [
    "for v in imp.index:\n",
    "    print(v)"
   ]
  },
  {
   "cell_type": "code",
   "execution_count": 412,
   "metadata": {},
   "outputs": [
    {
     "data": {
      "text/plain": [
       "RandomForestClassifier(bootstrap=True, class_weight=None, criterion='gini',\n",
       "            max_depth=28, max_features='auto', max_leaf_nodes=None,\n",
       "            min_impurity_decrease=0.0, min_impurity_split=None,\n",
       "            min_samples_leaf=1, min_samples_split=2,\n",
       "            min_weight_fraction_leaf=0.0, n_estimators=200, n_jobs=-1,\n",
       "            oob_score=False, random_state=1, verbose=0, warm_start=False)"
      ]
     },
     "execution_count": 412,
     "metadata": {},
     "output_type": "execute_result"
    }
   ],
   "source": [
    "x_data_t = data_train[imp.index[:num]]\n",
    "\n",
    "rf = RandomForestClassifier(n_estimators=200, random_state=1, n_jobs=-1, max_depth=28, bootstrap=True)\n",
    "rf.fit(x_data_t, is_mal_train)"
   ]
  },
  {
   "cell_type": "code",
   "execution_count": 413,
   "metadata": {},
   "outputs": [
    {
     "data": {
      "text/plain": [
       "1.0"
      ]
     },
     "execution_count": 413,
     "metadata": {},
     "output_type": "execute_result"
    }
   ],
   "source": [
    "\n",
    "rf.score(x_data_t, is_mal_train)\n"
   ]
  },
  {
   "cell_type": "code",
   "execution_count": 414,
   "metadata": {},
   "outputs": [
    {
     "data": {
      "text/plain": [
       "0.9503"
      ]
     },
     "execution_count": 414,
     "metadata": {},
     "output_type": "execute_result"
    }
   ],
   "source": [
    "\n",
    "rf.score(data_yesun[imp.index[:num]], is_mal_yesun)"
   ]
  },
  {
   "cell_type": "code",
   "execution_count": 398,
   "metadata": {},
   "outputs": [
    {
     "data": {
      "text/plain": [
       "<matplotlib.axes._subplots.AxesSubplot at 0x1c148e4b438>"
      ]
     },
     "execution_count": 398,
     "metadata": {},
     "output_type": "execute_result"
    },
    {
     "data": {
      "image/png": "[encoded data removed]",
      "text/plain": [
       "<Figure size 1008x576 with 1 Axes>"
      ]
     },
     "metadata": {
      "needs_background": "light"
     },
     "output_type": "display_data"
    },
    {
     "data": {
      "image/png": "[encoded data removed]",
      "text/plain": [
       "<Figure size 1008x576 with 1 Axes>"
      ]
     },
     "metadata": {
      "needs_background": "light"
     },
     "output_type": "display_data"
    }
   ],
   "source": [
    "values = np.array([list(v) for v in sorted(zip(x_data_t.columns, rf.feature_importances_), key=lambda x: x[1] * -1)])\n",
    "imp = pd.DataFrame(values[:,1], index = values[:,0], columns=[\"feature_importance\"])\n",
    "imp.feature_importance = imp.feature_importance.astype(float)\n",
    "\n",
    "num = 200\n",
    "imp.plot(figsize=(14,8), grid=True, xlim=(-1,num))\n",
    "imp.plot(figsize=(14,8), grid=True, xlim=(num,len(x_data_t.columns)))"
   ]
  },
  {
   "cell_type": "code",
   "execution_count": 400,
   "metadata": {},
   "outputs": [
    {
     "name": "stdout",
     "output_type": "stream",
     "text": [
      "PeDll\n",
      "ImageBase\n",
      "PeExe\n",
      "ExportSize\n",
      "Characteristics\n",
      "EntropyMax\n",
      "CheckSum\n",
      "call_x\n",
      "SectionSizeSum\n",
      "TotalSizePE\n",
      "TimeDateStamp\n",
      "malloc\n",
      "EntropyStd\n",
      "SectionSizeMean\n",
      "GeneratedCheckSum\n",
      "MajorOperatingSystemVersion\n",
      "FunctionLibCnt\n",
      "pop\n",
      "FunctionCnt\n",
      "DebugSize\n",
      "AddressOfEntryPoint\n",
      "EntropyMoreThan7Cnt\n",
      "MajorLinkerVersion\n",
      "EntropyMean\n",
      "SizeOfImage\n",
      "SectionSizeMax\n",
      "test\n",
      "esi_x\n",
      "edi\n",
      "jz_y\n",
      "jnz\n",
      "FunctionHidden\n",
      "dd_y\n",
      "dw_y\n",
      "ebx\n",
      "add_x\n",
      "jz_x\n",
      "MajorSubsystemVersion\n",
      "SizeOfCode\n",
      "ebp\n",
      "SectionExecutionSizeMin\n",
      "alloc\n",
      "MajorImageVersion\n",
      "retn\n",
      "SectionSizeMin\n",
      "ecx\n",
      "db_y\n",
      "IatRva\n",
      "xchg\n",
      "movzx\n",
      "mov\n",
      "xor\n",
      "SectionWriteCnt\n",
      "esp_x\n",
      "jle\n",
      "ch\n",
      "edx\n",
      "ae_1537\n",
      "lea_x\n",
      "push\n",
      "ae_1395\n",
      "SectionExecutionSizeMean\n",
      "eax\n",
      "SizeOfInitializedData\n",
      "jmp\n",
      "not\n",
      "ax\n",
      "FunctionThunk\n",
      "public\n",
      "bh\n",
      "ae_1401\n",
      "cx\n",
      "ae_1523\n",
      "ah\n",
      "neg\n",
      "dl\n",
      "ae_1389\n",
      "sub_x\n",
      "proc\n",
      "ae_1427\n",
      "ae_1369\n",
      "inc_x\n",
      "dh\n",
      "bl\n",
      "ae_1371\n",
      "microsoft\n",
      "SectionCnt\n",
      "dec_x\n",
      "ae_1376\n",
      "ae_1405\n",
      "free\n",
      "windows\n",
      "ae_1406\n",
      "ae_1399\n",
      "ae_1187\n",
      "ae_1531\n",
      "and\n",
      "ae_1382\n",
      "ae_1437\n",
      "cl\n",
      "ae_1423\n",
      "rol\n",
      "al\n",
      "SectionExecutionSizeMax\n",
      "ae_1377\n",
      "NumberOfSections\n",
      "ae_1461\n",
      "leave\n",
      "ae_1483\n",
      "FunctionStatic\n",
      "ae_1409\n",
      "ae_1556\n",
      "ae_1474\n",
      "ae_1439\n",
      "dx\n",
      "exitprocess\n",
      "ae_1226\n",
      "ae_1408\n",
      "getcurrentprocess\n",
      "bx\n",
      "setnl\n",
      "xml\n",
      "FunctionNoRetCnt\n",
      "imul\n",
      "handler\n",
      "sbb\n",
      "init\n",
      "nop\n",
      "security\n",
      "SectionExecutableCnt\n",
      "di\n",
      "kernel\n",
      ".exe\n",
      "setendoffile\n",
      "si\n",
      "div\n",
      "SizeOfUninitializedData\n",
      "bt\n",
      "getcurrentthreadid\n",
      "SizeOfStackCommit\n",
      "translatemessage\n",
      "std_x\n",
      "MinorLinkerVersion\n",
      "initializecriticalsection\n",
      "fs\n",
      "memcpy\n",
      "movsb\n",
      "getprocaddress\n",
      "var\n",
      "writefile\n",
      "waitforsingleobject\n",
      "setfilepointer\n",
      "Software\n",
      "failed\n",
      "readfile\n",
      "gs\n",
      "terminateprocess\n",
      "DLL\n",
      "cmp\n",
      "SizeOfStackReserve\n",
      "rep\n",
      "environment\n",
      "closehandle\n",
      "create\n",
      "fild\n",
      "virtualfree\n",
      "bp\n",
      "SizeOfHeaders\n",
      "Virtual\n",
      "clc\n",
      "error\n",
      "heap\n",
      "es\n",
      "lea_y\n",
      "sleep\n",
      "exe\n",
      "getfilesize\n",
      "move\n",
      "pushf\n",
      "loadlibrarya\n",
      "createthread\n",
      "ds\n",
      "cs\n",
      "load\n",
      "call_y\n",
      "freelibrary\n",
      "isdebuggerpresent\n",
      "dw_x\n",
      "unhandledexceptionfilter\n",
      "ss\n",
      "shell32\n",
      "gettickcount\n",
      "getlasterror\n",
      "multibytetowidechar\n",
      ".idata_exe\n",
      "virtualprotect\n",
      "virtual\n",
      "rtlunwind\n",
      ".idata\n",
      "dd_x\n"
     ]
    }
   ],
   "source": [
    "for v in imp.index:\n",
    "    print(v)"
   ]
  },
  {
   "cell_type": "code",
   "execution_count": 1,
   "metadata": {},
   "outputs": [],
   "source": [
    "from tensorflow.examples.tutorials.mnist import input_data\n",
    "import tensorflow as tf\n",
    "from tensorflow.contrib import layers\n",
    "import pandas as pd\n",
    "import numpy as np\n",
    "import matplotlib.pyplot as plt\n",
    "\n",
    "from sklearn.ensemble import RandomForestClassifier\n",
    "from xgboost import XGBClassifier\n",
    "from sklearn.tree import DecisionTreeClassifier\n",
    "from sklearn.ensemble import ExtraTreesClassifier\n",
    "import lightgbm as lgb\n",
    "import catboost as cb"
   ]
  },
  {
   "cell_type": "code",
   "execution_count": 2,
   "metadata": {},
   "outputs": [],
   "source": [
    "#constants\n",
    "learning_rate = 0.00001\n",
    "training_epoch = 30\n",
    "batch_size = 100"
   ]
  },
  {
   "cell_type": "code",
   "execution_count": 3,
   "metadata": {},
   "outputs": [],
   "source": [
    "x_train = pd.read_csv('./ae_train.csv').sort_values('hash')#.drop(['hash'], axis = 1).values\n",
    "y_train = pd.read_excel('../DataChallenge_/result_train/label.xlsx').sort_values(by='hash')#.drop(['hash'], axis = 1).values\n",
    "x_data = pd.merge(y_train, x_train, on='hash', how='left')\n",
    "x_train = x_data.drop(['hash', 'is_mal'], axis = 1).fillna(0)\n",
    "y_train = x_data['is_mal'].to_frame()\n",
    "\n",
    "x_test = pd.read_csv('./ae_yesun.csv').sort_values('hash')#.drop(['hash'], axis = 1).values\n",
    "y_test = pd.read_excel('../DataChallenge_/result_yesun/label.xlsx').sort_values(by='hash')#.drop(['hash'], axis = 1).values\n",
    "x_data = pd.merge(y_test, x_test, on='hash', how='left')\n",
    "x_test = x_data.drop(['hash', 'is_mal'], axis = 1).fillna(0)\n",
    "y_test = x_data['is_mal'].to_frame()"
   ]
  },
  {
   "cell_type": "code",
   "execution_count": 27,
   "metadata": {},
   "outputs": [
    {
     "ename": "AttributeError",
     "evalue": "'numpy.ndarray' object has no attribute 'quantile'",
     "output_type": "error",
     "traceback": [
      "\u001b[1;31m---------------------------------------------------------------------------\u001b[0m",
      "\u001b[1;31mAttributeError\u001b[0m                            Traceback (most recent call last)",
      "\u001b[1;32m<ipython-input-27-2c829636d7e6>\u001b[0m in \u001b[0;36m<module>\u001b[1;34m\u001b[0m\n\u001b[1;32m----> 1\u001b[1;33m \u001b[0mnineth\u001b[0m \u001b[1;33m=\u001b[0m \u001b[0mx_train\u001b[0m\u001b[1;33m.\u001b[0m\u001b[0mquantile\u001b[0m\u001b[1;33m(\u001b[0m\u001b[1;33m[\u001b[0m\u001b[1;36m0.9\u001b[0m\u001b[1;33m]\u001b[0m\u001b[1;33m)\u001b[0m\u001b[1;33m\u001b[0m\u001b[1;33m\u001b[0m\u001b[0m\n\u001b[0m\u001b[0;32m      2\u001b[0m \u001b[1;31m# data_train.loc[data_train[data_train['AddressOfEntryPoint'] < nineth['AddressOfEntryPoint'].values[0]].index]['AddressOfEntryPoint'] = -99\u001b[0m\u001b[1;33m\u001b[0m\u001b[1;33m\u001b[0m\u001b[1;33m\u001b[0m\u001b[0m\n\u001b[0;32m      3\u001b[0m \u001b[1;33m\u001b[0m\u001b[0m\n\u001b[0;32m      4\u001b[0m \u001b[1;32mfor\u001b[0m \u001b[0mcol\u001b[0m \u001b[1;32min\u001b[0m \u001b[0mx_train\u001b[0m\u001b[1;33m:\u001b[0m\u001b[1;33m\u001b[0m\u001b[1;33m\u001b[0m\u001b[0m\n\u001b[0;32m      5\u001b[0m     \u001b[1;32mif\u001b[0m \u001b[0mcol\u001b[0m \u001b[1;33m==\u001b[0m \u001b[1;34m'hash'\u001b[0m\u001b[1;33m:\u001b[0m\u001b[1;33m\u001b[0m\u001b[1;33m\u001b[0m\u001b[0m\n",
      "\u001b[1;31mAttributeError\u001b[0m: 'numpy.ndarray' object has no attribute 'quantile'"
     ]
    }
   ],
   "source": [
    "nineth = x_train.quantile([0.9])\n",
    "# data_train.loc[data_train[data_train['AddressOfEntryPoint'] < nineth['AddressOfEntryPoint'].values[0]].index]['AddressOfEntryPoint'] = -99\n",
    "\n",
    "for col in x_train:\n",
    "    if col == 'hash':\n",
    "        continue\n",
    "    x_train.loc[x_train[col] > nineth[col].values[0], col] = nineth[col].values[0]\n",
    "    \n",
    "    x_train[col] = (x_train[col] - x_train[col].mean()) / x_train[col].std()"
   ]
  },
  {
   "cell_type": "code",
   "execution_count": 19,
   "metadata": {},
   "outputs": [],
   "source": [
    "x_train = x_train.values\n",
    "y_train = y_train.values"
   ]
  },
  {
   "cell_type": "code",
   "execution_count": 12,
   "metadata": {},
   "outputs": [],
   "source": [
    "nineth = x_test.quantile([0.9])\n",
    "# data_train.loc[data_train[data_train['AddressOfEntryPoint'] < nineth['AddressOfEntryPoint'].values[0]].index]['AddressOfEntryPoint'] = -99\n",
    "\n",
    "for col in x_test:\n",
    "    if col == 'hash':\n",
    "        continue\n",
    "    x_test.loc[x_test[col] > nineth[col].values[0], col] = nineth[col].values[0]\n",
    "    \n",
    "    x_test[col] = (x_test[col] - x_test[col].mean()) / x_test[col].std()"
   ]
  },
  {
   "cell_type": "code",
   "execution_count": 6,
   "metadata": {},
   "outputs": [],
   "source": [
    "X = tf.placeholder(tf.float32, [None, 1568])\n",
    "Y = tf.placeholder(tf.float32, [None, 1])\n",
    "keep_prob = tf.placeholder(tf.float32)"
   ]
  },
  {
   "cell_type": "code",
   "execution_count": 7,
   "metadata": {},
   "outputs": [],
   "source": [
    "#layer1\n",
    "with tf.name_scope(\"layer1\") as scope:\n",
    "    W1 = tf.get_variable(\"W1\", [1568, 1024], tf.float32, layers.xavier_initializer())\n",
    "    b1 = tf.Variable(tf.random_normal([1024]), name=\"bias1\")\n",
    "\n",
    "    layer1 = tf.nn.relu(tf.matmul(X, W1) + b1)\n",
    "    layer1 = tf.nn.dropout(layer1, keep_prob)\n",
    "\n",
    "#layer2\n",
    "with tf.name_scope(\"layer2\") as scope:\n",
    "    W2 = tf.get_variable(\"W2\", [1024,512], tf.float32, layers.xavier_initializer())\n",
    "    b2 = tf.Variable(tf.random_normal([512]), name=\"bias2\")\n",
    "\n",
    "    layer2 = tf.nn.relu(tf.matmul(layer1, W2) + b2)\n",
    "    layer2 = tf.nn.dropout(layer2, keep_prob)\n",
    "\n",
    "#layer3\n",
    "with tf.name_scope(\"layer3\") as scope:\n",
    "    W3 = tf.get_variable(\"W3\", [512,256], tf.float32, layers.xavier_initializer())\n",
    "    b3 = tf.Variable(tf.random_normal([256]), name=\"bias3\")\n",
    "\n",
    "    layer3 = tf.nn.relu(tf.matmul(layer2, W3) + b3)\n",
    "    layer3 = tf.nn.dropout(layer3, keep_prob)\n",
    "\n",
    "#layer4\n",
    "with tf.name_scope(\"layer4\") as scope:\n",
    "    W4 = tf.get_variable(\"W4\", [256,128], tf.float32, layers.xavier_initializer())\n",
    "    b4 = tf.Variable(tf.random_normal([128]), name=\"bias4\")\n",
    "\n",
    "    layer4 = tf.nn.relu(tf.matmul(layer3, W4) + b4)\n",
    "    layer4 = tf.nn.dropout(layer4, keep_prob)\n",
    "\n",
    "#layer5\n",
    "with tf.name_scope(\"layer5\") as scope:\n",
    "    W5 = tf.get_variable(\"W5\", [128,64], tf.float32, layers.xavier_initializer())\n",
    "    b5 = tf.Variable(tf.random_normal([64]), name=\"bias5\")\n",
    "\n",
    "    layer5 = tf.nn.relu(tf.matmul(layer4, W5) + b5)\n",
    "    layer5 = tf.nn.dropout(layer5, keep_prob)\n",
    "\n",
    "#layer6\n",
    "with tf.name_scope(\"layer6\") as scope:\n",
    "    W6 = tf.get_variable(\"W6\", [64,32], tf.float32, layers.xavier_initializer())\n",
    "    b6 = tf.Variable(tf.random_normal([32]), name=\"bias6\")\n",
    "\n",
    "    layer6 = tf.nn.relu(tf.matmul(layer5, W6) + b6)\n",
    "    layer6 = tf.nn.dropout(layer6, keep_prob)\n",
    "\n",
    "#layer7\n",
    "with tf.name_scope(\"layer7\") as scope:\n",
    "    W7 = tf.get_variable(\"W7\", [32,16], tf.float32, layers.xavier_initializer())\n",
    "    b7 = tf.Variable(tf.random_normal([16]), name=\"bias7\")\n",
    "\n",
    "    layer7 = tf.nn.relu(tf.matmul(layer6, W7) + b7)\n",
    "    layer7 = tf.nn.dropout(layer7, keep_prob)\n",
    "\n",
    "#layer8\n",
    "with tf.name_scope(\"layer8\") as scope:\n",
    "    W8 = tf.get_variable(\"W8\", [16,8], tf.float32, layers.xavier_initializer())\n",
    "    b8 = tf.Variable(tf.random_normal([8]), name=\"bias8\")\n",
    "\n",
    "    layer8 = tf.nn.relu(tf.matmul(layer7, W8) + b8)\n",
    "    layer8 = tf.nn.dropout(layer8, keep_prob)\n",
    "\n",
    "#hypothesis\n",
    "with tf.name_scope(\"hypothesis\") as scope:\n",
    "    W9 = tf.get_variable(\"W9\", [8,1], tf.float32, layers.xavier_initializer())\n",
    "    b9 = tf.Variable(tf.random_normal([1]), name=\"bias9\")\n",
    "\n",
    "    logits = tf.nn.sigmoid(tf.matmul(layer8, W9) + b9)"
   ]
  },
  {
   "cell_type": "code",
   "execution_count": 16,
   "metadata": {},
   "outputs": [],
   "source": [
    "#cost function\n",
    "cost = tf.reduce_mean(tf.square(logits - Y), -1, name=\"cost\")\n",
    "\n",
    "train = tf.train.GradientDescentOptimizer(learning_rate).minimize(cost)\n",
    "\n",
    "#verification\n",
    "prediction = tf.argmax(logits, -1)\n",
    "accuracy = tf.reduce_mean(tf.cast(tf.equal(prediction, tf.argmax(Y, -1)), tf.float32))"
   ]
  },
  {
   "cell_type": "code",
   "execution_count": 26,
   "metadata": {
    "scrolled": false
   },
   "outputs": [
    {
     "name": "stdout",
     "output_type": "stream",
     "text": [
      "[array([[nan],\n",
      "       [nan],\n",
      "       [nan],\n",
      "       ...,\n",
      "       [nan],\n",
      "       [nan],\n",
      "       [nan]], dtype=float32)]\n"
     ]
    },
    {
     "data": {
      "text/plain": [
       "'\\n    for epoch in range(training_epoch):\\n        avg_cost = 0\\n        total_batch = int(10000 / batch_size)\\n\\n        for i in range(total_batch):\\n            try:\\n                batch_x = x_train[i * batch_size: (i+1) * batch_size]\\n                batch_y = y_train[i * batch_size: (i+1) * batch_size]\\n            except:\\n                batch_x = x_train[i * batch_size:]\\n                batch_y = y_train[i * batch_size:]\\n                \\n            cost_val, _ = sess.run([cost, train], feed_dict={X:batch_x,Y:batch_y, keep_prob:0.7})\\n            avg_cost += cost_val/total_batch\\n            \\n            print(cost_val)\\n\\n        print(\"[epoch : {}]  cost {}\".format(epoch, avg_cost))\\n\\n#     print(\"accuracy : {}\".format(sess.run(accuracy, feed_dict={X:x_test, Y:y_test, keep_prob:1})))\\n'"
      ]
     },
     "execution_count": 26,
     "metadata": {},
     "output_type": "execute_result"
    }
   ],
   "source": [
    "with tf.Session() as sess:\n",
    "    sess.run(tf.global_variables_initializer())\n",
    "    \n",
    "    print(sess.run([logits], feed_dict={X:x_train, Y:y_train, keep_prob:0.7}))\n",
    "'''\n",
    "    for epoch in range(training_epoch):\n",
    "        avg_cost = 0\n",
    "        total_batch = int(10000 / batch_size)\n",
    "\n",
    "        for i in range(total_batch):\n",
    "            try:\n",
    "                batch_x = x_train[i * batch_size: (i+1) * batch_size]\n",
    "                batch_y = y_train[i * batch_size: (i+1) * batch_size]\n",
    "            except:\n",
    "                batch_x = x_train[i * batch_size:]\n",
    "                batch_y = y_train[i * batch_size:]\n",
    "                \n",
    "            cost_val, _ = sess.run([cost, train], feed_dict={X:batch_x,Y:batch_y, keep_prob:0.7})\n",
    "            avg_cost += cost_val/total_batch\n",
    "            \n",
    "            print(cost_val)\n",
    "\n",
    "        print(\"[epoch : {}]  cost {}\".format(epoch, avg_cost))\n",
    "\n",
    "#     print(\"accuracy : {}\".format(sess.run(accuracy, feed_dict={X:x_test, Y:y_test, keep_prob:1})))\n",
    "'''"
   ]
  },
  {
   "cell_type": "code",
   "execution_count": null,
   "metadata": {},
   "outputs": [],
   "source": []
  }
 ],
 "metadata": {
  "kernelspec": {
   "display_name": "Python 3",
   "language": "python",
   "name": "python3"
  },
  "language_info": {
   "codemirror_mode": {
    "name": "ipython",
    "version": 3
   },
   "file_extension": ".py",
   "mimetype": "text/x-python",
   "name": "python",
   "nbconvert_exporter": "python",
   "pygments_lexer": "ipython3",
   "version": "3.6.7"
  }
 },
 "nbformat": 4,
 "nbformat_minor": 2
}
